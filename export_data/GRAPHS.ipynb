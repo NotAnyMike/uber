{
 "cells": [
  {
   "cell_type": "markdown",
   "metadata": {},
   "source": [
    "# graph_generator()\n",
    "\n",
    "\n",
    "## IMPLEMENTACIÓN\n",
    "\n",
    "  \n",
    "Esta función se encarga de archivar las observaciones (.csv) importadas desde Netlogo por fecha y hora, a la vez que interpreta los datos de salida gráficamente. \n",
    "El procedimiento para su implementación es el siguiente:\n",
    "\n",
    "1. Ejecutar el modelo en netlogo (uber.nlogo).\n",
    "2. Al finalizar las simulaciones, se deberá ejecutar la función graph_generator() desde este notebook.\n",
    "3. La función guardara las respectivas graficas en directorios clasificados por fecha y hora, con su respectiva transición(gif).\n",
    "\n"
   ]
  },
  {
   "cell_type": "code",
   "execution_count": null,
   "metadata": {
    "collapsed": true
   },
   "outputs": [],
   "source": [
    "from PIL import *\n",
    "import matplotlib.pyplot as plt\n",
    "import pandas as pd\n",
    "import numpy as np\n",
    "import seaborn as sns\n",
    "import os\n",
    "from apng import APNG\n",
    "from IPython.display import Image\n",
    "from os import walk\n",
    "import time\n",
    "import shutil"
   ]
  },
  {
   "cell_type": "code",
   "execution_count": 20,
   "metadata": {
    "collapsed": true
   },
   "outputs": [],
   "source": [
    "def graph_generator():\n",
    "    \n",
    "    #PRIMEROS DATOS EXPORTADOS \n",
    "    outs_files = os.listdir('.')\n",
    "    old_dir = [i for i in outs_files if \".\" not in i]\n",
    "    csvs = [i for i in outs_files if \".csv\" in i]\n",
    "    csvs\n",
    "\n",
    "    folders = [file[:23] for file in csvs]\n",
    "    folders = set(folders)\n",
    "    \n",
    "    #CLASIFICANDOLOS Y MOVIENDOLOS \n",
    "    for folder in folders:\n",
    "        os.makedirs(str(folder+'/people/gif'))\n",
    "        os.makedirs(str(folder+ '/drivers/gif'))                \n",
    "        for csv in csvs:\n",
    "            if folder in csv:\n",
    "                shutil.move(csv, folder)\n",
    "\n",
    "    \n",
    "    listdir1 = os.listdir('.')\n",
    "    listdir2 = [i for i in listdir1 if \"___\" in i]\n",
    "    for n in old_dir:    \n",
    "        listdir2.remove(str(n))\n",
    "        listdir2\n",
    "    listdir2\n",
    "\n",
    "    for dirr in listdir2:\n",
    "\n",
    "        outs_files1 = os.listdir('./' + dirr)\n",
    "        csvs1 = [i for i in outs_files1 if \"_.csv\" in i]\n",
    "        csvs1\n",
    "\n",
    "\n",
    "        for csv1 in csvs1:\n",
    "\n",
    "            d = pd.read_csv(dirr+'/'+csv1, error_bad_lines=False)\n",
    "            df = pd.DataFrame(data=d)\n",
    "            df2 = df[df['breed'] == 'people']\n",
    "            df3 = df[df['breed'] == 'drivers']\n",
    "\n",
    "         #GENERANDO GRAFICAS Y GUARDANDOLAS EN DIRECTORIO  \n",
    "            #people\n",
    "            plot = sns.jointplot(x=\"x\", y=\"y\", data=df2, kind=\"kde\", size=10, xlim=(-5,40), ylim=(-5,40))\n",
    "            #import ipdb; ipdb.set_trace()\n",
    "            plt.savefig(plt.savefig(str(dirr+'/people/people' + '_' + str(csvs1.index(csv1)) + '.png')))\n",
    "            #drivers \n",
    "            sns.jointplot(x=\"x\", y=\"y\", data=df3, kind=\"kde\", size=10, xlim=(-10,50), ylim=(-5,40))\n",
    "            plt.savefig(plt.savefig(str(dirr+'/drivers/drivers' + '_' + str(csvs1.index(csv1)) + '.png')))\n",
    "\n",
    "    #ANIMACIÓN\n",
    "\n",
    "        groups = ['df2','df3']\n",
    "        for n in groups:\n",
    "            #people\n",
    "            if groups[groups.index(n)] == 'df2':\n",
    "\n",
    "                def ls(ruta = str(dirr+'/people')):\n",
    "\n",
    "                    return next(walk(ruta))[2]\n",
    "\n",
    "                images_people = ls()\n",
    "                images_people\n",
    "\n",
    "\n",
    "                for m in images_people:                           \n",
    "                    img = str(str(dirr +'/people/' + m))      \n",
    "                    img\n",
    "                    graphs = images_people\n",
    "                    graphs[int(images_people.index(m))] = img                        \n",
    "\n",
    "                APNG.from_files(graphs, delay = 400).save(str(dirr+'/people/gif/trans_p_'+dirr+'.png'))\n",
    "                Image(filename = str(dirr+'/people/gif/trans_p_'+dirr+'.png'))\n",
    "            #drivers\n",
    "            elif groups[groups.index(n)] == 'df3':\n",
    "\n",
    "                def ls(ruta = str(dirr+'/drivers')):\n",
    "\n",
    "                    return next(walk(ruta))[2]\n",
    "\n",
    "                images_drivers = ls()\n",
    "                images_drivers\n",
    "\n",
    "\n",
    "                for x in images_drivers: \n",
    "\n",
    "                    immg = str(str(dirr +'/drivers/' + x))       \n",
    "                    immg\n",
    "                    graphs = images_drivers\n",
    "                    graphs[int(images_drivers.index(x))] = immg                        \n",
    "\n",
    "                APNG.from_files(graphs,delay=400).save(str(dirr+'/drivers/gif/trans_d_'+dirr+'.png'))\n",
    "                Image(filename=str(dirr+'/drivers/gif/trans_d_'+dirr+'.png'))\n",
    "\n"
   ]
  },
  {
   "cell_type": "code",
   "execution_count": 21,
   "metadata": {},
   "outputs": [
    {
     "name": "stderr",
     "output_type": "stream",
     "text": [
      "/Library/Frameworks/Python.framework/Versions/3.5/lib/python3.5/site-packages/matplotlib/pyplot.py:528: RuntimeWarning: More than 20 figures have been opened. Figures created through the pyplot interface (`matplotlib.pyplot.figure`) are retained until explicitly closed and may consume too much memory. (To control this warning, see the rcParam `figure.max_open_warning`).\n",
      "  max_open_warning, RuntimeWarning)\n"
     ]
    }
   ],
   "source": [
    "graph_generator()"
   ]
  },
  {
   "cell_type": "code",
   "execution_count": null,
   "metadata": {
    "collapsed": true
   },
   "outputs": [],
   "source": []
  }
 ],
 "metadata": {
  "kernelspec": {
   "display_name": "Python 3",
   "language": "python",
   "name": "python3"
  },
  "language_info": {
   "codemirror_mode": {
    "name": "ipython",
    "version": 3
   },
   "file_extension": ".py",
   "mimetype": "text/x-python",
   "name": "python",
   "nbconvert_exporter": "python",
   "pygments_lexer": "ipython3",
   "version": "3.5.2"
  }
 },
 "nbformat": 4,
 "nbformat_minor": 2
}
