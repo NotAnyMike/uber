{
 "cells": [
  {
   "cell_type": "code",
   "execution_count": 1,
   "metadata": {
    "scrolled": true
   },
   "outputs": [
    {
     "data": {
      "application/javascript": [
       "IPython.OutputArea.prototype._should_scroll = function(lines) {\n",
       "    return false;\n",
       "}"
      ],
      "text/plain": [
       "<IPython.core.display.Javascript object>"
      ]
     },
     "metadata": {},
     "output_type": "display_data"
    }
   ],
   "source": [
    "%%javascript\n",
    "IPython.OutputArea.prototype._should_scroll = function(lines) {\n",
    "    return false;\n",
    "}\n"
   ]
  },
  {
   "cell_type": "code",
   "execution_count": 17,
   "metadata": {
    "scrolled": true
   },
   "outputs": [],
   "source": [
    "import pandas as pd\n",
    "import numpy as np\n",
    "import seaborn as sns\n",
    "import os\n",
    "from IPython.display import Image\n",
    "from matplotlib import pyplot as plt\n",
    "from apng import APNG\n",
    "import shutil\n",
    "from shapely.geometry import shape\n",
    "from shapely.ops import unary_union\n",
    "import fiona\n",
    "import networkx as nx\n",
    "import itertools\n",
    "import matplotlib.pyplot as plt\n",
    "from IPython.core.debugger import Tracer\n",
    "from shutil import copyfile\n",
    "\n",
    "\n",
    "%matplotlib inline"
   ]
  },
  {
   "cell_type": "code",
   "execution_count": 3,
   "metadata": {
    "scrolled": true
   },
   "outputs": [],
   "source": [
    "pd.options.display.max_columns = 100"
   ]
  },
  {
   "cell_type": "code",
   "execution_count": 4,
   "metadata": {
    "scrolled": true
   },
   "outputs": [],
   "source": [
    "df = pd.read_csv('encuesta_corr.csv', error_bad_lines=False)\n",
    "zat = pd.read_csv('zat.csv', sep=\";\")"
   ]
  },
  {
   "cell_type": "code",
   "execution_count": 5,
   "metadata": {
    "scrolled": true
   },
   "outputs": [
    {
     "data": {
      "text/html": [
       "<div>\n",
       "<style scoped>\n",
       "    .dataframe tbody tr th:only-of-type {\n",
       "        vertical-align: middle;\n",
       "    }\n",
       "\n",
       "    .dataframe tbody tr th {\n",
       "        vertical-align: top;\n",
       "    }\n",
       "\n",
       "    .dataframe thead th {\n",
       "        text-align: right;\n",
       "    }\n",
       "</style>\n",
       "<table border=\"1\" class=\"dataframe\">\n",
       "  <thead>\n",
       "    <tr style=\"text-align: right;\">\n",
       "      <th></th>\n",
       "      <th>Unnamed: 0</th>\n",
       "      <th>ID_ENCUESTA</th>\n",
       "      <th>NUMERO_PERSONA</th>\n",
       "      <th>NUMERO_VIAJE</th>\n",
       "      <th>MOTIVOVIAJE</th>\n",
       "      <th>MUNICIPIO_DESTINO</th>\n",
       "      <th>DEPARTAMENTO_DESTINO</th>\n",
       "      <th>TIEMPO_CAMINO</th>\n",
       "      <th>HORA_INICIO</th>\n",
       "      <th>HORA_FIN</th>\n",
       "      <th>MEDIO_PREDOMINANTE</th>\n",
       "      <th>ZAT_DESTINO</th>\n",
       "      <th>ZAT_ORIGEN</th>\n",
       "      <th>MUNICIPIO_ORIGEN</th>\n",
       "      <th>DEPARTAMENTO_ORIGEN</th>\n",
       "      <th>LATITUD_ORIGEN</th>\n",
       "      <th>LATITUD_DESTINO</th>\n",
       "      <th>LONGITUD_ORIGEN</th>\n",
       "      <th>LONGITUD_DESTINO</th>\n",
       "      <th>DIFERENCIA_HORAS</th>\n",
       "      <th>DIA_HABIL</th>\n",
       "      <th>DIA_NOHABIL</th>\n",
       "      <th>PICO_HABIL</th>\n",
       "      <th>PICO_NOHABIL</th>\n",
       "      <th>VALLE_NOHABIL</th>\n",
       "      <th>VALLE_HABIL</th>\n",
       "      <th>y_coord_org</th>\n",
       "      <th>x_coord_org</th>\n",
       "      <th>y_coord_dest</th>\n",
       "      <th>x_coord_dest</th>\n",
       "      <th>hora1_inicio</th>\n",
       "      <th>hora1_fin</th>\n",
       "    </tr>\n",
       "  </thead>\n",
       "  <tbody>\n",
       "    <tr>\n",
       "      <th>0</th>\n",
       "      <td>0</td>\n",
       "      <td>18390069.0</td>\n",
       "      <td>2.0</td>\n",
       "      <td>1.0</td>\n",
       "      <td>Tramites</td>\n",
       "      <td>BOGOTA-DC 11001</td>\n",
       "      <td>Bogota D.C.</td>\n",
       "      <td>10.0</td>\n",
       "      <td>08:05:00</td>\n",
       "      <td>09:55:00</td>\n",
       "      <td>TPC-SITP</td>\n",
       "      <td>238.0</td>\n",
       "      <td>566.0</td>\n",
       "      <td>BOGOTA-DC 11001</td>\n",
       "      <td>Bogota D.C.</td>\n",
       "      <td>4.613055e+13</td>\n",
       "      <td>4.650268e+13</td>\n",
       "      <td>-7.419059e+13</td>\n",
       "      <td>-7.406759e+13</td>\n",
       "      <td>01:50:00</td>\n",
       "      <td>S</td>\n",
       "      <td>NaN</td>\n",
       "      <td>NaN</td>\n",
       "      <td>NaN</td>\n",
       "      <td>NaN</td>\n",
       "      <td>NaN</td>\n",
       "      <td>4.611812</td>\n",
       "      <td>-74.19115</td>\n",
       "      <td>4.652134</td>\n",
       "      <td>-74.068821</td>\n",
       "      <td>8.0</td>\n",
       "      <td>9.0</td>\n",
       "    </tr>\n",
       "  </tbody>\n",
       "</table>\n",
       "</div>"
      ],
      "text/plain": [
       "  Unnamed: 0  ID_ENCUESTA  NUMERO_PERSONA  NUMERO_VIAJE MOTIVOVIAJE  \\\n",
       "0          0   18390069.0             2.0           1.0    Tramites   \n",
       "\n",
       "  MUNICIPIO_DESTINO DEPARTAMENTO_DESTINO  TIEMPO_CAMINO HORA_INICIO  HORA_FIN  \\\n",
       "0   BOGOTA-DC 11001          Bogota D.C.           10.0    08:05:00  09:55:00   \n",
       "\n",
       "  MEDIO_PREDOMINANTE  ZAT_DESTINO  ZAT_ORIGEN MUNICIPIO_ORIGEN  \\\n",
       "0           TPC-SITP        238.0       566.0  BOGOTA-DC 11001   \n",
       "\n",
       "  DEPARTAMENTO_ORIGEN  LATITUD_ORIGEN  LATITUD_DESTINO  LONGITUD_ORIGEN  \\\n",
       "0         Bogota D.C.    4.613055e+13     4.650268e+13    -7.419059e+13   \n",
       "\n",
       "   LONGITUD_DESTINO DIFERENCIA_HORAS DIA_HABIL DIA_NOHABIL PICO_HABIL  \\\n",
       "0     -7.406759e+13         01:50:00         S         NaN        NaN   \n",
       "\n",
       "  PICO_NOHABIL VALLE_NOHABIL VALLE_HABIL  y_coord_org  x_coord_org  \\\n",
       "0          NaN           NaN         NaN     4.611812    -74.19115   \n",
       "\n",
       "   y_coord_dest  x_coord_dest  hora1_inicio  hora1_fin  \n",
       "0      4.652134    -74.068821           8.0        9.0  "
      ]
     },
     "execution_count": 5,
     "metadata": {},
     "output_type": "execute_result"
    }
   ],
   "source": [
    "df['hora1_inicio'] = pd.to_datetime(df['HORA_INICIO'], format='%H:%M:%S').dt.hour\n",
    "df['hora1_fin'] = pd.to_datetime(df['HORA_FIN'], format='%H:%M:%S').dt.hour\n",
    "df[:1]\n"
   ]
  },
  {
   "cell_type": "markdown",
   "metadata": {},
   "source": [
    "## RATE MOVILITY PER HOUR - ALL MEANS OF TRANSPORT "
   ]
  },
  {
   "cell_type": "code",
   "execution_count": 6,
   "metadata": {
    "scrolled": true
   },
   "outputs": [],
   "source": [
    "#roh1 =  "
   ]
  },
  {
   "cell_type": "code",
   "execution_count": 7,
   "metadata": {
    "scrolled": true
   },
   "outputs": [
    {
     "data": {
      "text/html": [
       "<div>\n",
       "<style scoped>\n",
       "    .dataframe tbody tr th:only-of-type {\n",
       "        vertical-align: middle;\n",
       "    }\n",
       "\n",
       "    .dataframe tbody tr th {\n",
       "        vertical-align: top;\n",
       "    }\n",
       "\n",
       "    .dataframe thead th {\n",
       "        text-align: right;\n",
       "    }\n",
       "</style>\n",
       "<table border=\"1\" class=\"dataframe\">\n",
       "  <thead>\n",
       "    <tr style=\"text-align: right;\">\n",
       "      <th></th>\n",
       "      <th>count_inicio</th>\n",
       "      <th>count_fin</th>\n",
       "      <th>% inicio</th>\n",
       "      <th>% fin</th>\n",
       "    </tr>\n",
       "  </thead>\n",
       "  <tbody>\n",
       "    <tr>\n",
       "      <th>6.0</th>\n",
       "      <td>15512</td>\n",
       "      <td>11326</td>\n",
       "      <td>10.701621</td>\n",
       "      <td>7.813729</td>\n",
       "    </tr>\n",
       "    <tr>\n",
       "      <th>12.0</th>\n",
       "      <td>11863</td>\n",
       "      <td>10490</td>\n",
       "      <td>8.184201</td>\n",
       "      <td>7.236978</td>\n",
       "    </tr>\n",
       "    <tr>\n",
       "      <th>17.0</th>\n",
       "      <td>10196</td>\n",
       "      <td>7436</td>\n",
       "      <td>7.034150</td>\n",
       "      <td>5.130045</td>\n",
       "    </tr>\n",
       "    <tr>\n",
       "      <th>18.0</th>\n",
       "      <td>9772</td>\n",
       "      <td>9454</td>\n",
       "      <td>6.741635</td>\n",
       "      <td>6.522249</td>\n",
       "    </tr>\n",
       "    <tr>\n",
       "      <th>7.0</th>\n",
       "      <td>9411</td>\n",
       "      <td>12445</td>\n",
       "      <td>6.492584</td>\n",
       "      <td>8.585719</td>\n",
       "    </tr>\n",
       "    <tr>\n",
       "      <th>14.0</th>\n",
       "      <td>8254</td>\n",
       "      <td>8358</td>\n",
       "      <td>5.694377</td>\n",
       "      <td>5.766126</td>\n",
       "    </tr>\n",
       "    <tr>\n",
       "      <th>13.0</th>\n",
       "      <td>7819</td>\n",
       "      <td>8358</td>\n",
       "      <td>5.394274</td>\n",
       "      <td>5.766126</td>\n",
       "    </tr>\n",
       "    <tr>\n",
       "      <th>5.0</th>\n",
       "      <td>7642</td>\n",
       "      <td>2441</td>\n",
       "      <td>5.272163</td>\n",
       "      <td>1.684029</td>\n",
       "    </tr>\n",
       "    <tr>\n",
       "      <th>11.0</th>\n",
       "      <td>7168</td>\n",
       "      <td>6657</td>\n",
       "      <td>4.945154</td>\n",
       "      <td>4.592618</td>\n",
       "    </tr>\n",
       "    <tr>\n",
       "      <th>8.0</th>\n",
       "      <td>7155</td>\n",
       "      <td>9681</td>\n",
       "      <td>4.936185</td>\n",
       "      <td>6.678855</td>\n",
       "    </tr>\n",
       "    <tr>\n",
       "      <th>15.0</th>\n",
       "      <td>7079</td>\n",
       "      <td>7673</td>\n",
       "      <td>4.883753</td>\n",
       "      <td>5.293549</td>\n",
       "    </tr>\n",
       "    <tr>\n",
       "      <th>10.0</th>\n",
       "      <td>6732</td>\n",
       "      <td>7068</td>\n",
       "      <td>4.644360</td>\n",
       "      <td>4.876164</td>\n",
       "    </tr>\n",
       "    <tr>\n",
       "      <th>16.0</th>\n",
       "      <td>6644</td>\n",
       "      <td>6480</td>\n",
       "      <td>4.583650</td>\n",
       "      <td>4.470507</td>\n",
       "    </tr>\n",
       "    <tr>\n",
       "      <th>9.0</th>\n",
       "      <td>6082</td>\n",
       "      <td>7081</td>\n",
       "      <td>4.195930</td>\n",
       "      <td>4.885133</td>\n",
       "    </tr>\n",
       "    <tr>\n",
       "      <th>19.0</th>\n",
       "      <td>4311</td>\n",
       "      <td>7575</td>\n",
       "      <td>2.974129</td>\n",
       "      <td>5.225940</td>\n",
       "    </tr>\n",
       "    <tr>\n",
       "      <th>20.0</th>\n",
       "      <td>2502</td>\n",
       "      <td>4938</td>\n",
       "      <td>1.726112</td>\n",
       "      <td>3.406692</td>\n",
       "    </tr>\n",
       "    <tr>\n",
       "      <th>22.0</th>\n",
       "      <td>2290</td>\n",
       "      <td>2267</td>\n",
       "      <td>1.579855</td>\n",
       "      <td>1.563988</td>\n",
       "    </tr>\n",
       "    <tr>\n",
       "      <th>4.0</th>\n",
       "      <td>1975</td>\n",
       "      <td>493</td>\n",
       "      <td>1.362539</td>\n",
       "      <td>0.340117</td>\n",
       "    </tr>\n",
       "    <tr>\n",
       "      <th>21.0</th>\n",
       "      <td>1928</td>\n",
       "      <td>2746</td>\n",
       "      <td>1.330114</td>\n",
       "      <td>1.894446</td>\n",
       "    </tr>\n",
       "    <tr>\n",
       "      <th>23.0</th>\n",
       "      <td>685</td>\n",
       "      <td>1779</td>\n",
       "      <td>0.472577</td>\n",
       "      <td>1.227320</td>\n",
       "    </tr>\n",
       "    <tr>\n",
       "      <th>3.0</th>\n",
       "      <td>271</td>\n",
       "      <td>248</td>\n",
       "      <td>0.186961</td>\n",
       "      <td>0.171093</td>\n",
       "    </tr>\n",
       "    <tr>\n",
       "      <th>1.0</th>\n",
       "      <td>209</td>\n",
       "      <td>193</td>\n",
       "      <td>0.144188</td>\n",
       "      <td>0.133149</td>\n",
       "    </tr>\n",
       "    <tr>\n",
       "      <th>2.0</th>\n",
       "      <td>190</td>\n",
       "      <td>191</td>\n",
       "      <td>0.131080</td>\n",
       "      <td>0.131770</td>\n",
       "    </tr>\n",
       "    <tr>\n",
       "      <th>0.0</th>\n",
       "      <td>138</td>\n",
       "      <td>450</td>\n",
       "      <td>0.095205</td>\n",
       "      <td>0.310452</td>\n",
       "    </tr>\n",
       "  </tbody>\n",
       "</table>\n",
       "</div>"
      ],
      "text/plain": [
       "      count_inicio  count_fin   % inicio     % fin\n",
       "6.0          15512      11326  10.701621  7.813729\n",
       "12.0         11863      10490   8.184201  7.236978\n",
       "17.0         10196       7436   7.034150  5.130045\n",
       "18.0          9772       9454   6.741635  6.522249\n",
       "7.0           9411      12445   6.492584  8.585719\n",
       "14.0          8254       8358   5.694377  5.766126\n",
       "13.0          7819       8358   5.394274  5.766126\n",
       "5.0           7642       2441   5.272163  1.684029\n",
       "11.0          7168       6657   4.945154  4.592618\n",
       "8.0           7155       9681   4.936185  6.678855\n",
       "15.0          7079       7673   4.883753  5.293549\n",
       "10.0          6732       7068   4.644360  4.876164\n",
       "16.0          6644       6480   4.583650  4.470507\n",
       "9.0           6082       7081   4.195930  4.885133\n",
       "19.0          4311       7575   2.974129  5.225940\n",
       "20.0          2502       4938   1.726112  3.406692\n",
       "22.0          2290       2267   1.579855  1.563988\n",
       "4.0           1975        493   1.362539  0.340117\n",
       "21.0          1928       2746   1.330114  1.894446\n",
       "23.0           685       1779   0.472577  1.227320\n",
       "3.0            271        248   0.186961  0.171093\n",
       "1.0            209        193   0.144188  0.133149\n",
       "2.0            190        191   0.131080  0.131770\n",
       "0.0            138        450   0.095205  0.310452"
      ]
     },
     "execution_count": 7,
     "metadata": {},
     "output_type": "execute_result"
    }
   ],
   "source": [
    "rohi = pd.DataFrame(df['hora1_inicio'].value_counts())\n",
    "rohf = pd.DataFrame(df['hora1_fin'].value_counts())\n",
    "rohi.rename(columns={'hora1_inicio':'count_inicio'}, inplace=True)\n",
    "rohf.rename(columns={'hora1_fin':'count_fin'}, inplace=True)\n",
    "#roh = rohi\n",
    "rohi['count_fin'] = rohf.count_fin\n",
    "roh = rohi\n",
    "roh['% inicio'] = (roh.count_inicio / len(df)) * 100 \n",
    "roh['% fin'] = (roh.count_fin / len(df)) * 100 \n",
    "roh"
   ]
  },
  {
   "cell_type": "code",
   "execution_count": 8,
   "metadata": {
    "scrolled": true
   },
   "outputs": [
    {
     "data": {
      "image/png": "[encoded data removed]",
      "text/plain": [
       "<matplotlib.figure.Figure at 0x1115632bb70>"
      ]
     },
     "metadata": {},
     "output_type": "display_data"
    }
   ],
   "source": [
    "roh = pd.DataFrame(df.hora1_inicio.value_counts(dropna=False, normalize=False)).plot(kind='bar', title='# Poeple vs Hour')\n"
   ]
  },
  {
   "cell_type": "code",
   "execution_count": 9,
   "metadata": {
    "scrolled": true
   },
   "outputs": [
    {
     "data": {
      "image/png": "[encoded data removed]",
      "text/plain": [
       "<matplotlib.figure.Figure at 0x11158415898>"
      ]
     },
     "metadata": {},
     "output_type": "display_data"
    }
   ],
   "source": [
    "roh = pd.DataFrame(df.hora1_fin.value_counts(dropna=False, normalize=False)).plot(kind='bar', title='Poeple vs Hour')\n"
   ]
  },
  {
   "cell_type": "markdown",
   "metadata": {},
   "source": [
    "### RATE MOVILITY PER HOUR - ONLY TAXIS IN BOGOTÀ"
   ]
  },
  {
   "cell_type": "code",
   "execution_count": 10,
   "metadata": {
    "scrolled": true
   },
   "outputs": [
    {
     "data": {
      "text/html": [
       "<div>\n",
       "<style scoped>\n",
       "    .dataframe tbody tr th:only-of-type {\n",
       "        vertical-align: middle;\n",
       "    }\n",
       "\n",
       "    .dataframe tbody tr th {\n",
       "        vertical-align: top;\n",
       "    }\n",
       "\n",
       "    .dataframe thead th {\n",
       "        text-align: right;\n",
       "    }\n",
       "</style>\n",
       "<table border=\"1\" class=\"dataframe\">\n",
       "  <thead>\n",
       "    <tr style=\"text-align: right;\">\n",
       "      <th></th>\n",
       "      <th>count_inicio_taxi</th>\n",
       "      <th>count_fin_taxi</th>\n",
       "      <th>% inicio</th>\n",
       "      <th>% fin</th>\n",
       "    </tr>\n",
       "  </thead>\n",
       "  <tbody>\n",
       "    <tr>\n",
       "      <th>12.0</th>\n",
       "      <td>319</td>\n",
       "      <td>251</td>\n",
       "      <td>8.025157</td>\n",
       "      <td>6.314465</td>\n",
       "    </tr>\n",
       "    <tr>\n",
       "      <th>17.0</th>\n",
       "      <td>294</td>\n",
       "      <td>218</td>\n",
       "      <td>7.396226</td>\n",
       "      <td>5.484277</td>\n",
       "    </tr>\n",
       "    <tr>\n",
       "      <th>6.0</th>\n",
       "      <td>272</td>\n",
       "      <td>177</td>\n",
       "      <td>6.842767</td>\n",
       "      <td>4.452830</td>\n",
       "    </tr>\n",
       "    <tr>\n",
       "      <th>15.0</th>\n",
       "      <td>271</td>\n",
       "      <td>243</td>\n",
       "      <td>6.817610</td>\n",
       "      <td>6.113208</td>\n",
       "    </tr>\n",
       "    <tr>\n",
       "      <th>7.0</th>\n",
       "      <td>254</td>\n",
       "      <td>240</td>\n",
       "      <td>6.389937</td>\n",
       "      <td>6.037736</td>\n",
       "    </tr>\n",
       "    <tr>\n",
       "      <th>10.0</th>\n",
       "      <td>239</td>\n",
       "      <td>233</td>\n",
       "      <td>6.012579</td>\n",
       "      <td>5.861635</td>\n",
       "    </tr>\n",
       "    <tr>\n",
       "      <th>8.0</th>\n",
       "      <td>238</td>\n",
       "      <td>260</td>\n",
       "      <td>5.987421</td>\n",
       "      <td>6.540881</td>\n",
       "    </tr>\n",
       "    <tr>\n",
       "      <th>9.0</th>\n",
       "      <td>235</td>\n",
       "      <td>253</td>\n",
       "      <td>5.911950</td>\n",
       "      <td>6.364780</td>\n",
       "    </tr>\n",
       "    <tr>\n",
       "      <th>11.0</th>\n",
       "      <td>228</td>\n",
       "      <td>250</td>\n",
       "      <td>5.735849</td>\n",
       "      <td>6.289308</td>\n",
       "    </tr>\n",
       "    <tr>\n",
       "      <th>18.0</th>\n",
       "      <td>225</td>\n",
       "      <td>230</td>\n",
       "      <td>5.660377</td>\n",
       "      <td>5.786164</td>\n",
       "    </tr>\n",
       "    <tr>\n",
       "      <th>16.0</th>\n",
       "      <td>223</td>\n",
       "      <td>257</td>\n",
       "      <td>5.610063</td>\n",
       "      <td>6.465409</td>\n",
       "    </tr>\n",
       "    <tr>\n",
       "      <th>13.0</th>\n",
       "      <td>209</td>\n",
       "      <td>281</td>\n",
       "      <td>5.257862</td>\n",
       "      <td>7.069182</td>\n",
       "    </tr>\n",
       "    <tr>\n",
       "      <th>14.0</th>\n",
       "      <td>204</td>\n",
       "      <td>213</td>\n",
       "      <td>5.132075</td>\n",
       "      <td>5.358491</td>\n",
       "    </tr>\n",
       "    <tr>\n",
       "      <th>19.0</th>\n",
       "      <td>193</td>\n",
       "      <td>251</td>\n",
       "      <td>4.855346</td>\n",
       "      <td>6.314465</td>\n",
       "    </tr>\n",
       "    <tr>\n",
       "      <th>20.0</th>\n",
       "      <td>117</td>\n",
       "      <td>161</td>\n",
       "      <td>2.943396</td>\n",
       "      <td>4.050314</td>\n",
       "    </tr>\n",
       "    <tr>\n",
       "      <th>22.0</th>\n",
       "      <td>113</td>\n",
       "      <td>95</td>\n",
       "      <td>2.842767</td>\n",
       "      <td>2.389937</td>\n",
       "    </tr>\n",
       "    <tr>\n",
       "      <th>5.0</th>\n",
       "      <td>101</td>\n",
       "      <td>54</td>\n",
       "      <td>2.540881</td>\n",
       "      <td>1.358491</td>\n",
       "    </tr>\n",
       "    <tr>\n",
       "      <th>21.0</th>\n",
       "      <td>79</td>\n",
       "      <td>113</td>\n",
       "      <td>1.987421</td>\n",
       "      <td>2.842767</td>\n",
       "    </tr>\n",
       "    <tr>\n",
       "      <th>4.0</th>\n",
       "      <td>66</td>\n",
       "      <td>44</td>\n",
       "      <td>1.660377</td>\n",
       "      <td>1.106918</td>\n",
       "    </tr>\n",
       "    <tr>\n",
       "      <th>23.0</th>\n",
       "      <td>57</td>\n",
       "      <td>109</td>\n",
       "      <td>1.433962</td>\n",
       "      <td>2.742138</td>\n",
       "    </tr>\n",
       "    <tr>\n",
       "      <th>3.0</th>\n",
       "      <td>18</td>\n",
       "      <td>13</td>\n",
       "      <td>0.452830</td>\n",
       "      <td>0.327044</td>\n",
       "    </tr>\n",
       "    <tr>\n",
       "      <th>2.0</th>\n",
       "      <td>9</td>\n",
       "      <td>4</td>\n",
       "      <td>0.226415</td>\n",
       "      <td>0.100629</td>\n",
       "    </tr>\n",
       "    <tr>\n",
       "      <th>1.0</th>\n",
       "      <td>8</td>\n",
       "      <td>9</td>\n",
       "      <td>0.201258</td>\n",
       "      <td>0.226415</td>\n",
       "    </tr>\n",
       "    <tr>\n",
       "      <th>0.0</th>\n",
       "      <td>3</td>\n",
       "      <td>16</td>\n",
       "      <td>0.075472</td>\n",
       "      <td>0.402516</td>\n",
       "    </tr>\n",
       "  </tbody>\n",
       "</table>\n",
       "</div>"
      ],
      "text/plain": [
       "      count_inicio_taxi  count_fin_taxi  % inicio     % fin\n",
       "12.0                319             251  8.025157  6.314465\n",
       "17.0                294             218  7.396226  5.484277\n",
       "6.0                 272             177  6.842767  4.452830\n",
       "15.0                271             243  6.817610  6.113208\n",
       "7.0                 254             240  6.389937  6.037736\n",
       "10.0                239             233  6.012579  5.861635\n",
       "8.0                 238             260  5.987421  6.540881\n",
       "9.0                 235             253  5.911950  6.364780\n",
       "11.0                228             250  5.735849  6.289308\n",
       "18.0                225             230  5.660377  5.786164\n",
       "16.0                223             257  5.610063  6.465409\n",
       "13.0                209             281  5.257862  7.069182\n",
       "14.0                204             213  5.132075  5.358491\n",
       "19.0                193             251  4.855346  6.314465\n",
       "20.0                117             161  2.943396  4.050314\n",
       "22.0                113              95  2.842767  2.389937\n",
       "5.0                 101              54  2.540881  1.358491\n",
       "21.0                 79             113  1.987421  2.842767\n",
       "4.0                  66              44  1.660377  1.106918\n",
       "23.0                 57             109  1.433962  2.742138\n",
       "3.0                  18              13  0.452830  0.327044\n",
       "2.0                   9               4  0.226415  0.100629\n",
       "1.0                   8               9  0.201258  0.226415\n",
       "0.0                   3              16  0.075472  0.402516"
      ]
     },
     "execution_count": 10,
     "metadata": {},
     "output_type": "execute_result"
    }
   ],
   "source": [
    "df1 = df[df.MEDIO_PREDOMINANTE == 'TAXI'] \n",
    "df2 = df1[df1.MUNICIPIO_ORIGEN == 'BOGOTA-DC 11001']\n",
    "rohit = pd.DataFrame(df2['hora1_inicio'].value_counts())\n",
    "rohft = pd.DataFrame(df2['hora1_fin'].value_counts())\n",
    "rohit.rename(columns={'hora1_inicio':'count_inicio_taxi'}, inplace=True)\n",
    "rohft.rename(columns={'hora1_fin':'count_fin_taxi'}, inplace=True)\n",
    "rohit['count_fin_taxi'] = rohft.count_fin_taxi\n",
    "roht = rohit\n",
    "roht['% inicio'] = (roht.count_inicio_taxi / len(df2)) * 100 \n",
    "roht['% fin'] = (roht.count_fin_taxi / len(df2)) * 100 \n",
    "roht"
   ]
  },
  {
   "cell_type": "code",
   "execution_count": 11,
   "metadata": {
    "scrolled": true
   },
   "outputs": [
    {
     "data": {
      "image/png": "[encoded data removed]",
      "text/plain": [
       "<matplotlib.figure.Figure at 0x111599f16a0>"
      ]
     },
     "metadata": {},
     "output_type": "display_data"
    }
   ],
   "source": [
    "roh = pd.DataFrame(df2.hora1_inicio.value_counts(dropna=False, normalize=False)).plot(kind='bar', title='ORIGIN: Taxis vs Hour')\n"
   ]
  },
  {
   "cell_type": "code",
   "execution_count": 12,
   "metadata": {
    "scrolled": true
   },
   "outputs": [
    {
     "data": {
      "image/png": "[encoded data removed]",
      "text/plain": [
       "<matplotlib.figure.Figure at 0x1115832c2e8>"
      ]
     },
     "metadata": {},
     "output_type": "display_data"
    }
   ],
   "source": [
    "roh = pd.DataFrame(df2.hora1_fin.value_counts(dropna=False, normalize=False)).plot(kind='bar', title='ARRIVAL: Taxis vs Hour')\n"
   ]
  },
  {
   "cell_type": "code",
   "execution_count": 13,
   "metadata": {},
   "outputs": [
    {
     "data": {
      "image/png": "[encoded data removed]",
      "text/plain": [
       "<matplotlib.figure.Figure at 0x1115831d198>"
      ]
     },
     "metadata": {},
     "output_type": "display_data"
    }
   ],
   "source": [
    "index=['0:00','1:00','2:00','3:00','4:00','5:00','6:00','7:00','8:00','9:00','10:00','11:00','12:00','13:00','14:00','15:00','16:00','17:00','18:00','19:00','20:00','21:00','22:00','23:00']\n",
    "df = pd.DataFrame({'Origin': df2.hora1_inicio.value_counts(dropna=False, normalize=False),'Arrival': df2.hora1_fin.value_counts(dropna=False, normalize=False)})\n",
    "ax = df.plot.bar(rot=90, sort_columns='Origin', title='Taxis Service / hour')"
   ]
  },
  {
   "cell_type": "code",
   "execution_count": 14,
   "metadata": {
    "scrolled": true
   },
   "outputs": [
    {
     "data": {
      "text/html": [
       "<div>\n",
       "<style scoped>\n",
       "    .dataframe tbody tr th:only-of-type {\n",
       "        vertical-align: middle;\n",
       "    }\n",
       "\n",
       "    .dataframe tbody tr th {\n",
       "        vertical-align: top;\n",
       "    }\n",
       "\n",
       "    .dataframe thead th {\n",
       "        text-align: right;\n",
       "    }\n",
       "</style>\n",
       "<table border=\"1\" class=\"dataframe\">\n",
       "  <thead>\n",
       "    <tr style=\"text-align: right;\">\n",
       "      <th></th>\n",
       "      <th>Unnamed: 0</th>\n",
       "      <th>ID_ENCUESTA</th>\n",
       "      <th>NUMERO_PERSONA</th>\n",
       "      <th>NUMERO_VIAJE</th>\n",
       "      <th>MOTIVOVIAJE</th>\n",
       "      <th>MUNICIPIO_DESTINO</th>\n",
       "      <th>DEPARTAMENTO_DESTINO</th>\n",
       "      <th>TIEMPO_CAMINO</th>\n",
       "      <th>HORA_INICIO</th>\n",
       "      <th>HORA_FIN</th>\n",
       "      <th>MEDIO_PREDOMINANTE</th>\n",
       "      <th>ZAT_DESTINO</th>\n",
       "      <th>ZAT_ORIGEN</th>\n",
       "      <th>MUNICIPIO_ORIGEN</th>\n",
       "      <th>DEPARTAMENTO_ORIGEN</th>\n",
       "      <th>LATITUD_ORIGEN</th>\n",
       "      <th>LATITUD_DESTINO</th>\n",
       "      <th>LONGITUD_ORIGEN</th>\n",
       "      <th>LONGITUD_DESTINO</th>\n",
       "      <th>DIFERENCIA_HORAS</th>\n",
       "      <th>DIA_HABIL</th>\n",
       "      <th>DIA_NOHABIL</th>\n",
       "      <th>PICO_HABIL</th>\n",
       "      <th>PICO_NOHABIL</th>\n",
       "      <th>VALLE_NOHABIL</th>\n",
       "      <th>VALLE_HABIL</th>\n",
       "      <th>y_coord_org</th>\n",
       "      <th>x_coord_org</th>\n",
       "      <th>y_coord_dest</th>\n",
       "      <th>x_coord_dest</th>\n",
       "      <th>hora1_inicio</th>\n",
       "      <th>hora1_fin</th>\n",
       "    </tr>\n",
       "  </thead>\n",
       "  <tbody>\n",
       "    <tr>\n",
       "      <th>31</th>\n",
       "      <td>31</td>\n",
       "      <td>18515383.0</td>\n",
       "      <td>2.0</td>\n",
       "      <td>1.0</td>\n",
       "      <td>Buscar/dejar dejar algo</td>\n",
       "      <td>BOGOTA-DC 11001</td>\n",
       "      <td>Bogota D.C.</td>\n",
       "      <td>15.0</td>\n",
       "      <td>16:02:00</td>\n",
       "      <td>16:48:00</td>\n",
       "      <td>TAXI</td>\n",
       "      <td>238.0</td>\n",
       "      <td>363.0</td>\n",
       "      <td>BOGOTA-DC 11001</td>\n",
       "      <td>Bogota D.C.</td>\n",
       "      <td>4.617991e+13</td>\n",
       "      <td>4.650208e+13</td>\n",
       "      <td>-7.408767e+13</td>\n",
       "      <td>-7.406807e+13</td>\n",
       "      <td>00:46:00</td>\n",
       "      <td>S</td>\n",
       "      <td>NaN</td>\n",
       "      <td>NaN</td>\n",
       "      <td>NaN</td>\n",
       "      <td>NaN</td>\n",
       "      <td>NaN</td>\n",
       "      <td>4.615035</td>\n",
       "      <td>-74.086953</td>\n",
       "      <td>4.652134</td>\n",
       "      <td>-74.068821</td>\n",
       "      <td>16.0</td>\n",
       "      <td>16.0</td>\n",
       "    </tr>\n",
       "  </tbody>\n",
       "</table>\n",
       "</div>"
      ],
      "text/plain": [
       "   Unnamed: 0  ID_ENCUESTA  NUMERO_PERSONA  NUMERO_VIAJE  \\\n",
       "31         31   18515383.0             2.0           1.0   \n",
       "\n",
       "                MOTIVOVIAJE MUNICIPIO_DESTINO DEPARTAMENTO_DESTINO  \\\n",
       "31  Buscar/dejar dejar algo   BOGOTA-DC 11001          Bogota D.C.   \n",
       "\n",
       "    TIEMPO_CAMINO HORA_INICIO  HORA_FIN MEDIO_PREDOMINANTE  ZAT_DESTINO  \\\n",
       "31           15.0    16:02:00  16:48:00               TAXI        238.0   \n",
       "\n",
       "    ZAT_ORIGEN MUNICIPIO_ORIGEN DEPARTAMENTO_ORIGEN  LATITUD_ORIGEN  \\\n",
       "31       363.0  BOGOTA-DC 11001         Bogota D.C.    4.617991e+13   \n",
       "\n",
       "    LATITUD_DESTINO  LONGITUD_ORIGEN  LONGITUD_DESTINO DIFERENCIA_HORAS  \\\n",
       "31     4.650208e+13    -7.408767e+13     -7.406807e+13         00:46:00   \n",
       "\n",
       "   DIA_HABIL DIA_NOHABIL PICO_HABIL PICO_NOHABIL VALLE_NOHABIL VALLE_HABIL  \\\n",
       "31         S         NaN        NaN          NaN           NaN         NaN   \n",
       "\n",
       "    y_coord_org  x_coord_org  y_coord_dest  x_coord_dest  hora1_inicio  \\\n",
       "31     4.615035   -74.086953      4.652134    -74.068821          16.0   \n",
       "\n",
       "    hora1_fin  \n",
       "31       16.0  "
      ]
     },
     "execution_count": 14,
     "metadata": {},
     "output_type": "execute_result"
    }
   ],
   "source": [
    "df2.hora1_inicio.astype('int64')\n",
    "df2[:1]\n",
    "#df2.x_coord_org.astype('str')"
   ]
  },
  {
   "cell_type": "code",
   "execution_count": 15,
   "metadata": {
    "scrolled": false
   },
   "outputs": [
    {
     "data": {
      "text/plain": [
       "<matplotlib.axes._subplots.AxesSubplot at 0x1115822d898>"
      ]
     },
     "execution_count": 15,
     "metadata": {},
     "output_type": "execute_result"
    },
    {
     "data": {
      "image/png": "[encoded data removed]",
      "text/plain": [
       "<matplotlib.figure.Figure at 0x11159a722e8>"
      ]
     },
     "metadata": {},
     "output_type": "display_data"
    }
   ],
   "source": [
    "sns.distplot(df2.loc[(df2.hora1_inicio >= 0) & (df2.hora1_inicio < 6), 'x_coord_org'])\n",
    "#sns.distplot(df2.loc[(df2.hora1_inicio > 0) & (df2.hora1_inicio < 9), 'y_coord_org'])"
   ]
  },
  {
   "cell_type": "code",
   "execution_count": 23,
   "metadata": {},
   "outputs": [
    {
     "name": "stderr",
     "output_type": "stream",
     "text": [
      "C:\\Users\\danpa\\Anaconda3\\lib\\site-packages\\pandas\\core\\generic.py:3643: SettingWithCopyWarning: \n",
      "A value is trying to be set on a copy of a slice from a DataFrame.\n",
      "Try using .loc[row_indexer,col_indexer] = value instead\n",
      "\n",
      "See the caveats in the documentation: http://pandas.pydata.org/pandas-docs/stable/indexing.html#indexing-view-versus-copy\n",
      "  self[name] = value\n"
     ]
    }
   ],
   "source": [
    "#NORMALIZANDO COORDENADAS\n",
    "\n",
    "x_max_r = -74.019\n",
    "x_min_r = -74.215\n",
    "y_min_r = 4.522\n",
    "y_max_r = 4.755\n",
    "\n",
    "df2.y_coord_org = ((df2.y_coord_org - y_min_r)/(y_max_r - y_min_r))*30\n",
    "df2.x_coord_org = ((df2.x_coord_org - x_min_r)/(x_max_r - x_min_r))*30\n",
    "\n",
    "file_infofile_in  = fiona.open(\"../csv/shp/Bogota_sencillo/New_Shapefile.shp\")\n",
    "\n",
    "y = set()\n",
    "x = set()\n",
    "lengths = set()\n",
    "\n",
    "nodes = set()\n",
    "edges = set()\n",
    "edges_prime = set()\n",
    "\n",
    "nodes_norm = list()\n",
    "edges_norm = set()\n",
    "\n",
    "for line in file_infofile_in:\n",
    "    for node in line['geometry']['coordinates']:\n",
    "        nodes.add((round(node[0],3),round(node[1],3)))\n",
    "        x.add(round(node[0],3))\n",
    "        y.add(round(node[1],3))\n",
    "\n",
    "nodes = list(nodes)\n",
    "\n",
    "# Getting the max and min for x and y axis\n",
    "x_max = max(x)\n",
    "x_min = min(x)\n",
    "y_max = max(y)\n",
    "y_min = min(y)\n",
    "\n",
    "df3 = pd.DataFrame(data=[[x_min,x_max,y_min,y_max]], columns=['x_min','x_max','y_min','y_max'])\n",
    "#df3.to_csv('../distributions/boundaries.csv', index=False)\n",
    "\n",
    "# Normalizing\n",
    "\n",
    "for node in nodes:\n",
    "    node_norm = (nodes.index(node), [(node[0]-x_min)/(x_max-x_min),(node[1]-y_min)/(y_max-y_min)])\n",
    "    nodes_norm.append(node_norm)\n",
    "    \n",
    "nodes_norm = [(item[0], [round(item[1][0],3), round(item[1][1],3)]) for item in nodes_norm]\n",
    "\n",
    "for line in file_infofile_in:\n",
    "    last_coord = None\n",
    "    for coord in line['geometry']['coordinates']:\n",
    "        if last_coord != None:\n",
    "            length = ((coord[0]-last_coord[0])**2+(coord[1]-last_coord[1])**2)**0.5\n",
    "            edge = ((nodes.index((round(last_coord[0],3),round(last_coord[1],3))),nodes.index((round(coord[0],3),round(coord[1],3)))),length,line['properties']['Id'])\n",
    "            edges.add(edge)\n",
    "        last_coord = coord\n",
    "        \n",
    "    \n",
    "edges = [edge for edge in edges if edge[0][1] != edge[0][0]]\n",
    "\n",
    "length_max = max(list(zip(*edges))[1])\n",
    "length_min = min(list(zip(*edges))[1])\n",
    "\n",
    "# normalizing length\n",
    "edges_norm = [(edges.index(edge),edge[0],(edge[1]-length_min)/(length_max-length_min),edge[2]) for edge in edges]\n",
    "\n",
    "coords = []\n",
    "\n",
    "for coord in list(zip(*edges))[0]:\n",
    "    coord1 = (nodes[coord[0]], nodes[coord[1]])\n",
    "    coords.append(coord1)"
   ]
  },
  {
   "cell_type": "markdown",
   "metadata": {},
   "source": [
    "## 1 Blocks of the day (6 hours)"
   ]
  },
  {
   "cell_type": "code",
   "execution_count": 24,
   "metadata": {
    "scrolled": true
   },
   "outputs": [],
   "source": [
    "early_morning = df2.loc[(df2.hora1_inicio >= 0) & (df2.hora1_inicio < 6)]\n",
    "morning = df2.loc[(df2.hora1_inicio >= 6) & (df2.hora1_inicio < 12)]\n",
    "late = df2.loc[(df2.hora1_inicio >= 12) & (df2.hora1_inicio < 18)]\n",
    "night = df2.loc[(df2.hora1_inicio >= 18) & (df2.hora1_inicio < 24)]"
   ]
  },
  {
   "cell_type": "code",
   "execution_count": 25,
   "metadata": {},
   "outputs": [],
   "source": [
    "early_morning_av = df2.loc[(df2.hora1_fin >= 0) & (df2.hora1_fin < 6)]\n",
    "morning_av = df2.loc[(df2.hora1_fin >= 6) & (df2.hora1_fin < 12)]\n",
    "late_av = df2.loc[(df2.hora1_fin >= 12) & (df2.hora1_fin < 18)]\n",
    "night_av = df2.loc[(df2.hora1_fin >= 18) & (df2.hora1_fin < 24)]"
   ]
  },
  {
   "cell_type": "markdown",
   "metadata": {},
   "source": [
    "## Distribution x_cord_org VS y_cord_org by Blocks "
   ]
  },
  {
   "cell_type": "markdown",
   "metadata": {
    "collapsed": true
   },
   "source": [
    "### - Early_morning"
   ]
  },
  {
   "cell_type": "code",
   "execution_count": 26,
   "metadata": {
    "scrolled": true
   },
   "outputs": [
    {
     "name": "stdout",
     "output_type": "stream",
     "text": [
      "--------------------------------------ORIGIN--------------------------------------\n"
     ]
    },
    {
     "data": {
      "image/png": "[encoded data removed]",
      "text/plain": [
       "<matplotlib.figure.Figure at 0x1115ab0b8d0>"
      ]
     },
     "metadata": {},
     "output_type": "display_data"
    }
   ],
   "source": [
    "print('--------------------------------------ORIGIN--------------------------------------')\n",
    "plot = sns.jointplot(x=\"x_coord_org\", y=\"y_coord_org\", data=early_morning, kind=\"kde\", size=10, xlim=(-5,40), ylim=(-5,40))\n",
    "#plt.show()\n",
    "for i in coords:\n",
    "    \n",
    "    plot.ax_joint.plot([(((coords[coords.index(i)][0][0])-x_min)/(x_max-x_min))*30,(((coords[coords.index(i)][1][0])-x_min)/(x_max-x_min))*30],[(((coords[coords.index(i)][0][1])-y_min)/(y_max-y_min))*30,(((coords[coords.index(i)][1][1])-y_min)/(y_max-y_min))*30],'black')\n",
    "\n"
   ]
  },
  {
   "cell_type": "code",
   "execution_count": null,
   "metadata": {},
   "outputs": [],
   "source": [
    "# EARLY MORNING\n",
    "print ('--------------------------------------ARRIVE--------------------------------------')\n",
    "plot = sns.jointplot(x=\"x_coord_org\", y=\"y_coord_org\", data=early_morning_av, kind=\"kde\", size=10, xlim=(-5,40), ylim=(-5,40))\n",
    "#plt.show()\n",
    "for i in coords:\n",
    "    \n",
    "    plot.ax_joint.plot([(((coords[coords.index(i)][0][0])-x_min)/(x_max-x_min))*30,(((coords[coords.index(i)][1][0])-x_min)/(x_max-x_min))*30],[(((coords[coords.index(i)][0][1])-y_min)/(y_max-y_min))*30,(((coords[coords.index(i)][1][1])-y_min)/(y_max-y_min))*30],'black')\n"
   ]
  },
  {
   "cell_type": "markdown",
   "metadata": {},
   "source": [
    "### - Morning"
   ]
  },
  {
   "cell_type": "code",
   "execution_count": null,
   "metadata": {
    "scrolled": true
   },
   "outputs": [],
   "source": [
    "print('--------------------------------------ORIGIN--------------------------------------')\n",
    "sns.jointplot(x=\"x_coord_org\", y=\"y_coord_org\", data=morning, kind=\"kde\", size=10)\n",
    "plt.show()\n",
    "print('--------------------------------------ARRIVE--------------------------------------')\n",
    "# MORNING\n",
    "sns.jointplot(x=\"x_coord_org\", y=\"y_coord_org\", data=morning_av, kind=\"kde\", size=10)\n",
    "plt.show()"
   ]
  },
  {
   "cell_type": "markdown",
   "metadata": {},
   "source": [
    "### - Late"
   ]
  },
  {
   "cell_type": "code",
   "execution_count": null,
   "metadata": {
    "scrolled": true
   },
   "outputs": [],
   "source": [
    "print('--------------------------------------ORIGIN--------------------------------------')\n",
    "sns.jointplot(x=\"x_coord_org\", y=\"y_coord_org\", data=late, kind=\"kde\", size=10)\n",
    "plt.show()\n",
    "print('--------------------------------------ARRIVE--------------------------------------')\n",
    "# LATE\n",
    "sns.jointplot(x=\"x_coord_org\", y=\"y_coord_org\", data=late_av, kind=\"kde\", size=10)\n",
    "plt.show()"
   ]
  },
  {
   "cell_type": "markdown",
   "metadata": {},
   "source": [
    "### - Night"
   ]
  },
  {
   "cell_type": "code",
   "execution_count": null,
   "metadata": {
    "scrolled": true
   },
   "outputs": [],
   "source": [
    "print('--------------------------------------ORIGIN--------------------------------------')\n",
    "sns.jointplot(x=\"x_coord_org\", y=\"y_coord_org\", data=night, kind=\"kde\", size=10)\n",
    "plt.show()\n",
    "print('--------------------------------------ARRIVE--------------------------------------')\n",
    "# NIGHT\n",
    "sns.jointplot(x=\"x_coord_org\", y=\"y_coord_org\", data=night_av, kind=\"kde\", size=10)\n",
    "plt.show()"
   ]
  },
  {
   "cell_type": "code",
   "execution_count": null,
   "metadata": {
    "scrolled": true
   },
   "outputs": [],
   "source": [
    "t1 = 100\n",
    "t2 = 1000\n",
    "print('--------------------------------------ORIGIN--------------------------------------')\n",
    "graphs = [('imgs/Bivariate graphs/Time Blocks/early_morning.png', t1),\n",
    "          ('imgs/Bivariate graphs/Time Blocks/morning.png', t1),\n",
    "          ('imgs/Bivariate graphs/Time Blocks/late.png',t1),\n",
    "          ('imgs/Bivariate graphs/Time Blocks/night.png', t2)]\n",
    "\n",
    "anima = APNG()\n",
    "for archivo, delay in graphs:\n",
    "    anima.append(archivo, delay=delay)\n",
    "anima.save('imgs/Bivariate graphs/Time Blocks/animTimeB.png')\n",
    "Image(filename='imgs/Bivariate graphs/Time Blocks/animTimeB.png')\n",
    "#print('--------------------------------------ARRIVE--------------------------------------')\n"
   ]
  },
  {
   "cell_type": "markdown",
   "metadata": {
    "collapsed": true
   },
   "source": [
    "## Per hours"
   ]
  },
  {
   "cell_type": "code",
   "execution_count": 27,
   "metadata": {
    "scrolled": true
   },
   "outputs": [
    {
     "name": "stdout",
     "output_type": "stream",
     "text": [
      "--------------------------------------ORIGIN--------------------------------------\n"
     ]
    },
    {
     "data": {
      "image/png": "[encoded data removed]",
      "text/plain": [
       "<matplotlib.figure.Figure at 0x1115a2602e8>"
      ]
     },
     "metadata": {},
     "output_type": "display_data"
    },
    {
     "name": "stdout",
     "output_type": "stream",
     "text": [
      "--------------------------------------ARRIVE--------------------------------------\n"
     ]
    },
    {
     "data": {
      "image/png": "[encoded data removed]",
      "text/plain": [
       "<matplotlib.figure.Figure at 0x1115aaf9390>"
      ]
     },
     "metadata": {},
     "output_type": "display_data"
    }
   ],
   "source": [
    "print('--------------------------------------ORIGIN--------------------------------------')\n",
    "h0 = df2.loc[(df2.hora1_inicio == 0)]\n",
    "sns.jointplot(x=\"x_coord_org\", y=\"y_coord_org\", data=h0, kind=\"kde\", size=10)\n",
    "plt.show()\n",
    "print('--------------------------------------ARRIVE--------------------------------------')\n",
    "h0_av = df2.loc[(df2.hora1_fin == 0)]\n",
    "sns.jointplot(x=\"x_coord_org\", y=\"y_coord_org\", data=h0, kind=\"kde\", size=10)\n",
    "plt.show()"
   ]
  },
  {
   "cell_type": "code",
   "execution_count": null,
   "metadata": {
    "scrolled": true
   },
   "outputs": [],
   "source": [
    "print('--------------------------------------ORIGIN--------------------------------------')\n",
    "h1 = df2.loc[(df2.hora1_inicio == 1)]\n",
    "sns.jointplot(x=\"x_coord_org\", y=\"y_coord_org\", data=h1, kind=\"kde\", size=10)\n",
    "plt.show()\n",
    "print('--------------------------------------ARRIVE--------------------------------------')\n",
    "h1_av = df2.loc[(df2.hora1_fin == 1)]\n",
    "sns.jointplot(x=\"x_coord_org\", y=\"y_coord_org\", data=h1_av, kind=\"kde\", size=10)\n",
    "plt.show()"
   ]
  },
  {
   "cell_type": "code",
   "execution_count": null,
   "metadata": {
    "scrolled": true
   },
   "outputs": [],
   "source": [
    "print('--------------------------------------ORIGIN--------------------------------------')\n",
    "h2 = df2.loc[(df2.hora1_inicio == 2)]\n",
    "sns.jointplot(x=\"x_coord_org\", y=\"y_coord_org\", data=h2, kind=\"kde\", size=10)\n",
    "plt.show()\n",
    "print('--------------------------------------ARRIVE--------------------------------------')\n",
    "h2_av = df2.loc[(df2.hora1_fin == 2)]\n",
    "sns.jointplot(x=\"x_coord_org\", y=\"y_coord_org\", data=h2_av, kind=\"kde\", size=10)\n",
    "plt.show()"
   ]
  },
  {
   "cell_type": "code",
   "execution_count": null,
   "metadata": {
    "scrolled": true
   },
   "outputs": [],
   "source": [
    "print('--------------------------------------ORIGIN--------------------------------------')\n",
    "h3 = df2.loc[(df2.hora1_inicio == 3)]\n",
    "sns.jointplot(x=\"x_coord_org\", y=\"y_coord_org\", data=h3, kind=\"kde\", size=10)\n",
    "plt.show()\n",
    "print('--------------------------------------ARRIVE--------------------------------------')\n",
    "h3_av = df2.loc[(df2.hora1_fin == 3)]\n",
    "sns.jointplot(x=\"x_coord_org\", y=\"y_coord_org\", data=h3_av, kind=\"kde\", size=10)\n",
    "plt.show()"
   ]
  },
  {
   "cell_type": "code",
   "execution_count": null,
   "metadata": {
    "scrolled": true
   },
   "outputs": [],
   "source": [
    "print('--------------------------------------ORIGIN--------------------------------------')\n",
    "h4 = df2.loc[(df2.hora1_inicio == 4)]\n",
    "sns.jointplot(x=\"x_coord_org\", y=\"y_coord_org\", data=h4, kind=\"kde\", size=10)\n",
    "plt.show()\n",
    "print('--------------------------------------ARRIVE--------------------------------------')\n",
    "h4_av = df2.loc[(df2.hora1_fin == 4)]\n",
    "sns.jointplot(x=\"x_coord_org\", y=\"y_coord_org\", data=h4_av, kind=\"kde\", size=10)\n",
    "plt.show()"
   ]
  },
  {
   "cell_type": "code",
   "execution_count": null,
   "metadata": {
    "scrolled": true
   },
   "outputs": [],
   "source": [
    "print('--------------------------------------ORIGIN--------------------------------------')\n",
    "h5 = df2.loc[(df2.hora1_inicio == 5)]\n",
    "sns.jointplot(x=\"x_coord_org\", y=\"y_coord_org\", data=h5, kind=\"kde\", size=10)\n",
    "plt.show()\n",
    "print('--------------------------------------ARRIVE--------------------------------------')\n",
    "h5_av = df2.loc[(df2.hora1_fin == 5)]\n",
    "sns.jointplot(x=\"x_coord_org\", y=\"y_coord_org\", data=h5_av, kind=\"kde\", size=10)\n",
    "plt.show()"
   ]
  },
  {
   "cell_type": "code",
   "execution_count": null,
   "metadata": {
    "scrolled": true
   },
   "outputs": [],
   "source": [
    "print('--------------------------------------ORIGIN--------------------------------------')\n",
    "h6 = df2.loc[(df2.hora1_inicio == 6)]\n",
    "sns.jointplot(x=\"x_coord_org\", y=\"y_coord_org\", data=h6, kind=\"kde\", size=10)\n",
    "plt.show()\n",
    "print('--------------------------------------ARRIVE--------------------------------------')\n",
    "h6_av = df2.loc[(df2.hora1_fin == 6)]\n",
    "sns.jointplot(x=\"x_coord_org\", y=\"y_coord_org\", data=h6_av, kind=\"kde\", size=10)\n",
    "plt.show()"
   ]
  },
  {
   "cell_type": "code",
   "execution_count": null,
   "metadata": {
    "scrolled": true
   },
   "outputs": [],
   "source": [
    "print('--------------------------------------ORIGIN--------------------------------------')\n",
    "h7 = df2.loc[(df2.hora1_inicio == 7)]\n",
    "sns.jointplot(x=\"x_coord_org\", y=\"y_coord_org\", data=h7, kind=\"kde\", size=10)\n",
    "plt.show()\n",
    "print('--------------------------------------ARRIVE--------------------------------------')\n",
    "h7_av = df2.loc[(df2.hora1_fin == 7)]\n",
    "sns.jointplot(x=\"x_coord_org\", y=\"y_coord_org\", data=h7_av, kind=\"kde\", size=10)\n",
    "plt.show()"
   ]
  },
  {
   "cell_type": "code",
   "execution_count": null,
   "metadata": {
    "scrolled": true
   },
   "outputs": [],
   "source": [
    "print('--------------------------------------ORIGIN--------------------------------------')\n",
    "h8 = df2.loc[(df2.hora1_inicio == 8)]\n",
    "sns.jointplot(x=\"x_coord_org\", y=\"y_coord_org\", data=h8, kind=\"kde\", size=10)\n",
    "plt.show()\n",
    "print('--------------------------------------ARRIVE--------------------------------------')\n",
    "h8_av = df2.loc[(df2.hora1_fin == 8)]\n",
    "sns.jointplot(x=\"x_coord_org\", y=\"y_coord_org\", data=h8_av, kind=\"kde\", size=10)\n",
    "plt.show()"
   ]
  },
  {
   "cell_type": "code",
   "execution_count": null,
   "metadata": {
    "scrolled": true
   },
   "outputs": [],
   "source": [
    "print('--------------------------------------ORIGIN--------------------------------------')\n",
    "h9 = df2.loc[(df2.hora1_inicio == 9)]\n",
    "sns.jointplot(x=\"x_coord_org\", y=\"y_coord_org\", data=h9, kind=\"kde\", size=10)\n",
    "plt.show()\n",
    "print('--------------------------------------ARRIVE--------------------------------------')\n",
    "h9_av = df2.loc[(df2.hora1_fin == 9)]\n",
    "sns.jointplot(x=\"x_coord_org\", y=\"y_coord_org\", data=h9_av, kind=\"kde\", size=10)\n",
    "plt.show()"
   ]
  },
  {
   "cell_type": "code",
   "execution_count": null,
   "metadata": {
    "scrolled": true
   },
   "outputs": [],
   "source": [
    "print('--------------------------------------ORIGIN--------------------------------------')\n",
    "h10 = df2.loc[(df2.hora1_inicio == 10)]\n",
    "sns.jointplot(x=\"x_coord_org\", y=\"y_coord_org\", data=h10, kind=\"kde\", size=10)\n",
    "plt.show()\n",
    "print('--------------------------------------ARRIVE--------------------------------------')\n",
    "h10_av = df2.loc[(df2.hora1_fin == 10)]\n",
    "sns.jointplot(x=\"x_coord_org\", y=\"y_coord_org\", data=h10_av, kind=\"kde\", size=10)\n",
    "plt.show()"
   ]
  },
  {
   "cell_type": "code",
   "execution_count": null,
   "metadata": {
    "scrolled": true
   },
   "outputs": [],
   "source": [
    "print('--------------------------------------ORIGIN--------------------------------------')\n",
    "h11 = df2.loc[(df2.hora1_inicio == 11)]\n",
    "sns.jointplot(x=\"x_coord_org\", y=\"y_coord_org\", data=h11, kind=\"kde\", size=10)\n",
    "plt.show()\n",
    "print('--------------------------------------ARRIVE--------------------------------------')\n",
    "h11_av = df2.loc[(df2.hora1_fin == 11)]\n",
    "sns.jointplot(x=\"x_coord_org\", y=\"y_coord_org\", data=h11_av, kind=\"kde\", size=10)\n",
    "plt.show()"
   ]
  },
  {
   "cell_type": "code",
   "execution_count": null,
   "metadata": {
    "scrolled": true
   },
   "outputs": [],
   "source": [
    "print('--------------------------------------ORIGIN--------------------------------------')\n",
    "h12 = df2.loc[(df2.hora1_inicio == 12)]\n",
    "sns.jointplot(x=\"x_coord_org\", y=\"y_coord_org\", data=h12, kind=\"kde\", size=10)\n",
    "plt.show()\n",
    "print('--------------------------------------ARRIVE--------------------------------------')\n",
    "h12_av = df2.loc[(df2.hora1_fin == 12)]\n",
    "sns.jointplot(x=\"x_coord_org\", y=\"y_coord_org\", data=h12_av, kind=\"kde\", size=10)\n",
    "plt.show()"
   ]
  },
  {
   "cell_type": "code",
   "execution_count": null,
   "metadata": {
    "scrolled": true
   },
   "outputs": [],
   "source": [
    "print('--------------------------------------ORIGIN--------------------------------------')\n",
    "h13 = df2.loc[(df2.hora1_inicio == 13)]\n",
    "sns.jointplot(x=\"x_coord_org\", y=\"y_coord_org\", data=h13, kind=\"kde\", size=10)\n",
    "plt.show()\n",
    "print('--------------------------------------ARRIVE--------------------------------------')\n",
    "h13_av = df2.loc[(df2.hora1_fin == 13)]\n",
    "sns.jointplot(x=\"x_coord_org\", y=\"y_coord_org\", data=h13_av, kind=\"kde\", size=10)\n",
    "plt.show()"
   ]
  },
  {
   "cell_type": "code",
   "execution_count": null,
   "metadata": {
    "scrolled": true
   },
   "outputs": [],
   "source": [
    "print('--------------------------------------ORIGIN--------------------------------------')\n",
    "h14 = df2.loc[(df2.hora1_inicio == 14)]\n",
    "sns.jointplot(x=\"x_coord_org\", y=\"y_coord_org\", data=h14, kind=\"kde\", size=10)\n",
    "plt.show()\n",
    "print('--------------------------------------ARRIVE--------------------------------------')\n",
    "h14_av = df2.loc[(df2.hora1_fin == 14)]\n",
    "sns.jointplot(x=\"x_coord_org\", y=\"y_coord_org\", data=h14_av, kind=\"kde\", size=10)\n",
    "plt.show()"
   ]
  },
  {
   "cell_type": "code",
   "execution_count": null,
   "metadata": {
    "scrolled": true
   },
   "outputs": [],
   "source": [
    "print('--------------------------------------ORIGIN--------------------------------------')\n",
    "h15 = df2.loc[(df2.hora1_inicio == 15)]\n",
    "sns.jointplot(x=\"x_coord_org\", y=\"y_coord_org\", data=h15, kind=\"kde\", size=10)\n",
    "plt.show()\n",
    "print('--------------------------------------ARRIVE--------------------------------------')\n",
    "h15_av = df2.loc[(df2.hora1_fin == 15)]\n",
    "sns.jointplot(x=\"x_coord_org\", y=\"y_coord_org\", data=h15_av, kind=\"kde\", size=10)\n",
    "plt.show()"
   ]
  },
  {
   "cell_type": "code",
   "execution_count": null,
   "metadata": {
    "scrolled": true
   },
   "outputs": [],
   "source": [
    "print('--------------------------------------ORIGIN--------------------------------------')\n",
    "h16 = df2.loc[(df2.hora1_inicio == 16)]\n",
    "sns.jointplot(x=\"x_coord_org\", y=\"y_coord_org\", data=h16, kind=\"kde\", size=10)\n",
    "plt.show()\n",
    "print('--------------------------------------ARRIVE--------------------------------------')\n",
    "h16_av = df2.loc[(df2.hora1_fin == 16)]\n",
    "sns.jointplot(x=\"x_coord_org\", y=\"y_coord_org\", data=h16_av, kind=\"kde\", size=10)\n",
    "plt.show()"
   ]
  },
  {
   "cell_type": "code",
   "execution_count": null,
   "metadata": {
    "scrolled": true
   },
   "outputs": [],
   "source": [
    "print('--------------------------------------ORIGIN--------------------------------------')\n",
    "h17 = df2.loc[(df2.hora1_inicio == 17)]\n",
    "sns.jointplot(x=\"x_coord_org\", y=\"y_coord_org\", data=h17, kind=\"kde\", size=10)\n",
    "plt.show()\n",
    "print('--------------------------------------ARRIVE--------------------------------------')\n",
    "h17_av = df2.loc[(df2.hora1_fin == 17)]\n",
    "sns.jointplot(x=\"x_coord_org\", y=\"y_coord_org\", data=h17_av, kind=\"kde\", size=10)\n",
    "plt.show()"
   ]
  },
  {
   "cell_type": "code",
   "execution_count": null,
   "metadata": {
    "scrolled": true
   },
   "outputs": [],
   "source": [
    "print('--------------------------------------ORIGIN--------------------------------------')\n",
    "h18 = df2.loc[(df2.hora1_inicio == 18)]\n",
    "sns.jointplot(x=\"x_coord_org\", y=\"y_coord_org\", data=h18, kind=\"kde\", size=10)\n",
    "plt.show()\n",
    "print('--------------------------------------ARRIVE--------------------------------------')\n",
    "h18_av = df2.loc[(df2.hora1_fin == 18)]\n",
    "sns.jointplot(x=\"x_coord_org\", y=\"y_coord_org\", data=h18_av, kind=\"kde\", size=10)\n",
    "plt.show()"
   ]
  },
  {
   "cell_type": "code",
   "execution_count": null,
   "metadata": {
    "scrolled": true
   },
   "outputs": [],
   "source": [
    "print('--------------------------------------ORIGIN--------------------------------------')\n",
    "h19 = df2.loc[(df2.hora1_inicio == 19)]\n",
    "sns.jointplot(x=\"x_coord_org\", y=\"y_coord_org\", data=h19, kind=\"kde\", size=10)\n",
    "plt.show()\n",
    "print('--------------------------------------ARRIVE--------------------------------------')\n",
    "h19_av = df2.loc[(df2.hora1_fin == 19)]\n",
    "sns.jointplot(x=\"x_coord_org\", y=\"y_coord_org\", data=h19_av, kind=\"kde\", size=10)\n",
    "plt.show()"
   ]
  },
  {
   "cell_type": "code",
   "execution_count": null,
   "metadata": {
    "scrolled": true
   },
   "outputs": [],
   "source": [
    "print('--------------------------------------ORIGIN--------------------------------------')\n",
    "h20 = df2.loc[(df2.hora1_inicio == 20)]\n",
    "sns.jointplot(x=\"x_coord_org\", y=\"y_coord_org\", data=h20, kind=\"kde\", size=10)\n",
    "plt.show()\n",
    "print('--------------------------------------ARRIVE--------------------------------------')\n",
    "h20_av = df2.loc[(df2.hora1_fin == 20)]\n",
    "sns.jointplot(x=\"x_coord_org\", y=\"y_coord_org\", data=h20_av, kind=\"kde\", size=10)\n",
    "plt.show()"
   ]
  },
  {
   "cell_type": "code",
   "execution_count": null,
   "metadata": {
    "scrolled": true
   },
   "outputs": [],
   "source": [
    "print('--------------------------------------ORIGIN--------------------------------------')\n",
    "h21 = df2.loc[(df2.hora1_inicio == 21)]\n",
    "sns.jointplot(x=\"x_coord_org\", y=\"y_coord_org\", data=h21, kind=\"kde\", size=10)\n",
    "plt.show()\n",
    "print('--------------------------------------ARRIVE--------------------------------------')\n",
    "h21_av = df2.loc[(df2.hora1_fin == 21)]\n",
    "sns.jointplot(x=\"x_coord_org\", y=\"y_coord_org\", data=h21_av, kind=\"kde\", size=10)\n",
    "plt.show()"
   ]
  },
  {
   "cell_type": "code",
   "execution_count": null,
   "metadata": {
    "scrolled": true
   },
   "outputs": [],
   "source": [
    "print('--------------------------------------ORIGIN--------------------------------------')\n",
    "h22 = df2.loc[(df2.hora1_inicio == 22)]\n",
    "sns.jointplot(x=\"x_coord_org\", y=\"y_coord_org\", data=h22, kind=\"kde\", size=10)\n",
    "plt.show()\n",
    "print('--------------------------------------ARRIVE--------------------------------------')\n",
    "h22_av = df2.loc[(df2.hora1_fin == 22)]\n",
    "sns.jointplot(x=\"x_coord_org\", y=\"y_coord_org\", data=h22_av, kind=\"kde\", size=10)\n",
    "plt.show()"
   ]
  },
  {
   "cell_type": "code",
   "execution_count": null,
   "metadata": {
    "scrolled": true
   },
   "outputs": [],
   "source": [
    "print('--------------------------------------ORIGIN--------------------------------------')\n",
    "h23 = df2.loc[(df2.hora1_inicio == 23)]\n",
    "sns.jointplot(x=\"x_coord_org\", y=\"y_coord_org\", data=h23, kind=\"kde\", size=10)\n",
    "plt.show()\n",
    "print('--------------------------------------ARRIVE--------------------------------------')\n",
    "h23_av = df2.loc[(df2.hora1_fin == 23)]\n",
    "sns.jointplot(x=\"x_coord_org\", y=\"y_coord_org\", data=h23_av, kind=\"kde\", size=10)\n",
    "plt.show()"
   ]
  },
  {
   "cell_type": "markdown",
   "metadata": {
    "collapsed": true
   },
   "source": [
    "## Other form"
   ]
  },
  {
   "cell_type": "markdown",
   "metadata": {},
   "source": [
    "os.mkdir('imgs/Univariate graphs/Other/x_org')\n",
    "os.mkdir('imgs/Univariate graphs/Other/y_org')"
   ]
  },
  {
   "cell_type": "code",
   "execution_count": null,
   "metadata": {
    "scrolled": true
   },
   "outputs": [],
   "source": [
    "print('--------------------------------------ORIGIN--------------------------------------')\n",
    "h4_11 = df2.loc[(df2.hora1_inicio >= 4) & (df2.hora1_inicio < 12)]\n",
    "sns.jointplot(x=\"x_coord_org\", y=\"y_coord_org\", data=h4_11, kind=\"kde\", size=10)\n",
    "plt.show()\n",
    "plt.savefig('imgs/Bivariate graphs/Other/h4_11.png')\n",
    "print('--------------------------------------ARRIVE--------------------------------------')\n",
    "h4_11_av = df2.loc[(df2.hora1_fin >= 4) & (df2.hora1_fin < 12)]\n",
    "sns.jointplot(x=\"x_coord_org\", y=\"y_coord_org\", data=h4_11_av, kind=\"kde\", size=10)\n",
    "plt.show()\n",
    "plt.savefig('imgs/Bivariate graphs/Other/h4_11_av.png')"
   ]
  },
  {
   "cell_type": "code",
   "execution_count": null,
   "metadata": {
    "scrolled": true
   },
   "outputs": [],
   "source": [
    "sns.distplot(df2.loc[(df2.hora1_inicio >= 4) & (df2.hora1_inicio < 12), 'x_coord_org'])\n",
    "plt.savefig('imgs/Univariate graphs/Other/x_org/x_h4_11.png')"
   ]
  },
  {
   "cell_type": "code",
   "execution_count": null,
   "metadata": {
    "scrolled": true
   },
   "outputs": [],
   "source": [
    "sns.distplot(df2.loc[(df2.hora1_inicio >= 4) & (df2.hora1_inicio < 12), 'y_coord_org'])\n",
    "plt.savefig('imgs/Univariate graphs/Other/y_org/y_h4_11.png')"
   ]
  },
  {
   "cell_type": "code",
   "execution_count": null,
   "metadata": {
    "scrolled": true
   },
   "outputs": [],
   "source": [
    "print('--------------------------------------ORIGIN--------------------------------------')\n",
    "h12_16 = df2.loc[(df2.hora1_inicio >= 12) & (df2.hora1_inicio < 16)]\n",
    "sns.jointplot(x=\"x_coord_org\", y=\"y_coord_org\", data=h12_16, kind=\"kde\", size=10)\n",
    "plt.show()\n",
    "plt.savefig(plt.savefig('imgs/Bivariate graphs/Other/h12_16.png'))\n",
    "print('--------------------------------------ARRIVE--------------------------------------')\n",
    "h12_16_av = df2.loc[(df2.hora1_fin >= 12) & (df2.hora1_fin < 16)]\n",
    "sns.jointplot(x=\"x_coord_org\", y=\"y_coord_org\", data=h12_16_av, kind=\"kde\", size=10)\n",
    "plt.show()\n",
    "plt.savefig(plt.savefig('imgs/Bivariate graphs/Other/h12_16_av.png'))"
   ]
  },
  {
   "cell_type": "code",
   "execution_count": null,
   "metadata": {
    "scrolled": true
   },
   "outputs": [],
   "source": [
    "sns.distplot(df2.loc[(df2.hora1_inicio >= 12) & (df2.hora1_inicio < 16), 'x_coord_org'])\n",
    "plt.savefig('imgs/Univariate graphs/Other/x_org/x_h12_16.png')"
   ]
  },
  {
   "cell_type": "code",
   "execution_count": null,
   "metadata": {
    "scrolled": true
   },
   "outputs": [],
   "source": [
    "sns.distplot(df2.loc[(df2.hora1_inicio >= 12) & (df2.hora1_inicio < 16), 'y_coord_org'])\n",
    "plt.savefig('imgs/Univariate graphs/Other/y_org/y_h12_16.png')"
   ]
  },
  {
   "cell_type": "code",
   "execution_count": null,
   "metadata": {
    "scrolled": true
   },
   "outputs": [],
   "source": [
    "print('--------------------------------------ORIGIN--------------------------------------')\n",
    "h17_23 = df2.loc[((df2.hora1_inicio >= 16) & (df2.hora1_inicio <24))]\n",
    "h23_3 = df2.loc[((df2.hora1_inicio >= 0) & (df2.hora1_inicio <4))]\n",
    "h17_3 = h17_23.append(h23_3)\n",
    "\n",
    "sns.jointplot(x=\"x_coord_org\", y=\"y_coord_org\", data=h17_3, kind=\"kde\", size=10)\n",
    "plt.show()\n",
    "plt.savefig('imgs/Bivariate graphs/Other/h17_3.png')\n",
    "print('--------------------------------------ARRIVE--------------------------------------')\n",
    "h17_23_av = df2.loc[((df2.hora1_fin >= 16) & (df2.hora1_fin <24))]\n",
    "h23_3_av = df2.loc[((df2.hora1_fin >= 0) & (df2.hora1_fin <4))]\n",
    "h17_3_av = h17_23_av.append(h23_3_av)\n",
    "\n",
    "sns.jointplot(x=\"x_coord_org\", y=\"y_coord_org\", data=h17_3_av, kind=\"kde\", size=10)\n",
    "plt.show()\n",
    "plt.savefig('imgs/Bivariate graphs/Other/h17_3_av.png')"
   ]
  },
  {
   "cell_type": "markdown",
   "metadata": {
    "collapsed": true
   },
   "source": [
    "## Time Blocks whit 'Pico y Placa'"
   ]
  },
  {
   "cell_type": "code",
   "execution_count": null,
   "metadata": {
    "scrolled": true
   },
   "outputs": [],
   "source": [
    "print('--------------------------------------ORIGIN--------------------------------------')\n",
    "#os.mkdir('imgs/Bivariate graphs/picoYplaca')\n",
    "pp0_6 = df2.loc[(df2.hora1_inicio >= 0) & (df2.hora1_inicio < 6)]\n",
    "sns.jointplot(x=\"x_coord_org\", y=\"y_coord_org\", data=pp0_6, kind=\"kde\", size=10)\n",
    "plt.show()\n",
    "plt.savefig(plt.savefig('imgs/Bivariate graphs/picoYplaca/pp0_6.png'))\n",
    "print('--------------------------------------ARRIVE--------------------------------------')\n",
    "pp0_6_av = df2.loc[(df2.hora1_fin >= 0) & (df2.hora1_fin < 6)]\n",
    "sns.jointplot(x=\"x_coord_org\", y=\"y_coord_org\", data=pp0_6_av, kind=\"kde\", size=10)\n",
    "plt.show()\n",
    "plt.savefig(plt.savefig('imgs/Bivariate graphs/picoYplaca/pp0_6_av.png'))"
   ]
  },
  {
   "cell_type": "code",
   "execution_count": null,
   "metadata": {},
   "outputs": [],
   "source": [
    "print('--------------------------------------ORIGIN--------------------------------------')\n",
    "pp6_9 = df2.loc[(df2.hora1_inicio >= 6) & (df2.hora1_inicio < 9)]\n",
    "sns.jointplot(x=\"x_coord_org\", y=\"y_coord_org\", data=pp6_9, kind=\"kde\", size=10)\n",
    "plt.show()\n",
    "plt.savefig(plt.savefig('imgs/Bivariate graphs/picoYplaca/pp6_9.png'))\n",
    "print('--------------------------------------ARRIVE--------------------------------------')\n",
    "pp6_9_av = df2.loc[(df2.hora1_fin >= 6) & (df2.hora1_fin < 9)]\n",
    "sns.jointplot(x=\"x_coord_org\", y=\"y_coord_org\", data=pp6_9_av, kind=\"kde\", size=10)\n",
    "plt.show()\n",
    "plt.savefig(plt.savefig('imgs/Bivariate graphs/picoYplaca/pp6_9_av.png'))"
   ]
  },
  {
   "cell_type": "code",
   "execution_count": null,
   "metadata": {},
   "outputs": [],
   "source": [
    "print('--------------------------------------ORIGIN--------------------------------------')\n",
    "pp9_15 = df2.loc[(df2.hora1_inicio >= 9) & (df2.hora1_inicio < 15)]\n",
    "sns.jointplot(x=\"x_coord_org\", y=\"y_coord_org\", data=pp9_15, kind=\"kde\", size=10)\n",
    "plt.show()\n",
    "plt.savefig(plt.savefig('imgs/Bivariate graphs/picoYplaca/pp9_15.png'))\n",
    "print('--------------------------------------ARRIVE--------------------------------------')\n",
    "pp9_15_av = df2.loc[(df2.hora1_fin >= 9) & (df2.hora1_fin < 15)]\n",
    "sns.jointplot(x=\"x_coord_org\", y=\"y_coord_org\", data=pp9_15_av, kind=\"kde\", size=10)\n",
    "plt.show()\n",
    "plt.savefig(plt.savefig('imgs/Bivariate graphs/picoYplaca/pp9_15_av.png'))"
   ]
  },
  {
   "cell_type": "code",
   "execution_count": null,
   "metadata": {},
   "outputs": [],
   "source": [
    "print('--------------------------------------ORIGIN--------------------------------------')\n",
    "pp15_20 = df2.loc[(df2.hora1_inicio >= 15) & (df2.hora1_inicio < 20)]\n",
    "sns.jointplot(x=\"x_coord_org\", y=\"y_coord_org\", data=pp15_20, kind=\"kde\", size=10)\n",
    "plt.show()\n",
    "plt.savefig(plt.savefig('imgs/Bivariate graphs/picoYplaca/pp15_20.png'))\n",
    "print('--------------------------------------ARRIVE--------------------------------------')\n",
    "pp15_20_av = df2.loc[(df2.hora1_fin >= 15) & (df2.hora1_fin < 20)]\n",
    "sns.jointplot(x=\"x_coord_org\", y=\"y_coord_org\", data=pp15_20_av, kind=\"kde\", size=10)\n",
    "plt.show()\n",
    "plt.savefig(plt.savefig('imgs/Bivariate graphs/picoYplaca/pp15_20_av.png'))"
   ]
  },
  {
   "cell_type": "code",
   "execution_count": null,
   "metadata": {},
   "outputs": [],
   "source": [
    "print('--------------------------------------ORIGIN--------------------------------------')\n",
    "pp20_24 = df2.loc[(df2.hora1_inicio >= 20) & (df2.hora1_inicio < 24)]\n",
    "sns.jointplot(x=\"x_coord_org\", y=\"y_coord_org\", data=pp20_24, kind=\"kde\", size=10)\n",
    "plt.show()\n",
    "plt.savefig(plt.savefig('imgs/Bivariate graphs/picoYplaca/pp20_24.png'))\n",
    "print('--------------------------------------ARRIVE--------------------------------------')\n",
    "pp20_24_av = df2.loc[(df2.hora1_fin >= 20) & (df2.hora1_fin < 24)]\n",
    "sns.jointplot(x=\"x_coord_org\", y=\"y_coord_org\", data=pp20_24_av, kind=\"kde\", size=10)\n",
    "plt.show()\n",
    "plt.savefig(plt.savefig('imgs/Bivariate graphs/picoYplaca/pp20_24av.png'))\n"
   ]
  },
  {
   "cell_type": "code",
   "execution_count": null,
   "metadata": {},
   "outputs": [],
   "source": [
    "t1 = 400\n",
    "t2 = 400\n",
    "print('--------------------------------------ORIGIN--------------------------------------')\n",
    "graphs = [('imgs/Bivariate graphs/picoYplaca/pp0_6.png', t1),\n",
    "          ('imgs/Bivariate graphs/picoYplaca/pp6_9.png', t1),\n",
    "          ('imgs/Bivariate graphs/picoYplaca/pp9_15.png',t1),\n",
    "          ('imgs/Bivariate graphs/picoYplaca/pp15_20.png', t1),\n",
    "          ('imgs/Bivariate graphs/picoYplaca/pp20_24.png', t2)]\n",
    "\n",
    "anima = APNG()\n",
    "for archivo, delay in graphs:\n",
    "    anima.append(archivo, delay=delay)\n",
    "anima.save('imgs/Bivariate graphs/picoYplaca/animPyP.png')\n",
    "Image(filename='imgs/Bivariate graphs/picoYplaca/animPyP.png')\n",
    "print('--------------------------------------ARRIVE--------------------------------------')"
   ]
  },
  {
   "cell_type": "markdown",
   "metadata": {},
   "source": [
    "# Time Blocks with 'valle' and 'pico' TM & SITP hours "
   ]
  },
  {
   "cell_type": "markdown",
   "metadata": {},
   "source": [
    "## 5-6 VALLE:"
   ]
  },
  {
   "cell_type": "code",
   "execution_count": null,
   "metadata": {},
   "outputs": [],
   "source": [
    "print('--------------------------------------ORIGIN--------------------------------------')\n",
    "#os.mkdir('imgs/Bivariate graphs/TM_SITP_H')\n",
    "tm5_6 = df2.loc[(df2.hora1_inicio == 5)]\n",
    "sns.jointplot(x=\"x_coord_org\", y=\"y_coord_org\", data=tm5_6, kind=\"kde\", size=10)\n",
    "plt.show()\n",
    "plt.savefig(plt.savefig('imgs/Bivariate graphs/TM_SITP_H/tm5_6.png'))\n",
    "print('--------------------------------------ARRIVE--------------------------------------')\n",
    "tm5_6_av = df2.loc[(df2.hora1_fin == 5)]\n",
    "sns.jointplot(x=\"x_coord_org\", y=\"y_coord_org\", data=tm5_6_av, kind=\"kde\", size=10)\n",
    "plt.show()\n",
    "plt.savefig(plt.savefig('imgs/Bivariate graphs/TM_SITP_H/tm5_6_av.png'))"
   ]
  },
  {
   "cell_type": "markdown",
   "metadata": {},
   "source": [
    "## 6-9 PICO:"
   ]
  },
  {
   "cell_type": "code",
   "execution_count": null,
   "metadata": {},
   "outputs": [],
   "source": [
    "print('--------------------------------------ORIGIN--------------------------------------')\n",
    "tm6_9 = df2.loc[(df2.hora1_inicio >= 6) & (df2.hora1_inicio < 9)]\n",
    "sns.jointplot(x=\"x_coord_org\", y=\"y_coord_org\", data=tm6_9, kind=\"kde\", size=10)\n",
    "plt.show()\n",
    "plt.savefig(plt.savefig('imgs/Bivariate graphs/TM_SITP_H/tm6_9.png'))\n",
    "print('--------------------------------------ARRIVE--------------------------------------')\n",
    "tm6_9_av = df2.loc[(df2.hora1_fin >= 6) & (df2.hora1_fin < 9)]\n",
    "sns.jointplot(x=\"x_coord_org\", y=\"y_coord_org\", data=tm6_9_av, kind=\"kde\", size=10)\n",
    "plt.show()\n",
    "plt.savefig(plt.savefig('imgs/Bivariate graphs/TM_SITP_H/tm6_9_av.png'))"
   ]
  },
  {
   "cell_type": "markdown",
   "metadata": {},
   "source": [
    "## 9-10 VALLE:"
   ]
  },
  {
   "cell_type": "code",
   "execution_count": null,
   "metadata": {},
   "outputs": [],
   "source": [
    "print('--------------------------------------ORIGIN--------------------------------------')\n",
    "tm9_10 = df2.loc[(df2.hora1_inicio >= 9) & (df2.hora1_inicio < 10)]\n",
    "sns.jointplot(x=\"x_coord_org\", y=\"y_coord_org\", data=tm9_10, kind=\"kde\", size=10)\n",
    "plt.show()\n",
    "plt.savefig(plt.savefig('imgs/Bivariate graphs/TM_SITP_H/tm9_10.png'))\n",
    "print('--------------------------------------ARRIVE--------------------------------------')\n",
    "tm9_10_av = df2.loc[(df2.hora1_fin >= 9) & (df2.hora1_fin < 10)]\n",
    "sns.jointplot(x=\"x_coord_org\", y=\"y_coord_org\", data=tm9_10_av, kind=\"kde\", size=10)\n",
    "plt.show()\n",
    "plt.savefig(plt.savefig('imgs/Bivariate graphs/TM_SITP_H/tm9_10_av.png'))"
   ]
  },
  {
   "cell_type": "markdown",
   "metadata": {},
   "source": [
    "## 10-16 PICO:"
   ]
  },
  {
   "cell_type": "code",
   "execution_count": null,
   "metadata": {},
   "outputs": [],
   "source": [
    "print('--------------------------------------ORIGIN--------------------------------------')\n",
    "tm10_16 = df2.loc[(df2.hora1_inicio >= 10) & (df2.hora1_inicio < 16)]\n",
    "sns.jointplot(x=\"x_coord_org\", y=\"y_coord_org\", data=tm10_16, kind=\"kde\", size=10)\n",
    "plt.show()\n",
    "plt.savefig(plt.savefig('imgs/Bivariate graphs/TM_SITP_H/tm10_16.png'))\n",
    "print('--------------------------------------ARRIVE--------------------------------------')\n",
    "tm10_16_av = df2.loc[(df2.hora1_fin >= 10) & (df2.hora1_fin < 16)]\n",
    "sns.jointplot(x=\"x_coord_org\", y=\"y_coord_org\", data=tm10_16_av, kind=\"kde\", size=10)\n",
    "plt.show()\n",
    "plt.savefig(plt.savefig('imgs/Bivariate graphs/TM_SITP_H/tm10_16_av.png'))"
   ]
  },
  {
   "cell_type": "markdown",
   "metadata": {},
   "source": [
    "## 16-17 VALLE:"
   ]
  },
  {
   "cell_type": "code",
   "execution_count": null,
   "metadata": {},
   "outputs": [],
   "source": [
    "print('--------------------------------------ORIGIN--------------------------------------')\n",
    "tm16_17 = df2.loc[(df2.hora1_inicio >= 16) & (df2.hora1_inicio < 17)]\n",
    "sns.jointplot(x=\"x_coord_org\", y=\"y_coord_org\", data=tm16_17, kind=\"kde\", size=10)\n",
    "plt.show()\n",
    "plt.savefig(plt.savefig('imgs/Bivariate graphs/TM_SITP_H/tm16_17.png'))\n",
    "print('--------------------------------------ARRIVE--------------------------------------')\n",
    "tm16_17_av = df2.loc[(df2.hora1_fin >= 16) & (df2.hora1_fin < 17)]\n",
    "sns.jointplot(x=\"x_coord_org\", y=\"y_coord_org\", data=tm16_17_av, kind=\"kde\", size=10)\n",
    "plt.show()\n",
    "plt.savefig(plt.savefig('imgs/Bivariate graphs/TM_SITP_H/tm16_17_av.png'))"
   ]
  },
  {
   "cell_type": "markdown",
   "metadata": {},
   "source": [
    "## 17-20 PICO:"
   ]
  },
  {
   "cell_type": "code",
   "execution_count": null,
   "metadata": {},
   "outputs": [],
   "source": [
    "print('--------------------------------------ORIGIN--------------------------------------')\n",
    "tm17_20 = df2.loc[(df2.hora1_inicio >= 17) & (df2.hora1_inicio < 20)]\n",
    "sns.jointplot(x=\"x_coord_org\", y=\"y_coord_org\", data=tm17_20, kind=\"kde\", size=10)\n",
    "plt.show()\n",
    "plt.savefig(plt.savefig('imgs/Bivariate graphs/TM_SITP_H/tm17_20.png'))\n",
    "print('--------------------------------------ARRIVE--------------------------------------')\n",
    "tm17_20_av = df2.loc[(df2.hora1_fin >= 17) & (df2.hora1_fin < 20)]\n",
    "sns.jointplot(x=\"x_coord_org\", y=\"y_coord_org\", data=tm17_20_av, kind=\"kde\", size=10)\n",
    "plt.show()\n",
    "plt.savefig(plt.savefig('imgs/Bivariate graphs/TM_SITP_H/tm17_20_av.png'))"
   ]
  },
  {
   "cell_type": "markdown",
   "metadata": {},
   "source": [
    "## 20-23 VALLE:"
   ]
  },
  {
   "cell_type": "code",
   "execution_count": null,
   "metadata": {},
   "outputs": [],
   "source": [
    "print('--------------------------------------ORIGIN--------------------------------------')\n",
    "tm20_23 = df2.loc[(df2.hora1_inicio >= 20) & (df2.hora1_inicio < 23)]\n",
    "sns.jointplot(x=\"x_coord_org\", y=\"y_coord_org\", data=tm20_23, kind=\"kde\", size=10)\n",
    "plt.show()\n",
    "plt.savefig(plt.savefig('imgs/Bivariate graphs/TM_SITP_H/tm20_23.png'))\n",
    "print('--------------------------------------ARRIVE--------------------------------------')\n",
    "tm20_23_av = df2.loc[(df2.hora1_fin >= 20) & (df2.hora1_fin < 23)]\n",
    "sns.jointplot(x=\"x_coord_org\", y=\"y_coord_org\", data=tm20_23_av, kind=\"kde\", size=10)\n",
    "plt.show()\n",
    "plt.savefig(plt.savefig('imgs/Bivariate graphs/TM_SITP_H/tm20_23_av.png'))"
   ]
  },
  {
   "cell_type": "code",
   "execution_count": null,
   "metadata": {},
   "outputs": [],
   "source": [
    "t1 = 400\n",
    "t2 = 400\n",
    "print('--------------------------------------ORIGIN--------------------------------------')\n",
    "graphs = [('imgs/Bivariate graphs/TM_SITP_H/tm5_6.png', t1),\n",
    "          ('imgs/Bivariate graphs/TM_SITP_H/tm6_9.png', t1),\n",
    "          ('imgs/Bivariate graphs/TM_SITP_H/tm9_10.png',t1),\n",
    "          ('imgs/Bivariate graphs/TM_SITP_H/tm10_16.png', t1),\n",
    "          ('imgs/Bivariate graphs/TM_SITP_H/tm16_17.png', t1),\n",
    "          ('imgs/Bivariate graphs/TM_SITP_H/tm17_20.png', t1),\n",
    "          ('imgs/Bivariate graphs/TM_SITP_H/tm20_23.png', t1)]\n",
    "\n",
    "anima = APNG()\n",
    "for archivo, delay in graphs:\n",
    "    anima.append(archivo, delay=delay)\n",
    "anima.save('imgs/Bivariate graphs/TM_SITP_H/anim_TM.png')\n",
    "Image(filename='imgs/Bivariate graphs/TM_SITP_H/anim_TM.png')\n",
    "print('--------------------------------------ARRIVE--------------------------------------')"
   ]
  },
  {
   "cell_type": "code",
   "execution_count": null,
   "metadata": {},
   "outputs": [],
   "source": []
  }
 ],
 "metadata": {
  "kernelspec": {
   "display_name": "Python 3",
   "language": "python",
   "name": "python3"
  },
  "language_info": {
   "codemirror_mode": {
    "name": "ipython",
    "version": 3
   },
   "file_extension": ".py",
   "mimetype": "text/x-python",
   "name": "python",
   "nbconvert_exporter": "python",
   "pygments_lexer": "ipython3",
   "version": "3.6.5"
  }
 },
 "nbformat": 4,
 "nbformat_minor": 2
}
