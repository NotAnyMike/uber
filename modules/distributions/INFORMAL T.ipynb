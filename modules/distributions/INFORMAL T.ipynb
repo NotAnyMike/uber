{
 "cells": [
  {
   "cell_type": "code",
   "execution_count": 1,
   "metadata": {},
   "outputs": [],
   "source": [
    "import pandas as pd\n",
    "import numpy as np\n",
    "import seaborn as sns\n",
    "import os\n",
    "from IPython.display import Image\n",
    "from matplotlib import pyplot as plt\n",
    "from apng import APNG"
   ]
  },
  {
   "cell_type": "code",
   "execution_count": 2,
   "metadata": {},
   "outputs": [],
   "source": [
    "pd.options.display.max_columns = 100\n",
    "df = pd.read_csv('encuesta_corr.csv', error_bad_lines=False)\n",
    "zat = pd.read_csv('zat.csv', sep=\";\")\n",
    "df['hora1_inicio'] = pd.to_datetime(df['HORA_INICIO'], format='%H:%M:%S').dt.hour\n",
    "df['hora1_fin'] = pd.to_datetime(df['HORA_FIN'], format='%H:%M:%S').dt.hour"
   ]
  },
  {
   "cell_type": "markdown",
   "metadata": {},
   "source": [
    "## RATE MOVILITY PER HOUR - ONLY INFORMAL IN BOGOTÀ"
   ]
  },
  {
   "cell_type": "code",
   "execution_count": null,
   "metadata": {},
   "outputs": [],
   "source": [
    "df1 = df[df.MEDIO_PREDOMINANTE == 'TAXI'] \n",
    "df2 = df1[df1.MUNICIPIO_ORIGEN == 'BOGOTA-DC 11001']\n",
    "rohit = pd.DataFrame(df2['hora1_inicio'].value_counts())\n",
    "rohft = pd.DataFrame(df2['hora1_fin'].value_counts())\n",
    "rohit.rename(columns={'hora1_inicio':'count_inicio_taxi'}, inplace=True)\n",
    "rohft.rename(columns={'hora1_fin':'count_fin_taxi'}, inplace=True)\n",
    "rohit['count_fin_taxi'] = rohft.count_fin_taxi\n",
    "roht = rohit\n",
    "roht['% inicio'] = (roht.count_inicio_taxi / len(df2)) * 100 \n",
    "roht['% fin'] = (roht.count_fin_taxi / len(df2)) * 100 \n",
    "roht"
   ]
  }
 ],
 "metadata": {
  "kernelspec": {
   "display_name": "Python 3",
   "language": "python",
   "name": "python3"
  },
  "language_info": {
   "codemirror_mode": {
    "name": "ipython",
    "version": 3
   },
   "file_extension": ".py",
   "mimetype": "text/x-python",
   "name": "python",
   "nbconvert_exporter": "python",
   "pygments_lexer": "ipython3",
   "version": "3.6.5"
  }
 },
 "nbformat": 4,
 "nbformat_minor": 2
}
