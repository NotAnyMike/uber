{
 "cells": [
  {
   "cell_type": "code",
   "execution_count": 2,
   "metadata": {},
   "outputs": [],
   "source": [
    "import matplotlib.pyplot as plt\n",
    "import pandas as pd\n",
    "import numpy as np\n",
    "import seaborn as sns\n",
    "import os"
   ]
  },
  {
   "cell_type": "code",
   "execution_count": 3,
   "metadata": {},
   "outputs": [
    {
     "name": "stdout",
     "output_type": "stream",
     "text": [
      "\t.\n",
      "\t['.ipynb_checkpoints']\n",
      "\t['data_turtles_1_1000.csv', 'data_turtles_1_2000.csv', 'data_turtles_1_3000.csv', 'data_turtles_1_4000.csv', 'data_turtles_1_5000.csv', 'data_turtles_1_6000.csv', 'data_turtles_1_7000.csv', 'data_turtles_1_8000.csv', 'data_turtles_1_9000.csv', 'Untitled.ipynb']\n",
      "\t.\\.ipynb_checkpoints\n",
      "\t[]\n",
      "\t[]\n"
     ]
    }
   ],
   "source": [
    "rootDir = '.'\n",
    "for fileList in os.walk(rootDir):\n",
    "    #print('Directorio encontrado: %s' % dirName)\n",
    "    for fname in fileList:\n",
    "        #print('\\t%s' % fname)\n",
    "        lista = fname\n",
    "        "
   ]
  },
  {
   "cell_type": "code",
   "execution_count": 4,
   "metadata": {},
   "outputs": [],
   "source": [
    "\n",
    "obs = 1\n",
    "tick = 1000\n",
    "range_files = int"
   ]
  },
  {
   "cell_type": "markdown",
   "metadata": {},
   "source": [
    "def file_name(obs,xticks,last_tick):\n",
    "    o = 1\n",
    "    #for o in range(obs):\n",
    "    while o <= obs:\n",
    "        p = 1\n",
    "        #for p in range(last_tick):\n",
    "        while p*xticks <= last_tick:\n",
    "\n",
    "            if p%xticks == 0:\n",
    "                file = 'data/data_turtles_'+ str(o) +'_'+str(p)+'.csv'\n",
    "                return file\n",
    "        p=p+1\n",
    "    o=o+1 \n",
    "\n",
    "       \n",
    "        \n",
    "print (file_name(1,10,100))    \n"
   ]
  },
  {
   "cell_type": "code",
   "execution_count": null,
   "metadata": {},
   "outputs": [],
   "source": [
    "def file_name "
   ]
  },
  {
   "cell_type": "code",
   "execution_count": 23,
   "metadata": {},
   "outputs": [],
   "source": [
    "\n",
    "d = pd.read_csv('data/data_turtles_'+ str(obs) +'_'+str(tick)+'.csv')"
   ]
  },
  {
   "cell_type": "code",
   "execution_count": 33,
   "metadata": {},
   "outputs": [
    {
     "name": "stdout",
     "output_type": "stream",
     "text": [
      "1\n"
     ]
    }
   ],
   "source": [
    "def mcd(m,n):\n",
    "    while m%n != 0:\n",
    "        mViejo = m\n",
    "        nViejo = n\n",
    "\n",
    "        m = nViejo\n",
    "        n = mViejo%nViejo\n",
    "    return n\n",
    "\n",
    "print(mcd(3,10))"
   ]
  },
  {
   "cell_type": "code",
   "execution_count": null,
   "metadata": {},
   "outputs": [],
   "source": []
  },
  {
   "cell_type": "code",
   "execution_count": null,
   "metadata": {},
   "outputs": [],
   "source": []
  }
 ],
 "metadata": {
  "kernelspec": {
   "display_name": "Python 3",
   "language": "python",
   "name": "python3"
  },
  "language_info": {
   "codemirror_mode": {
    "name": "ipython",
    "version": 3
   },
   "file_extension": ".py",
   "mimetype": "text/x-python",
   "name": "python",
   "nbconvert_exporter": "python",
   "pygments_lexer": "ipython3",
   "version": "3.6.5"
  }
 },
 "nbformat": 4,
 "nbformat_minor": 2
}
