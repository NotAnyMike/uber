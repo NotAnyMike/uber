{
 "cells": [
  {
   "cell_type": "code",
   "execution_count": 62,
   "metadata": {},
   "outputs": [],
   "source": [
    "from PIL import *\n",
    "import matplotlib.pyplot as plt\n",
    "import pandas as pd\n",
    "import numpy as np\n",
    "import seaborn as sns\n",
    "import os\n",
    "from apng import APNG\n",
    "from IPython.display import Image\n",
    "from os import walk"
   ]
  },
  {
   "cell_type": "markdown",
   "metadata": {},
   "source": [
    "# FUNCIÓN GENERADORA DE GRAFICAS PARA CADA OBSERVACIÓN "
   ]
  },
  {
   "cell_type": "code",
   "execution_count": 63,
   "metadata": {},
   "outputs": [
    {
     "data": {
      "text/plain": [
       "['data_turtles_1_9000.csv',\n",
       " 'data_turtles_1_5000.csv',\n",
       " '.DS_Store',\n",
       " 'Graph_generator.ipynb',\n",
       " 'data_turtles_1_7000.csv',\n",
       " 'data_turtles_1_3000.csv',\n",
       " 'data_turtles_1_1000.csv',\n",
       " 'data_turtles_1_8000.csv',\n",
       " 'data_turtles_1_4000.csv',\n",
       " 'temp.py',\n",
       " 'data_turtles_1_6000.csv',\n",
       " 'data_turtles_1_2000.csv']"
      ]
     },
     "execution_count": 63,
     "metadata": {},
     "output_type": "execute_result"
    }
   ],
   "source": [
    "def ls(ruta = '.'):\n",
    "        return next(walk(ruta))[2]\n",
    "outs_files = ls()\n",
    "outs_files.pop()\n",
    "outs_files"
   ]
  },
  {
   "cell_type": "code",
   "execution_count": 64,
   "metadata": {
    "collapsed": true
   },
   "outputs": [],
   "source": [
    "#FUNCIÓN GENERADORA DE GRAFICAS PARA CADA OBSERVACIÓN \n",
    "def graph_gen(obs):\n",
    "    \n",
    "    #OBTENIENDO LISTA DE CSV'S PARA PROCESAR\n",
    "    def ls(ruta = '.'):\n",
    "        return next(walk(ruta))[2]\n",
    "    outs_files = ls()\n",
    "    outs_files.pop()\n",
    "    outs_files = [file for file in outs_files if file.endswith('.csv')]\n",
    "    \n",
    "    #ABRIENDO CSV´S Y FILTRANDO POR 'PEOPLE' Y 'DRIVERS' \n",
    "    for file in outs_files:\n",
    "        plt.close()\n",
    "        #if outs_files.index(i) <= len(outs_files):\n",
    "        #file = outs_files[outs_files.index(i)]\n",
    "        df = pd.read_csv(file, error_bad_lines=False)\n",
    "        #df = pd.DataFrame(data=d)\n",
    "        print(file)\n",
    "        df2 = df.loc[df['breed'] == 'people']\n",
    "        df3 = df.loc[df['breed'] == 'drivers']\n",
    "\n",
    "        #GENERANDO GRAFICAS Y GUARDANDOLAS EN DIRECTORIO  \n",
    "        #people\n",
    "        sns.jointplot(x=\"x\", y=\"y\", data=df2, kind=\"kde\", size=10)\n",
    "        plt.savefig(plt.savefig('graphs/people/t_p_' + str(obs) + '_' + str(outs_files.index(file)+1) + '.png'))\n",
    "        #drivers \n",
    "        sns.jointplot(x=\"x\", y=\"y\", data=df3, kind=\"kde\", size=10)\n",
    "        plt.savefig(plt.savefig('graphs/drivers/t_d_' + str(obs) + '_' + str(outs_files.index(file)+1) + '.png'))\n",
    "\n",
    "        #print (i)\n",
    "        #print ('------------------------------')\n",
    "        #print (df[:1])\n",
    "        #print ('------------------------------')\n",
    "        #print (df2[:1])\n",
    "        #print ('------------------------------')\n",
    "        #print (df3[:1])\n",
    "        #print ('------------------------------')\n",
    "        #print (df.dtypes)\n",
    "        #print (error.y)\n",
    "        #print ('\\n')          \n",
    "        \n"
   ]
  },
  {
   "cell_type": "markdown",
   "metadata": {},
   "source": [
    "# FUNCIÓN GENERADORA DE ANIMACIÓN"
   ]
  },
  {
   "cell_type": "code",
   "execution_count": 65,
   "metadata": {
    "collapsed": true
   },
   "outputs": [],
   "source": [
    "#ANIMACIÓN\n",
    "def trans_graphs(obs):\n",
    "    groups = ['df2','df3']\n",
    "    for n in groups:\n",
    "        #people\n",
    "        if groups[groups.index(n)] == 'df2':\n",
    "\n",
    "            def ls(ruta = './graphs/people'):\n",
    "\n",
    "                return next(walk(ruta))[2]\n",
    "\n",
    "            images_people = ls()\n",
    "            images_people\n",
    "\n",
    "\n",
    "            for m in images_people:                           \n",
    "                img = str('./graphs/people/' + m)       \n",
    "                img\n",
    "                graphs = images_people\n",
    "                graphs[int(images_people.index(m))] = img                        \n",
    "\n",
    "            APNG.from_files(graphs,delay=400).save('./graphs/people/gif/trans_p_'+str(obs)+'.png')\n",
    "            Image(filename='./graphs/people/gif/trans_p_'+str(obs)+'.png')\n",
    "        #drivers\n",
    "        elif groups[groups.index(n)] == 'df3':\n",
    "\n",
    "            def ls(ruta = './graphs/drivers'):\n",
    "\n",
    "                return next(walk(ruta))[2]\n",
    "\n",
    "            images_drivers = ls()\n",
    "            images_drivers\n",
    "\n",
    "\n",
    "            for x in images_drivers:                           \n",
    "                immg = str('./graphs/drivers/' + x)       \n",
    "                immg\n",
    "                graphs = images_drivers\n",
    "                graphs[int(images_drivers.index(x))] = immg                        \n",
    "\n",
    "            APNG.from_files(graphs,delay=400).save('./graphs/drivers/gif/trans_d_'+str(obs)+'.png')\n",
    "            Image(filename='./graphs/drivers/gif/trans_d_'+str(obs)+'.png')"
   ]
  },
  {
   "cell_type": "code",
   "execution_count": 66,
   "metadata": {
    "scrolled": true
   },
   "outputs": [
    {
     "name": "stdout",
     "output_type": "stream",
     "text": [
      "data_turtles_1_9000.csv\n",
      "data_turtles_1_5000.csv\n",
      "data_turtles_1_7000.csv\n",
      "data_turtles_1_3000.csv\n",
      "data_turtles_1_1000.csv\n",
      "data_turtles_1_8000.csv\n",
      "data_turtles_1_4000.csv\n",
      "data_turtles_1_6000.csv\n",
      "data_turtles_1_2000.csv\n"
     ]
    }
   ],
   "source": [
    "graph_gen(1)"
   ]
  },
  {
   "cell_type": "code",
   "execution_count": 73,
   "metadata": {},
   "outputs": [
    {
     "ename": "NameError",
     "evalue": "global name 'PIL' is not defined",
     "output_type": "error",
     "traceback": [
      "\u001b[0;31m---------------------------------------------------------------------------\u001b[0m",
      "\u001b[0;31mNameError\u001b[0m                                 Traceback (most recent call last)",
      "\u001b[0;32m<ipython-input-73-11c25035cb8d>\u001b[0m in \u001b[0;36m<module>\u001b[0;34m()\u001b[0m\n\u001b[0;32m----> 1\u001b[0;31m \u001b[0mtrans_graphs\u001b[0m\u001b[0;34m(\u001b[0m\u001b[0;36m1\u001b[0m\u001b[0;34m)\u001b[0m\u001b[0;34m\u001b[0m\u001b[0m\n\u001b[0m",
      "\u001b[0;32m<ipython-input-65-98491eef962e>\u001b[0m in \u001b[0;36mtrans_graphs\u001b[0;34m(obs)\u001b[0m\n\u001b[1;32m     20\u001b[0m                 \u001b[0mgraphs\u001b[0m\u001b[0;34m[\u001b[0m\u001b[0mint\u001b[0m\u001b[0;34m(\u001b[0m\u001b[0mimages_people\u001b[0m\u001b[0;34m.\u001b[0m\u001b[0mindex\u001b[0m\u001b[0;34m(\u001b[0m\u001b[0mm\u001b[0m\u001b[0;34m)\u001b[0m\u001b[0;34m)\u001b[0m\u001b[0;34m]\u001b[0m \u001b[0;34m=\u001b[0m \u001b[0mimg\u001b[0m\u001b[0;34m\u001b[0m\u001b[0m\n\u001b[1;32m     21\u001b[0m \u001b[0;34m\u001b[0m\u001b[0m\n\u001b[0;32m---> 22\u001b[0;31m             \u001b[0mAPNG\u001b[0m\u001b[0;34m.\u001b[0m\u001b[0mfrom_files\u001b[0m\u001b[0;34m(\u001b[0m\u001b[0mgraphs\u001b[0m\u001b[0;34m,\u001b[0m\u001b[0mdelay\u001b[0m\u001b[0;34m=\u001b[0m\u001b[0;36m400\u001b[0m\u001b[0;34m)\u001b[0m\u001b[0;34m.\u001b[0m\u001b[0msave\u001b[0m\u001b[0;34m(\u001b[0m\u001b[0;34m'./graphs/people/gif/trans_p_'\u001b[0m\u001b[0;34m+\u001b[0m\u001b[0mstr\u001b[0m\u001b[0;34m(\u001b[0m\u001b[0mobs\u001b[0m\u001b[0;34m)\u001b[0m\u001b[0;34m+\u001b[0m\u001b[0;34m'.png'\u001b[0m\u001b[0;34m)\u001b[0m\u001b[0;34m\u001b[0m\u001b[0m\n\u001b[0m\u001b[1;32m     23\u001b[0m             \u001b[0mImage\u001b[0m\u001b[0;34m(\u001b[0m\u001b[0mfilename\u001b[0m\u001b[0;34m=\u001b[0m\u001b[0;34m'./graphs/people/gif/trans_p_'\u001b[0m\u001b[0;34m+\u001b[0m\u001b[0mstr\u001b[0m\u001b[0;34m(\u001b[0m\u001b[0mobs\u001b[0m\u001b[0;34m)\u001b[0m\u001b[0;34m+\u001b[0m\u001b[0;34m'.png'\u001b[0m\u001b[0;34m)\u001b[0m\u001b[0;34m\u001b[0m\u001b[0m\n\u001b[1;32m     24\u001b[0m         \u001b[0;31m#drivers\u001b[0m\u001b[0;34m\u001b[0m\u001b[0;34m\u001b[0m\u001b[0m\n",
      "\u001b[0;32m/Users/MikeW/.virtualenvs/uber/lib/python2.7/site-packages/apng/__init__.pyc\u001b[0m in \u001b[0;36mfrom_files\u001b[0;34m(cls, files, **options)\u001b[0m\n\u001b[1;32m    326\u001b[0m                 \u001b[0mo\u001b[0m \u001b[0;34m=\u001b[0m \u001b[0mcls\u001b[0m\u001b[0;34m(\u001b[0m\u001b[0;34m)\u001b[0m\u001b[0;34m\u001b[0m\u001b[0m\n\u001b[1;32m    327\u001b[0m                 \u001b[0;32mfor\u001b[0m \u001b[0mfile\u001b[0m \u001b[0;32min\u001b[0m \u001b[0mfiles\u001b[0m\u001b[0;34m:\u001b[0m\u001b[0;34m\u001b[0m\u001b[0m\n\u001b[0;32m--> 328\u001b[0;31m                         \u001b[0mo\u001b[0m\u001b[0;34m.\u001b[0m\u001b[0mappend\u001b[0m\u001b[0;34m(\u001b[0m\u001b[0mfile\u001b[0m\u001b[0;34m,\u001b[0m \u001b[0;34m**\u001b[0m\u001b[0moptions\u001b[0m\u001b[0;34m)\u001b[0m\u001b[0;34m\u001b[0m\u001b[0m\n\u001b[0m\u001b[1;32m    329\u001b[0m                 \u001b[0;32mreturn\u001b[0m \u001b[0mo\u001b[0m\u001b[0;34m\u001b[0m\u001b[0m\n\u001b[1;32m    330\u001b[0m \u001b[0;34m\u001b[0m\u001b[0m\n",
      "\u001b[0;32m/Users/MikeW/.virtualenvs/uber/lib/python2.7/site-packages/apng/__init__.pyc\u001b[0m in \u001b[0;36mappend\u001b[0;34m(self, png, **options)\u001b[0m\n\u001b[1;32m    234\u001b[0m                 \u001b[0;34m:\u001b[0m\u001b[0marg\u001b[0m \u001b[0moptions\u001b[0m\u001b[0;34m:\u001b[0m \u001b[0mSee\u001b[0m \u001b[0;34m:\u001b[0m\u001b[0;32mclass\u001b[0m\u001b[0;34m:\u001b[0m\u001b[0;34m`\u001b[0m\u001b[0mFrameControl\u001b[0m\u001b[0;34m`\u001b[0m\u001b[0;34m.\u001b[0m\u001b[0;34m\u001b[0m\u001b[0m\n\u001b[1;32m    235\u001b[0m \t\t\"\"\"\n\u001b[0;32m--> 236\u001b[0;31m                 \u001b[0mpng\u001b[0m \u001b[0;34m=\u001b[0m \u001b[0mPNG\u001b[0m\u001b[0;34m.\u001b[0m\u001b[0mopen\u001b[0m\u001b[0;34m(\u001b[0m\u001b[0mpng\u001b[0m\u001b[0;34m)\u001b[0m\u001b[0;34m\u001b[0m\u001b[0m\n\u001b[0m\u001b[1;32m    237\u001b[0m                 \u001b[0mcontrol\u001b[0m \u001b[0;34m=\u001b[0m \u001b[0mFrameControl\u001b[0m\u001b[0;34m(\u001b[0m\u001b[0;34m**\u001b[0m\u001b[0moptions\u001b[0m\u001b[0;34m)\u001b[0m\u001b[0;34m\u001b[0m\u001b[0m\n\u001b[1;32m    238\u001b[0m                 \u001b[0;32mif\u001b[0m \u001b[0mcontrol\u001b[0m\u001b[0;34m.\u001b[0m\u001b[0mwidth\u001b[0m \u001b[0;32mis\u001b[0m \u001b[0mNone\u001b[0m\u001b[0;34m:\u001b[0m\u001b[0;34m\u001b[0m\u001b[0m\n",
      "\u001b[0;32m/Users/MikeW/.virtualenvs/uber/lib/python2.7/site-packages/apng/__init__.pyc\u001b[0m in \u001b[0;36mopen\u001b[0;34m(cls, png)\u001b[0m\n\u001b[1;32m    145\u001b[0m \t\t\"\"\"\n\u001b[1;32m    146\u001b[0m                 \u001b[0mo\u001b[0m \u001b[0;34m=\u001b[0m \u001b[0mcls\u001b[0m\u001b[0;34m(\u001b[0m\u001b[0;34m)\u001b[0m\u001b[0;34m\u001b[0m\u001b[0m\n\u001b[0;32m--> 147\u001b[0;31m                 \u001b[0mo\u001b[0m\u001b[0;34m.\u001b[0m\u001b[0mchunks\u001b[0m \u001b[0;34m=\u001b[0m \u001b[0mlist\u001b[0m\u001b[0;34m(\u001b[0m\u001b[0mchunks\u001b[0m\u001b[0;34m(\u001b[0m\u001b[0mpng\u001b[0m\u001b[0;34m)\u001b[0m\u001b[0;34m)\u001b[0m\u001b[0;34m\u001b[0m\u001b[0m\n\u001b[0m\u001b[1;32m    148\u001b[0m                 \u001b[0mo\u001b[0m\u001b[0;34m.\u001b[0m\u001b[0minit\u001b[0m\u001b[0;34m(\u001b[0m\u001b[0;34m)\u001b[0m\u001b[0;34m\u001b[0m\u001b[0m\n\u001b[1;32m    149\u001b[0m                 \u001b[0;32mreturn\u001b[0m \u001b[0mo\u001b[0m\u001b[0;34m\u001b[0m\u001b[0m\n",
      "\u001b[0;32m/Users/MikeW/.virtualenvs/uber/lib/python2.7/site-packages/apng/__init__.pyc\u001b[0m in \u001b[0;36mchunks\u001b[0;34m(png)\u001b[0m\n\u001b[1;32m     85\u001b[0m                         \u001b[0;32mwith\u001b[0m \u001b[0mio\u001b[0m\u001b[0;34m.\u001b[0m\u001b[0mBytesIO\u001b[0m\u001b[0;34m(\u001b[0m\u001b[0mpng\u001b[0m\u001b[0;34m)\u001b[0m \u001b[0;32mas\u001b[0m \u001b[0mf\u001b[0m\u001b[0;34m:\u001b[0m\u001b[0;34m\u001b[0m\u001b[0m\n\u001b[1;32m     86\u001b[0m                                 \u001b[0;32mwith\u001b[0m \u001b[0mio\u001b[0m\u001b[0;34m.\u001b[0m\u001b[0mBytesIO\u001b[0m\u001b[0;34m(\u001b[0m\u001b[0;34m)\u001b[0m \u001b[0;32mas\u001b[0m \u001b[0mf2\u001b[0m\u001b[0;34m:\u001b[0m\u001b[0;34m\u001b[0m\u001b[0m\n\u001b[0;32m---> 87\u001b[0;31m                                         \u001b[0mPIL\u001b[0m\u001b[0;34m.\u001b[0m\u001b[0mImage\u001b[0m\u001b[0;34m.\u001b[0m\u001b[0mopen\u001b[0m\u001b[0;34m(\u001b[0m\u001b[0mf\u001b[0m\u001b[0;34m)\u001b[0m\u001b[0;34m.\u001b[0m\u001b[0msave\u001b[0m\u001b[0;34m(\u001b[0m\u001b[0mf2\u001b[0m\u001b[0;34m,\u001b[0m \u001b[0;34m\"PNG\"\u001b[0m\u001b[0;34m,\u001b[0m \u001b[0moptimize\u001b[0m\u001b[0;34m=\u001b[0m\u001b[0mTrue\u001b[0m\u001b[0;34m)\u001b[0m\u001b[0;34m\u001b[0m\u001b[0m\n\u001b[0m\u001b[1;32m     88\u001b[0m                                         \u001b[0mpng\u001b[0m \u001b[0;34m=\u001b[0m \u001b[0mf2\u001b[0m\u001b[0;34m.\u001b[0m\u001b[0mgetvalue\u001b[0m\u001b[0;34m(\u001b[0m\u001b[0;34m)\u001b[0m\u001b[0;34m\u001b[0m\u001b[0m\n\u001b[1;32m     89\u001b[0m                 \u001b[0;32melse\u001b[0m\u001b[0;34m:\u001b[0m\u001b[0;34m\u001b[0m\u001b[0m\n",
      "\u001b[0;31mNameError\u001b[0m: global name 'PIL' is not defined"
     ]
    }
   ],
   "source": [
    "trans_graphs(1)"
   ]
  },
  {
   "cell_type": "code",
   "execution_count": null,
   "metadata": {
    "collapsed": true
   },
   "outputs": [],
   "source": []
  }
 ],
 "metadata": {
  "kernelspec": {
   "display_name": "Python 2",
   "language": "python",
   "name": "python2"
  },
  "language_info": {
   "codemirror_mode": {
    "name": "ipython",
    "version": 2
   },
   "file_extension": ".py",
   "mimetype": "text/x-python",
   "name": "python",
   "nbconvert_exporter": "python",
   "pygments_lexer": "ipython2",
   "version": "2.7.10"
  }
 },
 "nbformat": 4,
 "nbformat_minor": 2
}
