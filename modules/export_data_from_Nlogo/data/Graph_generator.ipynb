{
 "cells": [
  {
   "cell_type": "code",
   "execution_count": 1,
   "metadata": {},
   "outputs": [],
   "source": [
    "from PIL import *\n",
    "import matplotlib.pyplot as plt\n",
    "import pandas as pd\n",
    "import numpy as np\n",
    "import seaborn as sns\n",
    "import os\n",
    "from apng import APNG\n",
    "from IPython.display import Image\n",
    "from os import walk"
   ]
  },
  {
   "cell_type": "markdown",
   "metadata": {},
   "source": [
    "# FUNCIÓN GENERADORA DE GRAFICAS PARA CADA OBSERVACIÓN "
   ]
  },
  {
   "cell_type": "code",
   "execution_count": 2,
   "metadata": {},
   "outputs": [
    {
     "name": "stdout",
     "output_type": "stream",
     "text": [
      "OBSERVATION #:1\n"
     ]
    }
   ],
   "source": [
    "num_obs = input('OBSERVATION #:')"
   ]
  },
  {
   "cell_type": "code",
   "execution_count": 3,
   "metadata": {},
   "outputs": [
    {
     "ename": "NameError",
     "evalue": "name 'obs' is not defined",
     "output_type": "error",
     "traceback": [
      "\u001b[1;31m---------------------------------------------------------------------------\u001b[0m",
      "\u001b[1;31mNameError\u001b[0m                                 Traceback (most recent call last)",
      "\u001b[1;32m<ipython-input-3-22eddc76ea0f>\u001b[0m in \u001b[0;36m<module>\u001b[1;34m()\u001b[0m\n\u001b[1;32m----> 1\u001b[1;33m \u001b[1;32mif\u001b[0m \u001b[0mos\u001b[0m\u001b[1;33m.\u001b[0m\u001b[0mpath\u001b[0m\u001b[1;33m.\u001b[0m\u001b[0mexists\u001b[0m\u001b[1;33m(\u001b[0m\u001b[1;34m'GENERAL_'\u001b[0m \u001b[1;33m+\u001b[0m \u001b[0mstr\u001b[0m\u001b[1;33m(\u001b[0m\u001b[0mobs\u001b[0m\u001b[1;33m)\u001b[0m\u001b[1;33m+\u001b[0m\u001b[1;34m'_.csv'\u001b[0m\u001b[1;33m)\u001b[0m \u001b[1;33m==\u001b[0m \u001b[1;32mTrue\u001b[0m\u001b[1;33m:\u001b[0m\u001b[1;33m\u001b[0m\u001b[0m\n\u001b[0m\u001b[0;32m      2\u001b[0m        \u001b[1;32mif\u001b[0m \u001b[0mos\u001b[0m\u001b[1;33m.\u001b[0m\u001b[0mpath\u001b[0m\u001b[1;33m.\u001b[0m\u001b[0mexists\u001b[0m\u001b[1;33m(\u001b[0m\u001b[1;34m'OBS_'\u001b[0m \u001b[1;33m+\u001b[0m \u001b[0mstr\u001b[0m\u001b[1;33m(\u001b[0m\u001b[0mobs\u001b[0m\u001b[1;33m)\u001b[0m\u001b[1;33m)\u001b[0m \u001b[1;33m==\u001b[0m \u001b[1;32mFalse\u001b[0m\u001b[1;33m:\u001b[0m\u001b[1;33m\u001b[0m\u001b[0m\n\u001b[0;32m      3\u001b[0m            \u001b[0mos\u001b[0m\u001b[1;33m.\u001b[0m\u001b[0mmakedirs\u001b[0m\u001b[1;33m(\u001b[0m\u001b[1;34m'OBS_'\u001b[0m\u001b[1;33m+\u001b[0m\u001b[0mstr\u001b[0m\u001b[1;33m(\u001b[0m\u001b[0mobs\u001b[0m\u001b[1;33m)\u001b[0m\u001b[1;33m+\u001b[0m\u001b[1;34m'/people/gif'\u001b[0m\u001b[1;33m)\u001b[0m\u001b[1;33m\u001b[0m\u001b[0m\n\u001b[0;32m      4\u001b[0m            \u001b[0mos\u001b[0m\u001b[1;33m.\u001b[0m\u001b[0mmakedirs\u001b[0m\u001b[1;33m(\u001b[0m\u001b[1;34m'OBS_'\u001b[0m\u001b[1;33m+\u001b[0m\u001b[0mstr\u001b[0m\u001b[1;33m(\u001b[0m\u001b[0mobs\u001b[0m\u001b[1;33m)\u001b[0m\u001b[1;33m+\u001b[0m\u001b[1;34m'/drivers/gif'\u001b[0m\u001b[1;33m)\u001b[0m\u001b[1;33m\u001b[0m\u001b[0m\n",
      "\u001b[1;31mNameError\u001b[0m: name 'obs' is not defined"
     ]
    }
   ],
   "source": [
    " if os.path.exists('GENERAL_' + str(obs)+'_.csv') == True:\n",
    "        if os.path.exists('OBS_' + str(obs)) == False:\n",
    "            os.makedirs('OBS_'+str(obs)+'/people/gif')\n",
    "            os.makedirs('OBS_'+str(obs)+'/drivers/gif')"
   ]
  },
  {
   "cell_type": "code",
   "execution_count": 4,
   "metadata": {},
   "outputs": [
    {
     "data": {
      "text/plain": [
       "['data_turtles_1_1000.csv',\n",
       " 'data_turtles_1_2000.csv',\n",
       " 'data_turtles_1_3000.csv',\n",
       " 'data_turtles_1_4000.csv',\n",
       " 'data_turtles_1_5000.csv',\n",
       " 'data_turtles_1_6000.csv',\n",
       " 'data_turtles_1_7000.csv',\n",
       " 'data_turtles_1_8000.csv',\n",
       " 'data_turtles_1_9000.csv',\n",
       " 'data_turtles_3_1000.csv',\n",
       " 'data_turtles_3_2000.csv',\n",
       " 'data_turtles_3_3000.csv',\n",
       " 'data_turtles_3_4000.csv',\n",
       " 'data_turtles_3_5000.csv',\n",
       " 'data_turtles_3_6000.csv',\n",
       " 'data_turtles_3_7000.csv',\n",
       " 'data_turtles_3_8000.csv',\n",
       " 'data_turtles_3_9000.csv',\n",
       " 'GENERAL_1_.csv',\n",
       " 'GENERAL_3_.csv',\n",
       " 'Graph_generator.ipynb']"
      ]
     },
     "execution_count": 4,
     "metadata": {},
     "output_type": "execute_result"
    }
   ],
   "source": [
    "def ls(ruta = '.'):\n",
    "        return next(walk(ruta))[2]\n",
    "outs_files = ls()\n",
    "outs_files.pop()\n",
    "outs_files"
   ]
  },
  {
   "cell_type": "code",
   "execution_count": 13,
   "metadata": {},
   "outputs": [
    {
     "data": {
      "text/plain": [
       "[1, 3, 4, 23, 3, 4, 2, 2, 2, 2]"
      ]
     },
     "execution_count": 13,
     "metadata": {},
     "output_type": "execute_result"
    }
   ],
   "source": [
    "[1,3,4,23,3,4,2,2,2,2]"
   ]
  },
  {
   "cell_type": "code",
   "execution_count": 15,
   "metadata": {},
   "outputs": [
    {
     "data": {
      "text/plain": [
       "{1, 2, 3}"
      ]
     },
     "execution_count": 15,
     "metadata": {},
     "output_type": "execute_result"
    }
   ],
   "source": [
    "set([1,2,3,2,2])"
   ]
  },
  {
   "cell_type": "code",
   "execution_count": 12,
   "metadata": {},
   "outputs": [
    {
     "data": {
      "text/plain": [
       "['data_turtles_1_1000.csv', 'data_turtles_3_1000.csv']"
      ]
     },
     "execution_count": 12,
     "metadata": {},
     "output_type": "execute_result"
    }
   ],
   "source": [
    "[i for i in outs_files if \"1000\" in i]"
   ]
  },
  {
   "cell_type": "code",
   "execution_count": 16,
   "metadata": {},
   "outputs": [
    {
     "data": {
      "text/plain": [
       "{1, 3, 4, 53}"
      ]
     },
     "execution_count": 16,
     "metadata": {},
     "output_type": "execute_result"
    }
   ],
   "source": [
    "{1,3,4,53,3,3}"
   ]
  },
  {
   "cell_type": "code",
   "execution_count": null,
   "metadata": {},
   "outputs": [],
   "source": [
    "12/23/23/10:30_1000.csv"
   ]
  },
  {
   "cell_type": "code",
   "execution_count": 4,
   "metadata": {},
   "outputs": [
    {
     "data": {
      "text/plain": [
       "1"
      ]
     },
     "execution_count": 4,
     "metadata": {},
     "output_type": "execute_result"
    }
   ],
   "source": [
    "#gd = pd.read_csv('GENERAL_1_.csv')\n",
    "#gd.iloc[1,0]\n"
   ]
  },
  {
   "cell_type": "markdown",
   "metadata": {
    "collapsed": true
   },
   "source": [
    "#FUNCIÓN GENERADORA DE GRAFICAS PARA CADA OBSERVACIÓN \n",
    "def graph_gen(obs):\n",
    "    \n",
    "    #OBTENIENDO LISTA DE CSV'S PARA PROCESAR\n",
    "    def ls(ruta = '.'):\n",
    "        return next(walk(ruta))[2]\n",
    "    outs_files = ls()\n",
    "    outs_files.pop()\n",
    "    outs_files = [file for file in outs_files if file.endswith('.csv')]\n",
    "    \n",
    "    #ABRIENDO CSV´S Y FILTRANDO POR 'PEOPLE' Y 'DRIVERS' \n",
    "    for file in outs_files:\n",
    "        plt.close()\n",
    "        #if outs_files.index(i) <= len(outs_files):\n",
    "        #file = outs_files[outs_files.index(i)]\n",
    "        df = pd.read_csv(file, error_bad_lines=False)\n",
    "        #df = pd.DataFrame(data=d)\n",
    "        print(file)\n",
    "        df2 = df.loc[df['breed'] == 'people']\n",
    "        df3 = df.loc[df['breed'] == 'drivers']\n",
    "\n",
    "        #GENERANDO GRAFICAS Y GUARDANDOLAS EN DIRECTORIO  \n",
    "        #people\n",
    "        sns.jointplot(x=\"x\", y=\"y\", data=df2, kind=\"kde\", size=10)\n",
    "        plt.savefig(plt.savefig('graphs/people/t_p_' + str(obs) + '_' + str(outs_files.index(file)+1) + '.png'))\n",
    "        #drivers \n",
    "        sns.jointplot(x=\"x\", y=\"y\", data=df3, kind=\"kde\", size=10)\n",
    "        plt.savefig(plt.savefig('graphs/drivers/t_d_' + str(obs) + '_' + str(outs_files.index(file)+1) + '.png'))\n",
    "\n",
    "        #print (i)\n",
    "        #print ('------------------------------')\n",
    "        #print (df[:1])\n",
    "        #print ('------------------------------')\n",
    "        #print (df2[:1])\n",
    "        #print ('------------------------------')\n",
    "        #print (df3[:1])\n",
    "        #print ('------------------------------')\n",
    "        #print (df.dtypes)\n",
    "        #print (error.y)\n",
    "        #print ('\\n')          \n",
    "        \n"
   ]
  },
  {
   "cell_type": "code",
   "execution_count": 5,
   "metadata": {},
   "outputs": [],
   "source": [
    "#FUNCIÓN GENERADORA DE GRAFICAS PARA CADA OBSERVACIÓN \n",
    "def graph_gen(obs):\n",
    "    \n",
    "    #OBTENIENDO LISTA DE CSV'S PARA PROCESAR\n",
    "    def ls(ruta = '.'):\n",
    "        return next(walk(ruta))[2]\n",
    "    outs_files = ls()\n",
    "    outs_files.pop()\n",
    "    outs_files\n",
    "    \n",
    "    #ABRIENDO CSV´S Y FILTRANDO POR 'PEOPLE' Y 'DRIVERS'\n",
    "    \n",
    "    for i in outs_files:\n",
    "        if outs_files.index(i) <= len(outs_files):\n",
    "            file = outs_files[outs_files.index(i)]\n",
    "            d = pd.read_csv(file, error_bad_lines=False)\n",
    "            df = pd.DataFrame(data=d)\n",
    "            df2 = df[df['breed'] == 'people']\n",
    "            df3 = df[df['breed'] == 'drivers']\n",
    "            \n",
    "            #GENERANDO GRAFICAS Y GUARDANDOLAS EN DIRECTORIO  \n",
    "            #people\n",
    "            sns.jointplot(x=\"x\", y=\"y\", data=df2, kind=\"kde\", size=10)\n",
    "            plt.savefig(plt.savefig('graphs/people/t_p_' + str(obs) + '_' + str(outs_files.index(i)+1) + '.png'))\n",
    "            #drivers \n",
    "            sns.jointplot(x=\"x\", y=\"y\", data=df3, kind=\"kde\", size=10)\n",
    "            plt.savefig(plt.savefig('graphs/drivers/t_d_' + str(obs) + '_' + str(outs_files.index(i)+1) + '.png'))\n",
    "\n",
    "   \n",
    "            \n",
    "\n",
    "            \n",
    "    \n",
    "            #print (i)\n",
    "            #print ('------------------------------')\n",
    "            #print (df[:1])\n",
    "            #print ('------------------------------')\n",
    "            #print (df2[:1])\n",
    "            #print ('------------------------------')\n",
    "            #print (df3[:1])\n",
    "            #print ('------------------------------')\n",
    "            #print (df.dtypes)\n",
    "            #print (error.y)\n",
    "            #print ('\\n')          \n",
    "        \n"
   ]
  },
  {
   "cell_type": "code",
   "execution_count": 6,
   "metadata": {},
   "outputs": [],
   "source": [
    "#ANIMACIÓN\n",
    "def trans_graphs(obs):\n",
    "    groups = ['df2','df3']\n",
    "    for n in groups:\n",
    "        #people\n",
    "        if groups[groups.index(n)] == 'df2':\n",
    "\n",
    "            def ls(ruta = './OBS_'+str(obs)+'/people'):\n",
    "\n",
    "                return next(walk(ruta))[2]\n",
    "\n",
    "            images_people = ls()\n",
    "            images_people\n",
    "\n",
    "\n",
    "            for m in images_people:                           \n",
    "                img = str('./OBS_'+str(obs)+'/people' + m)       \n",
    "                img\n",
    "                graphs = images_people\n",
    "                graphs[int(images_people.index(m))] = img                        \n",
    "\n",
    "            APNG.from_files(graphs,delay=400).save('./OBS_'+str(obs)+'/people/gif/trans_p_'+str(obs)+'.png')\n",
    "            Image(filename='./OBS_'+str(obs)+'/people/gif/trans_p_'+str(obs)+'.png')\n",
    "        #drivers\n",
    "        elif groups[groups.index(n)] == 'df3':\n",
    "\n",
    "            def ls(ruta = './OBS_'+str(obs)+'/drivers'):\n",
    "\n",
    "                return next(walk(ruta))[2]\n",
    "\n",
    "            images_drivers = ls()\n",
    "            images_drivers\n",
    "\n",
    "\n",
    "            for x in images_drivers:                           \n",
    "                immg = str('./OBS_'+str(obs)+'/drivers' + x)       \n",
    "                immg\n",
    "                graphs = images_drivers\n",
    "                graphs[int(images_drivers.index(x))] = immg                        \n",
    "\n",
    "            APNG.from_files(graphs,delay=400).save('./OBS_'+str(obs)+'/drivers/gif/trans_d_'+str(obs)+'.png')\n",
    "            Image(filename='./OBS_'+str(obs)+'/drivers/gif/trans_d_'+str(obs)+'.png')"
   ]
  },
  {
   "cell_type": "code",
   "execution_count": 1,
   "metadata": {},
   "outputs": [
    {
     "name": "stdout",
     "output_type": "stream",
     "text": [
      "hola\n",
      "43\n",
      "i\n"
     ]
    }
   ],
   "source": [
    "for i in [\"hola\",\"43\",\"i\"]:\n",
    "    print(i)"
   ]
  },
  {
   "cell_type": "code",
   "execution_count": 8,
   "metadata": {},
   "outputs": [],
   "source": [
    "def graph_gen1(obs):\n",
    "   \n",
    "\n",
    "    #OBTENIENDO LISTA DE CSV'S PARA PROCESAR\n",
    "    def ls(ruta = '.'):\n",
    "        return next(walk(ruta))[2]\n",
    "    outs_files = ls()\n",
    "    outs_files.pop()\n",
    "    outs_files\n",
    "\n",
    "    #CREEANDO DIRECTORIOS\n",
    "    if os.path.exists('GENERAL_' + str(obs)+'_.csv') == True:\n",
    "        if os.path.exists('OBS_' + str(obs)) == False:\n",
    "            os.makedirs('OBS_'+str(obs)+'/people/gif')\n",
    "            os.makedirs('OBS_'+str(obs)+'/drivers/gif')\n",
    "                              \n",
    "   \n",
    "            #ABRIENDO CSV´S Y FILTRANDO POR 'PEOPLE' Y 'DRIVERS'\n",
    "            \n",
    "            for file in outs_files:\n",
    "                d = pd.read_csv(file, error_bad_lines=False)\n",
    "                df = pd.DataFrame(data=d)\n",
    "                df2 = df[df['breed'] == 'people']\n",
    "                df3 = df[df['breed'] == 'drivers']\n",
    "\n",
    "                #GENERANDO GRAFICAS Y GUARDANDOLAS EN DIRECTORIO  \n",
    "                #people\n",
    "                sns.jointplot(x=\"x\", y=\"y\", data=df2, kind=\"kde\", size=10)\n",
    "                plt.savefig(plt.savefig('OBS_'+str(obs)+'/people'+'/t_p_' + str(obs) + '_' + str(outs_files.index(i)+1) + '.png'))\n",
    "                #drivers \n",
    "                sns.jointplot(x=\"x\", y=\"y\", data=df3, kind=\"kde\", size=10)\n",
    "                plt.savefig(plt.savefig('OBS_'+str(obs)+'/drivers/t_d_' + str(obs) + '_' + str(outs_files.index(i)+1) + '.png'))\n",
    "        else:\n",
    "            des = input('OBSERVATION ALREADY EXISTS \\n Do you wnat to: \\n a. replace the files.\\n b. create other dir. \\n')\n",
    "            if des == 'a':\n",
    "                os.rmdir('OBS_'+str(obs)+'/people/gif')\n",
    "                os.makedirs('OBS_'+str(obs)+'/people/gif')\n",
    "                os.makedirs('OBS_'+str(obs)+'/drivers/gif')\n",
    "\n",
    "\n",
    "                #ABRIENDO CSV´S Y FILTRANDO POR 'PEOPLE' Y 'DRIVERS'\n",
    "\n",
    "                for i in outs_files:\n",
    "                    if outs_files.index(i) <= len(outs_files):\n",
    "                        file = outs_files[outs_files.index(i)]\n",
    "                        d = pd.read_csv(file, error_bad_lines=False)\n",
    "                        df = pd.DataFrame(data=d)\n",
    "                        df2 = df[df['breed'] == 'people']\n",
    "                        df3 = df[df['breed'] == 'drivers']\n",
    "\n",
    "                        #GENERANDO GRAFICAS Y GUARDANDOLAS EN DIRECTORIO  \n",
    "                        #people\n",
    "                        sns.jointplot(x=\"x\", y=\"y\", data=df2, kind=\"kde\", size=10)\n",
    "                        plt.savefig(plt.savefig('OBS_'+str(obs)+'/people'+'/t_p_' + str(obs) + '_' + str(outs_files.index(i)+1) + '.png'))\n",
    "                        #drivers \n",
    "                        sns.jointplot(x=\"x\", y=\"y\", data=df3, kind=\"kde\", size=10)\n",
    "                        plt.savefig(plt.savefig('OBS_'+str(obs)+'/drivers/t_d_' + str(obs) + '_' + str(outs_files.index(i)+1) + '.png'))\n",
    "            elif des == 'b':\n",
    "                new_name = input('New dir observation name:')\n",
    "                os.makedirs(str(new_name)+str(obs)+'/people/gif')\n",
    "                os.makedirs(str(new_name)+str(obs)+'/drivers/gif')\n",
    "\n",
    "\n",
    "                #ABRIENDO CSV´S Y FILTRANDO POR 'PEOPLE' Y 'DRIVERS'\n",
    "\n",
    "                for i in outs_files:\n",
    "                    if outs_files.index(i) <= len(outs_files):\n",
    "                        file = outs_files[outs_files.index(i)]\n",
    "                        d = pd.read_csv(file, error_bad_lines=False)\n",
    "                        df = pd.DataFrame(data=d)\n",
    "                        df2 = df[df['breed'] == 'people']\n",
    "                        df3 = df[df['breed'] == 'drivers']\n",
    "\n",
    "                        #GENERANDO GRAFICAS Y GUARDANDOLAS EN DIRECTORIO  \n",
    "                        #people\n",
    "                        sns.jointplot(x=\"x\", y=\"y\", data=df2, kind=\"kde\", size=10)\n",
    "                        plt.savefig(plt.savefig(new_name +str(obs)+'/people'+'/t_p_' + str(obs) + '_' + str(outs_files.index(i)+1) + '.png'))\n",
    "                        #drivers \n",
    "                        sns.jointplot(x=\"x\", y=\"y\", data=df3, kind=\"kde\", size=10)\n",
    "                        plt.savefig(plt.savefig(new_name +str(obs)+'/drivers/t_d_' + str(obs) + '_' + str(outs_files.index(i)+1) + '.png'))\n",
    "           \n",
    "                \n",
    "\n",
    "    else:\n",
    "        print('There is no file GENERAL_'+str(obs)+'_ for this observation')"
   ]
  },
  {
   "cell_type": "code",
   "execution_count": null,
   "metadata": {},
   "outputs": [
    {
     "name": "stdout",
     "output_type": "stream",
     "text": [
      "OBSERVATION ALREADY EXISTS \n",
      " Do you wnat to: \n",
      " a. replace the files.\n",
      " b. create other dir. \n",
      "b\n"
     ]
    }
   ],
   "source": [
    "graph_gen1(3)"
   ]
  },
  {
   "cell_type": "markdown",
   "metadata": {},
   "source": [
    "# FUNCIÓN GENERADORA DE ANIMACIÓN"
   ]
  },
  {
   "cell_type": "code",
   "execution_count": 14,
   "metadata": {},
   "outputs": [],
   "source": [
    "#ANIMACIÓN\n",
    "def trans_graphs(obs):\n",
    "    groups = ['df2','df3']\n",
    "    for n in groups:\n",
    "        #people\n",
    "        if groups[groups.index(n)] == 'df2':\n",
    "\n",
    "            def ls(ruta = './graphs/people'):\n",
    "\n",
    "                return next(walk(ruta))[2]\n",
    "\n",
    "            images_people = ls()\n",
    "            images_people\n",
    "\n",
    "\n",
    "            for m in images_people:                           \n",
    "                img = str('./graphs/people/' + m)       \n",
    "                img\n",
    "                graphs = images_people\n",
    "                graphs[int(images_people.index(m))] = img                        \n",
    "\n",
    "            APNG.from_files(graphs,delay=400).save('./graphs/people/gif/trans_p_'+str(obs)+'.png')\n",
    "            Image(filename='./graphs/people/gif/trans_p_'+str(obs)+'.png')\n",
    "        #drivers\n",
    "        elif groups[groups.index(n)] == 'df3':\n",
    "\n",
    "            def ls(ruta = './graphs/drivers'):\n",
    "\n",
    "                return next(walk(ruta))[2]\n",
    "\n",
    "            images_drivers = ls()\n",
    "            images_drivers\n",
    "\n",
    "\n",
    "            for x in images_drivers:                           \n",
    "                immg = str('./graphs/drivers/' + x)       \n",
    "                immg\n",
    "                graphs = images_drivers\n",
    "                graphs[int(images_drivers.index(x))] = immg                        \n",
    "\n",
    "            APNG.from_files(graphs,delay=400).save('./graphs/drivers/gif/trans_d_'+str(obs)+'.png')\n",
    "            Image(filename='./graphs/drivers/gif/trans_d_'+str(obs)+'.png')"
   ]
  },
  {
   "cell_type": "code",
   "execution_count": null,
   "metadata": {
    "scrolled": true
   },
   "outputs": [],
   "source": [
    "graph_gen(1)"
   ]
  },
  {
   "cell_type": "code",
   "execution_count": 13,
   "metadata": {},
   "outputs": [
    {
     "ename": "NameError",
     "evalue": "name 'filenames' is not defined",
     "output_type": "error",
     "traceback": [
      "\u001b[1;31m---------------------------------------------------------------------------\u001b[0m",
      "\u001b[1;31mNameError\u001b[0m                                 Traceback (most recent call last)",
      "\u001b[1;32m<ipython-input-13-6b59346b5da9>\u001b[0m in \u001b[0;36m<module>\u001b[1;34m()\u001b[0m\n\u001b[0;32m      1\u001b[0m \u001b[1;32mimport\u001b[0m \u001b[0mimageio\u001b[0m\u001b[1;33m\u001b[0m\u001b[0m\n\u001b[0;32m      2\u001b[0m \u001b[0mimages\u001b[0m \u001b[1;33m=\u001b[0m \u001b[1;33m[\u001b[0m\u001b[1;33m]\u001b[0m\u001b[1;33m\u001b[0m\u001b[0m\n\u001b[1;32m----> 3\u001b[1;33m \u001b[1;32mfor\u001b[0m \u001b[0mfilename\u001b[0m \u001b[1;32min\u001b[0m \u001b[0mfilenames\u001b[0m\u001b[1;33m:\u001b[0m\u001b[1;33m\u001b[0m\u001b[0m\n\u001b[0m\u001b[0;32m      4\u001b[0m     \u001b[0mimages\u001b[0m\u001b[1;33m.\u001b[0m\u001b[0mappend\u001b[0m\u001b[1;33m(\u001b[0m\u001b[0mimageio\u001b[0m\u001b[1;33m.\u001b[0m\u001b[0mimread\u001b[0m\u001b[1;33m(\u001b[0m\u001b[0mfilename\u001b[0m\u001b[1;33m)\u001b[0m\u001b[1;33m)\u001b[0m\u001b[1;33m\u001b[0m\u001b[0m\n\u001b[0;32m      5\u001b[0m \u001b[0mimageio\u001b[0m\u001b[1;33m.\u001b[0m\u001b[0mmimsave\u001b[0m\u001b[1;33m(\u001b[0m\u001b[1;34m'/path/to/movie.gif'\u001b[0m\u001b[1;33m,\u001b[0m \u001b[0mimages\u001b[0m\u001b[1;33m)\u001b[0m\u001b[1;33m\u001b[0m\u001b[0m\n",
      "\u001b[1;31mNameError\u001b[0m: name 'filenames' is not defined"
     ]
    }
   ],
   "source": [
    "import imageio\n",
    "images = []\n",
    "for filename in filenames:\n",
    "    images.append(imageio.imread(filename))\n",
    "imageio.mimsave('/path/to/movie.gif', images)"
   ]
  },
  {
   "cell_type": "code",
   "execution_count": 16,
   "metadata": {},
   "outputs": [],
   "source": [
    "trans_graphs(1)"
   ]
  },
  {
   "cell_type": "code",
   "execution_count": null,
   "metadata": {},
   "outputs": [],
   "source": []
  }
 ],
 "metadata": {
  "kernelspec": {
   "display_name": "Python 3",
   "language": "python",
   "name": "python3"
  },
  "language_info": {
   "codemirror_mode": {
    "name": "ipython",
    "version": 3
   },
   "file_extension": ".py",
   "mimetype": "text/x-python",
   "name": "python",
   "nbconvert_exporter": "python",
   "pygments_lexer": "ipython3",
   "version": "3.6.5"
  }
 },
 "nbformat": 4,
 "nbformat_minor": 2
}
