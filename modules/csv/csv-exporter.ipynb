{
 "cells": [
  {
   "cell_type": "markdown",
   "metadata": {},
   "source": [
    "# SHP2CSV algorithm\n",
    "## Importing libraries"
   ]
  },
  {
   "cell_type": "code",
   "execution_count": 16,
   "metadata": {},
   "outputs": [
    {
     "data": {
      "text/plain": [
       "'/usr/local/opt/python/bin/python3.7'"
      ]
     },
     "execution_count": 16,
     "metadata": {},
     "output_type": "execute_result"
    }
   ],
   "source": [
    "import sys\n",
    "sys.executable"
   ]
  },
  {
   "cell_type": "code",
   "execution_count": 17,
   "metadata": {},
   "outputs": [],
   "source": [
    "from shapely.geometry import shape\n",
    "from shapely.ops import unary_union\n",
    "import fiona\n",
    "import networkx as nx\n",
    "import itertools\n",
    "import matplotlib.pyplot as plt\n",
    "from IPython.core.debugger import Tracer\n",
    "from shutil import copyfile\n",
    "import pandas as pd"
   ]
  },
  {
   "cell_type": "markdown",
   "metadata": {},
   "source": [
    "## Importing and reading shp file"
   ]
  },
  {
   "cell_type": "markdown",
   "metadata": {},
   "source": [
    "## Converting `geoms` into a planar graph"
   ]
  },
  {
   "cell_type": "code",
   "execution_count": 18,
   "metadata": {},
   "outputs": [],
   "source": [
    "file_info = fiona.open(\"shp/Rutas_Transmilenio/Rutas_Transmilenio.shp\")"
   ]
  },
  {
   "cell_type": "markdown",
   "metadata": {},
   "source": [
    "## Creating a Graph object in order to print it\n",
    "this part of the code is not needed, it is just for having an idea of the graph that is going to be exported"
   ]
  },
  {
   "cell_type": "markdown",
   "metadata": {},
   "source": [
    "## Plotting the graph"
   ]
  },
  {
   "cell_type": "markdown",
   "metadata": {},
   "source": [
    "## Creating sets"
   ]
  },
  {
   "cell_type": "code",
   "execution_count": 19,
   "metadata": {},
   "outputs": [],
   "source": [
    "y = set()\n",
    "x = set()\n",
    "lengths = set()\n",
    "\n",
    "nodes = set()\n",
    "edges = set()\n",
    "edges_prime = set()\n",
    "\n",
    "nodes_norm = list()\n",
    "edges_norm = set()"
   ]
  },
  {
   "cell_type": "markdown",
   "metadata": {},
   "source": [
    "## Creating a list of nodes"
   ]
  },
  {
   "cell_type": "code",
   "execution_count": 20,
   "metadata": {},
   "outputs": [],
   "source": [
    "for line in file_info:\n",
    "    for node in line['geometry']['coordinates']:\n",
    "        nodes.add((round(node[0],3),round(node[1],3)))\n",
    "        x.add(round(node[0],3))\n",
    "        y.add(round(node[1],3))\n",
    "\n",
    "nodes = list(nodes)"
   ]
  },
  {
   "cell_type": "markdown",
   "metadata": {},
   "source": [
    "## Normalizing the nodes coordinates"
   ]
  },
  {
   "cell_type": "code",
   "execution_count": 21,
   "metadata": {},
   "outputs": [],
   "source": [
    "# Getting the max and min for x and y axis\n",
    "x_max = max(x)\n",
    "x_min = min(x)\n",
    "y_max = max(y)\n",
    "y_min = min(y)"
   ]
  },
  {
   "cell_type": "code",
   "execution_count": 22,
   "metadata": {},
   "outputs": [],
   "source": [
    "df3 = pd.DataFrame(data=[[x_min,x_max,y_min,y_max]], columns=['x_min','x_max','y_min','y_max'])\n",
    "df3.to_csv('../../distributions/boundaries.csv', index=False)"
   ]
  },
  {
   "cell_type": "code",
   "execution_count": 23,
   "metadata": {},
   "outputs": [],
   "source": [
    "# Normalizing\n",
    "\n",
    "for node in nodes:\n",
    "    node_norm = (nodes.index(node), [(node[0]-x_min)/(x_max-x_min),(node[1]-y_min)/(y_max-y_min)])\n",
    "    nodes_norm.append(node_norm)\n",
    "    \n",
    "nodes_norm = [(item[0], [round(item[1][0],3), round(item[1][1],3)]) for item in nodes_norm]"
   ]
  },
  {
   "cell_type": "markdown",
   "metadata": {},
   "source": [
    "## Creating a list of edges"
   ]
  },
  {
   "cell_type": "code",
   "execution_count": 24,
   "metadata": {},
   "outputs": [],
   "source": [
    "for line in file_info:\n",
    "    last_coord = None\n",
    "    for coord in line['geometry']['coordinates']:\n",
    "        if last_coord != None:\n",
    "            length = ((coord[0]-last_coord[0])**2+(coord[1]-last_coord[1])**2)**0.5\n",
    "            edge = ((nodes.index((round(last_coord[0],3),round(last_coord[1],3))),nodes.index((round(coord[0],3),round(coord[1],3)))),length,line['properties']['Id'])\n",
    "            edges.add(edge)\n",
    "        last_coord = coord\n",
    "        \n",
    "    \n",
    "edges = [edge for edge in edges if edge[0][1] != edge[0][0]]\n"
   ]
  },
  {
   "cell_type": "markdown",
   "metadata": {},
   "source": [
    "## Normalizing the cost of the edges"
   ]
  },
  {
   "cell_type": "code",
   "execution_count": 25,
   "metadata": {},
   "outputs": [],
   "source": [
    "length_max = max(list(zip(*edges))[1])\n",
    "length_min = min(list(zip(*edges))[1])\n",
    "\n",
    "# normalizing length\n",
    "edges_norm = [(edges.index(edge),edge[0],(edge[1]-length_min)/(length_max-length_min),edge[2]) for edge in edges]"
   ]
  },
  {
   "cell_type": "markdown",
   "metadata": {},
   "source": [
    "## Exporting results to csv"
   ]
  },
  {
   "cell_type": "code",
   "execution_count": 26,
   "metadata": {},
   "outputs": [],
   "source": [
    "# Writing csv\n",
    "import csv\n",
    "\n",
    "# vertices\n",
    "with open(\"vertices.csv\", \"w\") as output:\n",
    "    writer = csv.writer(output, lineterminator='\\n')\n",
    "    for val in nodes_norm:\n",
    "        writer.writerow([val[0],val[1][0],val[1][1]])\n",
    "        \n",
    "# edges\n",
    "with open(\"edges.csv\", \"w\") as output:\n",
    "    writer = csv.writer(output, lineterminator='\\n')\n",
    "    for val in edges_norm:\n",
    "        writer.writerow([val[0], val[1][0], val[1][1], val[2], val[3]])\n",
    "\n",
    "copyfile('edges.csv', '../../streets/edges.csv');\n",
    "copyfile('vertices.csv', '../../streets/vertices.csv');"
   ]
  },
  {
   "cell_type": "code",
   "execution_count": null,
   "metadata": {},
   "outputs": [],
   "source": []
  },
  {
   "cell_type": "code",
   "execution_count": 27,
   "metadata": {},
   "outputs": [],
   "source": [
    "coords = []\n",
    "\n",
    "for coord in list(zip(*edges))[0]:\n",
    "    coord1 = (nodes[coord[0]], nodes[coord[1]])\n",
    "    coords.append(coord1)"
   ]
  },
  {
   "cell_type": "code",
   "execution_count": 28,
   "metadata": {},
   "outputs": [
    {
     "data": {
      "text/plain": [
       "[((-74.125, 4.571), (-74.125, 4.564)),\n",
       " ((-74.11, 4.628), (-74.104, 4.625)),\n",
       " ((-74.108, 4.706), (-74.104, 4.704)),\n",
       " ((-74.12, 4.629), (-74.11, 4.628)),\n",
       " ((-74.074, 4.606), (-74.067, 4.605)),\n",
       " ((-74.071, 4.671), (-74.075, 4.666)),\n",
       " ((-74.082, 4.605), (-74.08, 4.603)),\n",
       " ((-74.07, 4.622), (-74.073, 4.617)),\n",
       " ((-74.11, 4.71), (-74.121, 4.68)),\n",
       " ((-74.135, 4.63), (-74.129, 4.629)),\n",
       " ((-74.072, 4.61), (-74.074, 4.606)),\n",
       " ((-74.084, 4.691), (-74.08, 4.685)),\n",
       " ((-74.173, 4.629), (-74.165, 4.633)),\n",
       " ((-74.159, 4.638), (-74.153, 4.635)),\n",
       " ((-74.121, 4.68), (-74.173, 4.629)),\n",
       " ((-74.05, 4.732), (-74.051, 4.727)),\n",
       " ((-74.054, 4.699), (-74.056, 4.693)),\n",
       " ((-74.07, 4.7), (-74.067, 4.693)),\n",
       " ((-74.084, 4.59), (-74.087, 4.586)),\n",
       " ((-74.077, 4.622), (-74.072, 4.617)),\n",
       " ((-74.136, 4.569), (-74.14, 4.571)),\n",
       " ((-74.081, 4.627), (-74.077, 4.622)),\n",
       " ((-74.081, 4.627), (-74.084, 4.623)),\n",
       " ((-74.102, 4.602), (-74.11, 4.598)),\n",
       " ((-74.087, 4.694), (-74.084, 4.691)),\n",
       " ((-74.09, 4.582), (-74.094, 4.577)),\n",
       " ((-74.169, 4.597), (-74.182, 4.597)),\n",
       " ((-74.084, 4.631), (-74.081, 4.627)),\n",
       " ((-74.122, 4.557), (-74.12, 4.531)),\n",
       " ((-74.065, 4.648), (-74.066, 4.644)),\n",
       " ((-74.142, 4.596), (-74.148, 4.595)),\n",
       " ((-74.114, 4.669), (-74.109, 4.662)),\n",
       " ((-74.109, 4.662), (-74.105, 4.656)),\n",
       " ((-74.165, 4.633), (-74.159, 4.638)),\n",
       " ((-74.094, 4.616), (-74.094, 4.612)),\n",
       " ((-74.067, 4.677), (-74.065, 4.675)),\n",
       " ((-74.098, 4.646), (-74.096, 4.642)),\n",
       " ((-74.072, 4.712), (-74.071, 4.706)),\n",
       " ((-74.188, 4.595), (-74.194, 4.592)),\n",
       " ((-74.105, 4.656), (-74.101, 4.65)),\n",
       " ((-74.067, 4.637), (-74.068, 4.631)),\n",
       " ((-74.078, 4.608), (-74.08, 4.604)),\n",
       " ((-74.099, 4.584), (-74.102, 4.582)),\n",
       " ((-74.11, 4.598), (-74.117, 4.595)),\n",
       " ((-74.047, 4.747), (-74.047, 4.742)),\n",
       " ((-74.101, 4.703), (-74.096, 4.699)),\n",
       " ((-74.087, 4.586), (-74.09, 4.582)),\n",
       " ((-74.068, 4.631), (-74.069, 4.627)),\n",
       " ((-74.078, 4.658), (-74.078, 4.652)),\n",
       " ((-74.061, 4.663), (-74.063, 4.658)),\n",
       " ((-74.089, 4.617), (-74.094, 4.612)),\n",
       " ((-74.095, 4.604), (-74.1, 4.604)),\n",
       " ((-74.08, 4.604), (-74.084, 4.599)),\n",
       " ((-74.089, 4.634), (-74.084, 4.631)),\n",
       " ((-74.074, 4.678), (-74.067, 4.677)),\n",
       " ((-74.044, 4.765), (-74.047, 4.755)),\n",
       " ((-74.086, 4.595), (-74.09, 4.591)),\n",
       " ((-74.08, 4.632), (-74.081, 4.627)),\n",
       " ((-74.094, 4.612), (-74.09, 4.613)),\n",
       " ((-74.078, 4.652), (-74.079, 4.645)),\n",
       " ((-74.093, 4.637), (-74.089, 4.634)),\n",
       " ((-74.096, 4.699), (-74.091, 4.696)),\n",
       " ((-74.13, 4.571), (-74.136, 4.569)),\n",
       " ((-74.101, 4.65), (-74.098, 4.646)),\n",
       " ((-74.063, 4.655), (-74.065, 4.648)),\n",
       " ((-74.044, 4.769), (-74.094, 4.747)),\n",
       " ((-74.09, 4.613), (-74.087, 4.61)),\n",
       " ((-74.078, 4.682), (-74.074, 4.678)),\n",
       " ((-74.066, 4.644), (-74.067, 4.637)),\n",
       " ((-74.079, 4.645), (-74.079, 4.637)),\n",
       " ((-74.069, 4.615), (-74.072, 4.61)),\n",
       " ((-74.146, 4.631), (-74.141, 4.631)),\n",
       " ((-74.094, 4.577), (-74.099, 4.571)),\n",
       " ((-74.117, 4.595), (-74.125, 4.594)),\n",
       " ((-74.156, 4.596), (-74.164, 4.596)),\n",
       " ((-74.085, 4.738), (-74.08, 4.735)),\n",
       " ((-74.064, 4.681), (-74.067, 4.677)),\n",
       " ((-74.125, 4.564), (-74.124, 4.561)),\n",
       " ((-74.148, 4.595), (-74.156, 4.596)),\n",
       " ((-74.099, 4.62), (-74.094, 4.616)),\n",
       " ((-74.059, 4.672), (-74.06, 4.668)),\n",
       " ((-74.11, 4.71), (-74.108, 4.706)),\n",
       " ((-74.071, 4.706), (-74.07, 4.7)),\n",
       " ((-74.104, 4.704), (-74.101, 4.703)),\n",
       " ((-74.056, 4.693), (-74.058, 4.684)),\n",
       " ((-74.206, 4.586), (-74.14, 4.571)),\n",
       " ((-74.14, 4.571), (-74.12, 4.531)),\n",
       " ((-74.072, 4.617), (-74.069, 4.615)),\n",
       " ((-74.075, 4.666), (-74.078, 4.658)),\n",
       " ((-74.053, 4.713), (-74.054, 4.705)),\n",
       " ((-74.117, 4.674), (-74.114, 4.669)),\n",
       " ((-74.069, 4.627), (-74.07, 4.622)),\n",
       " ((-74.094, 4.612), (-74.095, 4.604)),\n",
       " ((-74.135, 4.594), (-74.142, 4.596)),\n",
       " ((-74.051, 4.727), (-74.052, 4.72)),\n",
       " ((-74.049, 4.736), (-74.05, 4.732)),\n",
       " ((-74.129, 4.629), (-74.12, 4.629)),\n",
       " ((-74.12, 4.531), (-74.097, 4.565)),\n",
       " ((-74.12, 4.576), (-74.125, 4.571)),\n",
       " ((-74.108, 4.58), (-74.115, 4.577)),\n",
       " ((-74.067, 4.677), (-74.069, 4.675)),\n",
       " ((-74.128, 4.593), (-74.135, 4.594)),\n",
       " ((-74.077, 4.601), (-74.082, 4.594)),\n",
       " ((-74.079, 4.603), (-74.077, 4.601)),\n",
       " ((-74.073, 4.617), (-74.075, 4.612)),\n",
       " ((-74.059, 4.678), (-74.059, 4.672)),\n",
       " ((-74.141, 4.631), (-74.135, 4.63)),\n",
       " ((-74.101, 4.623), (-74.099, 4.62)),\n",
       " ((-74.087, 4.61), (-74.082, 4.605)),\n",
       " ((-74.063, 4.658), (-74.063, 4.655)),\n",
       " ((-74.125, 4.571), (-74.13, 4.571)),\n",
       " ((-74.08, 4.685), (-74.078, 4.682)),\n",
       " ((-74.065, 4.67), (-74.06, 4.668)),\n",
       " ((-74.08, 4.603), (-74.079, 4.603)),\n",
       " ((-74.094, 4.747), (-74.11, 4.71)),\n",
       " ((-74.094, 4.747), (-74.09, 4.742)),\n",
       " ((-74.091, 4.696), (-74.087, 4.694)),\n",
       " ((-74.069, 4.675), (-74.071, 4.671)),\n",
       " ((-74.104, 4.625), (-74.101, 4.623)),\n",
       " ((-74.065, 4.675), (-74.065, 4.67)),\n",
       " ((-74.164, 4.596), (-74.169, 4.597)),\n",
       " ((-74.052, 4.72), (-74.053, 4.713)),\n",
       " ((-74.075, 4.612), (-74.078, 4.608)),\n",
       " ((-74.173, 4.629), (-74.206, 4.586)),\n",
       " ((-74.075, 4.721), (-74.072, 4.712)),\n",
       " ((-74.068, 4.603), (-74.073, 4.601)),\n",
       " ((-74.065, 4.689), (-74.063, 4.684)),\n",
       " ((-74.047, 4.755), (-74.047, 4.747)),\n",
       " ((-74.082, 4.594), (-74.084, 4.59)),\n",
       " ((-74.09, 4.591), (-74.095, 4.586)),\n",
       " ((-74.194, 4.592), (-74.199, 4.589)),\n",
       " ((-74.153, 4.635), (-74.146, 4.631)),\n",
       " ((-74.073, 4.601), (-74.077, 4.601)),\n",
       " ((-74.058, 4.684), (-74.059, 4.678)),\n",
       " ((-74.096, 4.642), (-74.093, 4.637)),\n",
       " ((-74.063, 4.684), (-74.064, 4.681)),\n",
       " ((-74.125, 4.594), (-74.128, 4.593)),\n",
       " ((-74.121, 4.68), (-74.117, 4.674)),\n",
       " ((-74.084, 4.599), (-74.086, 4.595)),\n",
       " ((-74.084, 4.623), (-74.089, 4.617)),\n",
       " ((-74.182, 4.597), (-74.188, 4.595)),\n",
       " ((-74.115, 4.577), (-74.12, 4.576)),\n",
       " ((-74.124, 4.561), (-74.122, 4.557)),\n",
       " ((-74.075, 4.726), (-74.075, 4.721)),\n",
       " ((-74.199, 4.589), (-74.206, 4.586)),\n",
       " ((-74.067, 4.693), (-74.065, 4.689)),\n",
       " ((-74.1, 4.604), (-74.102, 4.602)),\n",
       " ((-74.079, 4.637), (-74.08, 4.632)),\n",
       " ((-74.047, 4.742), (-74.049, 4.736)),\n",
       " ((-74.095, 4.586), (-74.099, 4.584)),\n",
       " ((-74.06, 4.668), (-74.061, 4.663)),\n",
       " ((-74.09, 4.742), (-74.085, 4.738)),\n",
       " ((-74.043, 4.769), (-74.044, 4.765)),\n",
       " ((-74.067, 4.605), (-74.068, 4.603)),\n",
       " ((-74.102, 4.582), (-74.108, 4.58)),\n",
       " ((-74.08, 4.735), (-74.075, 4.726)),\n",
       " ((-74.099, 4.571), (-74.097, 4.565)),\n",
       " ((-74.054, 4.705), (-74.054, 4.699))]"
      ]
     },
     "execution_count": 28,
     "metadata": {},
     "output_type": "execute_result"
    }
   ],
   "source": [
    "coords"
   ]
  },
  {
   "cell_type": "code",
   "execution_count": null,
   "metadata": {},
   "outputs": [],
   "source": []
  },
  {
   "cell_type": "code",
   "execution_count": null,
   "metadata": {},
   "outputs": [],
   "source": []
  },
  {
   "cell_type": "code",
   "execution_count": null,
   "metadata": {},
   "outputs": [],
   "source": []
  }
 ],
 "metadata": {
  "kernelspec": {
   "display_name": "Python 3",
   "language": "python",
   "name": "python3"
  },
  "language_info": {
   "codemirror_mode": {
    "name": "ipython",
    "version": 3
   },
   "file_extension": ".py",
   "mimetype": "text/x-python",
   "name": "python",
   "nbconvert_exporter": "python",
   "pygments_lexer": "ipython3",
   "version": "3.7.4"
  }
 },
 "nbformat": 4,
 "nbformat_minor": 2
}
