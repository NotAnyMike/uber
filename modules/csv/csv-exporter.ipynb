{
 "cells": [
  {
   "cell_type": "markdown",
   "metadata": {},
   "source": [
    "# SHP2CSV algorithm\n",
    "## Importing libraries"
   ]
  },
  {
   "cell_type": "code",
   "execution_count": 1,
   "metadata": {},
   "outputs": [
    {
     "ename": "ImportError",
     "evalue": "cannot import name 'ft2font'",
     "output_type": "error",
     "traceback": [
      "\u001b[0;31m---------------------------------------------------------------------------\u001b[0m",
      "\u001b[0;31mImportError\u001b[0m                               Traceback (most recent call last)",
      "\u001b[0;32m<ipython-input-1-1da3e22f0565>\u001b[0m in \u001b[0;36m<module>\u001b[0;34m\u001b[0m\n\u001b[1;32m      4\u001b[0m \u001b[0;32mimport\u001b[0m \u001b[0mnetworkx\u001b[0m \u001b[0;32mas\u001b[0m \u001b[0mnx\u001b[0m\u001b[0;34m\u001b[0m\u001b[0;34m\u001b[0m\u001b[0m\n\u001b[1;32m      5\u001b[0m \u001b[0;32mimport\u001b[0m \u001b[0mitertools\u001b[0m\u001b[0;34m\u001b[0m\u001b[0;34m\u001b[0m\u001b[0m\n\u001b[0;32m----> 6\u001b[0;31m \u001b[0;32mimport\u001b[0m \u001b[0mmatplotlib\u001b[0m\u001b[0;34m.\u001b[0m\u001b[0mpyplot\u001b[0m \u001b[0;32mas\u001b[0m \u001b[0mplt\u001b[0m\u001b[0;34m\u001b[0m\u001b[0;34m\u001b[0m\u001b[0m\n\u001b[0m\u001b[1;32m      7\u001b[0m \u001b[0;32mfrom\u001b[0m \u001b[0mIPython\u001b[0m\u001b[0;34m.\u001b[0m\u001b[0mcore\u001b[0m\u001b[0;34m.\u001b[0m\u001b[0mdebugger\u001b[0m \u001b[0;32mimport\u001b[0m \u001b[0mTracer\u001b[0m\u001b[0;34m\u001b[0m\u001b[0;34m\u001b[0m\u001b[0m\n\u001b[1;32m      8\u001b[0m \u001b[0;32mfrom\u001b[0m \u001b[0mshutil\u001b[0m \u001b[0;32mimport\u001b[0m \u001b[0mcopyfile\u001b[0m\u001b[0;34m\u001b[0m\u001b[0;34m\u001b[0m\u001b[0m\n",
      "\u001b[0;32m~/directorio_proyectos/entorno_proyecto/lib/python3.6/site-packages/matplotlib/__init__.py\u001b[0m in \u001b[0;36m<module>\u001b[0;34m\u001b[0m\n\u001b[1;32m    203\u001b[0m \u001b[0;34m\u001b[0m\u001b[0m\n\u001b[1;32m    204\u001b[0m \u001b[0;34m\u001b[0m\u001b[0m\n\u001b[0;32m--> 205\u001b[0;31m \u001b[0m_check_versions\u001b[0m\u001b[0;34m(\u001b[0m\u001b[0;34m)\u001b[0m\u001b[0;34m\u001b[0m\u001b[0;34m\u001b[0m\u001b[0m\n\u001b[0m\u001b[1;32m    206\u001b[0m \u001b[0;34m\u001b[0m\u001b[0m\n\u001b[1;32m    207\u001b[0m \u001b[0;34m\u001b[0m\u001b[0m\n",
      "\u001b[0;32m~/directorio_proyectos/entorno_proyecto/lib/python3.6/site-packages/matplotlib/__init__.py\u001b[0m in \u001b[0;36m_check_versions\u001b[0;34m()\u001b[0m\n\u001b[1;32m    188\u001b[0m     \u001b[0;31m# Quickfix to ensure Microsoft Visual C++ redistributable\u001b[0m\u001b[0;34m\u001b[0m\u001b[0;34m\u001b[0m\u001b[0;34m\u001b[0m\u001b[0m\n\u001b[1;32m    189\u001b[0m     \u001b[0;31m# DLLs are loaded before importing kiwisolver\u001b[0m\u001b[0;34m\u001b[0m\u001b[0;34m\u001b[0m\u001b[0;34m\u001b[0m\u001b[0m\n\u001b[0;32m--> 190\u001b[0;31m     \u001b[0;32mfrom\u001b[0m \u001b[0;34m.\u001b[0m \u001b[0;32mimport\u001b[0m \u001b[0mft2font\u001b[0m\u001b[0;34m\u001b[0m\u001b[0;34m\u001b[0m\u001b[0m\n\u001b[0m\u001b[1;32m    191\u001b[0m \u001b[0;34m\u001b[0m\u001b[0m\n\u001b[1;32m    192\u001b[0m     for modname, minver in [\n",
      "\u001b[0;31mImportError\u001b[0m: cannot import name 'ft2font'"
     ]
    }
   ],
   "source": [
    "from shapely.geometry import shape\n",
    "from shapely.ops import unary_union\n",
    "import fiona\n",
    "import networkx as nx\n",
    "import itertools\n",
    "import matplotlib.pyplot as plt\n",
    "from IPython.core.debugger import Tracer\n",
    "from shutil import copyfile\n",
    "import pandas as pd"
   ]
  },
  {
   "cell_type": "markdown",
   "metadata": {},
   "source": [
    "## Importing and reading shp file"
   ]
  },
  {
   "cell_type": "markdown",
   "metadata": {},
   "source": [
    "## Converting `geoms` into a planar graph"
   ]
  },
  {
   "cell_type": "code",
   "execution_count": 9,
   "metadata": {},
   "outputs": [],
   "source": [
    "file_info = fiona.open(\"shp/Transmilenio/Transmilenio.shp\")"
   ]
  },
  {
   "cell_type": "markdown",
   "metadata": {},
   "source": [
    "## Creating a Graph object in order to print it\n",
    "this part of the code is not needed, it is just for having an idea of the graph that is going to be exported"
   ]
  },
  {
   "cell_type": "markdown",
   "metadata": {},
   "source": [
    "## Plotting the graph"
   ]
  },
  {
   "cell_type": "markdown",
   "metadata": {},
   "source": [
    "## Creating sets"
   ]
  },
  {
   "cell_type": "code",
   "execution_count": 10,
   "metadata": {},
   "outputs": [],
   "source": [
    "y = set()\n",
    "x = set()\n",
    "lengths = set()\n",
    "\n",
    "nodes = set()\n",
    "edges = set()\n",
    "edges_prime = set()\n",
    "\n",
    "nodes_norm = list()\n",
    "edges_norm = set()"
   ]
  },
  {
   "cell_type": "markdown",
   "metadata": {},
   "source": [
    "## Creating a list of nodes"
   ]
  },
  {
   "cell_type": "code",
   "execution_count": 11,
   "metadata": {},
   "outputs": [],
   "source": [
    "for line in file_info:\n",
    "    for node in line['geometry']['coordinates']:\n",
    "        nodes.add((round(node[0],3),round(node[1],3)))\n",
    "        x.add(round(node[0],3))\n",
    "        y.add(round(node[1],3))\n",
    "\n",
    "nodes = list(nodes)"
   ]
  },
  {
   "cell_type": "markdown",
   "metadata": {},
   "source": [
    "## Normalizing the nodes coordinates"
   ]
  },
  {
   "cell_type": "code",
   "execution_count": 12,
   "metadata": {},
   "outputs": [],
   "source": [
    "# Getting the max and min for x and y axis\n",
    "x_max = max(x)\n",
    "x_min = min(x)\n",
    "y_max = max(y)\n",
    "y_min = min(y)"
   ]
  },
  {
   "cell_type": "code",
   "execution_count": 13,
   "metadata": {},
   "outputs": [],
   "source": [
    "df3 = pd.DataFrame(data=[[x_min,x_max,y_min,y_max]], columns=['x_min','x_max','y_min','y_max'])\n",
    "df3.to_csv('../../distributions/boundariesTrasnmilenio.csv', index=False)"
   ]
  },
  {
   "cell_type": "code",
   "execution_count": 14,
   "metadata": {},
   "outputs": [],
   "source": [
    "# Normalizing\n",
    "\n",
    "for node in nodes:\n",
    "    node_norm = (nodes.index(node), [(node[0]-x_min)/(x_max-x_min),(node[1]-y_min)/(y_max-y_min)])\n",
    "    nodes_norm.append(node_norm)\n",
    "    \n",
    "nodes_norm = [(item[0], [round(item[1][0],3), round(item[1][1],3)]) for item in nodes_norm]"
   ]
  },
  {
   "cell_type": "markdown",
   "metadata": {},
   "source": [
    "## Creating a list of edges"
   ]
  },
  {
   "cell_type": "code",
   "execution_count": 15,
   "metadata": {},
   "outputs": [],
   "source": [
    "for line in file_info:\n",
    "    last_coord = None\n",
    "    for coord in line['geometry']['coordinates']:\n",
    "        if last_coord != None:\n",
    "            length = ((coord[0]-last_coord[0])**2+(coord[1]-last_coord[1])**2)**0.5\n",
    "            edge = ((nodes.index((round(last_coord[0],3),round(last_coord[1],3))),nodes.index((round(coord[0],3),round(coord[1],3)))),length,line['properties']['Id'])\n",
    "            edges.add(edge)\n",
    "        last_coord = coord\n",
    "        \n",
    "    \n",
    "edges = [edge for edge in edges if edge[0][1] != edge[0][0]]\n"
   ]
  },
  {
   "cell_type": "markdown",
   "metadata": {},
   "source": [
    "## Normalizing the cost of the edges"
   ]
  },
  {
   "cell_type": "code",
   "execution_count": 16,
   "metadata": {},
   "outputs": [],
   "source": [
    "length_max = max(list(zip(*edges))[1])\n",
    "length_min = min(list(zip(*edges))[1])\n",
    "\n",
    "# normalizing length\n",
    "edges_norm = [(edges.index(edge),edge[0],(edge[1]-length_min)/(length_max-length_min),edge[2]) for edge in edges]"
   ]
  },
  {
   "cell_type": "markdown",
   "metadata": {},
   "source": [
    "## Exporting results to csv"
   ]
  },
  {
   "cell_type": "code",
   "execution_count": 17,
   "metadata": {},
   "outputs": [],
   "source": [
    "# Writing csv\n",
    "import csv\n",
    "\n",
    "# vertices\n",
    "with open(\"vertices.csv\", \"w\") as output:\n",
    "    writer = csv.writer(output, lineterminator='\\n')\n",
    "    for val in nodes_norm:\n",
    "        writer.writerow([val[0],val[1][0],val[1][1]])\n",
    "        \n",
    "# edges\n",
    "with open(\"edges.csv\", \"w\") as output:\n",
    "    writer = csv.writer(output, lineterminator='\\n')\n",
    "    for val in edges_norm:\n",
    "        writer.writerow([val[0], val[1][0], val[1][1], val[2], val[3]])\n",
    "\n",
    "copyfile('edges.csv', '../../streets/edgesTransmilenio.csv');\n",
    "copyfile('vertices.csv', '../../streets/verticesTransmilenio.csv');"
   ]
  },
  {
   "cell_type": "code",
   "execution_count": null,
   "metadata": {},
   "outputs": [],
   "source": []
  },
  {
   "cell_type": "code",
   "execution_count": 18,
   "metadata": {},
   "outputs": [],
   "source": [
    "coords = []\n",
    "\n",
    "for coord in list(zip(*edges))[0]:\n",
    "    coord1 = (nodes[coord[0]], nodes[coord[1]])\n",
    "    coords.append(coord1)"
   ]
  },
  {
   "cell_type": "code",
   "execution_count": 19,
   "metadata": {},
   "outputs": [
    {
     "data": {
      "text/plain": [
       "[((-74.172, 4.599), (-74.175, 4.631)),\n",
       " ((-74.095, 4.699), (-74.084, 4.688)),\n",
       " ((-74.149, 4.634), (-74.122, 4.631)),\n",
       " ((-74.104, 4.706), (-74.095, 4.699)),\n",
       " ((-74.053, 4.738), (-74.055, 4.725)),\n",
       " ((-74.175, 4.631), (-74.162, 4.641)),\n",
       " ((-74.122, 4.631), (-74.115, 4.631)),\n",
       " ((-74.1, 4.75), (-74.05, 4.756)),\n",
       " ((-74.113, 4.71), (-74.1, 4.75)),\n",
       " ((-74.162, 4.641), (-74.149, 4.634)),\n",
       " ((-74.078, 4.681), (-74.073, 4.676)),\n",
       " ((-74.113, 4.71), (-74.104, 4.706)),\n",
       " ((-74.08, 4.667), (-74.082, 4.65)),\n",
       " ((-74.083, 4.634), (-74.098, 4.613)),\n",
       " ((-74.115, 4.631), (-74.106, 4.627)),\n",
       " ((-74.069, 4.693), (-74.068, 4.683)),\n",
       " ((-74.082, 4.65), (-74.083, 4.634)),\n",
       " ((-74.08, 4.611), (-74.088, 4.6)),\n",
       " ((-74.075, 4.709), (-74.069, 4.693)),\n",
       " ((-74.095, 4.618), (-74.086, 4.609)),\n",
       " ((-74.057, 4.712), (-74.06, 4.696)),\n",
       " ((-74.076, 4.619), (-74.08, 4.611)),\n",
       " ((-74.077, 4.604), (-74.071, 4.605)),\n",
       " ((-74.129, 4.568), (-74.128, 4.563)),\n",
       " ((-74.063, 4.675), (-74.065, 4.662)),\n",
       " ((-74.133, 4.573), (-74.129, 4.568)),\n",
       " ((-74.083, 4.607), (-74.077, 4.604)),\n",
       " ((-74.128, 4.563), (-74.125, 4.55)),\n",
       " ((-74.088, 4.6), (-74.097, 4.589)),\n",
       " ((-74.114, 4.6), (-74.132, 4.596)),\n",
       " ((-74.132, 4.596), (-74.145, 4.598)),\n",
       " ((-74.1, 4.75), (-74.084, 4.738)),\n",
       " ((-74.071, 4.605), (-74.125, 4.55)),\n",
       " ((-74.175, 4.631), (-74.113, 4.71)),\n",
       " ((-74.106, 4.627), (-74.095, 4.618)),\n",
       " ((-74.086, 4.609), (-74.083, 4.607)),\n",
       " ((-74.06, 4.696), (-74.063, 4.675)),\n",
       " ((-74.097, 4.589), (-74.106, 4.584)),\n",
       " ((-74.084, 4.738), (-74.078, 4.733)),\n",
       " ((-74.05, 4.756), (-74.071, 4.605)),\n",
       " ((-74.145, 4.598), (-74.172, 4.599)),\n",
       " ((-74.068, 4.683), (-74.08, 4.667)),\n",
       " ((-74.065, 4.662), (-74.068, 4.652)),\n",
       " ((-74.106, 4.584), (-74.118, 4.58)),\n",
       " ((-74.118, 4.58), (-74.128, 4.576)),\n",
       " ((-74.084, 4.688), (-74.078, 4.681)),\n",
       " ((-74.128, 4.576), (-74.133, 4.573)),\n",
       " ((-74.073, 4.625), (-74.076, 4.619)),\n",
       " ((-74.133, 4.573), (-74.144, 4.57)),\n",
       " ((-74.05, 4.756), (-74.053, 4.738)),\n",
       " ((-74.078, 4.733), (-74.075, 4.709)),\n",
       " ((-74.073, 4.676), (-74.064, 4.671)),\n",
       " ((-74.07, 4.641), (-74.073, 4.625)),\n",
       " ((-74.125, 4.55), (-74.144, 4.57)),\n",
       " ((-74.055, 4.725), (-74.057, 4.712)),\n",
       " ((-74.068, 4.652), (-74.07, 4.641)),\n",
       " ((-74.144, 4.57), (-74.172, 4.599)),\n",
       " ((-74.098, 4.613), (-74.114, 4.6))]"
      ]
     },
     "execution_count": 19,
     "metadata": {},
     "output_type": "execute_result"
    }
   ],
   "source": [
    "coords"
   ]
  },
  {
   "cell_type": "code",
   "execution_count": null,
   "metadata": {
    "collapsed": true
   },
   "outputs": [],
   "source": []
  },
  {
   "cell_type": "code",
   "execution_count": null,
   "metadata": {
    "collapsed": true
   },
   "outputs": [],
   "source": []
  }
 ],
 "metadata": {
  "kernelspec": {
   "display_name": "Python 3",
   "language": "python",
   "name": "python3"
  },
  "language_info": {
   "codemirror_mode": {
    "name": "ipython",
    "version": 3
   },
   "file_extension": ".py",
   "mimetype": "text/x-python",
   "name": "python",
   "nbconvert_exporter": "python",
   "pygments_lexer": "ipython3",
   "version": "3.6.8"
  }
 },
 "nbformat": 4,
 "nbformat_minor": 2
}
