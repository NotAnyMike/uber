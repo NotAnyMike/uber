{
 "cells": [
  {
   "cell_type": "markdown",
   "metadata": {},
   "source": [
    "# SHP2CSV algorithm\n",
    "## Importing libraries"
   ]
  },
  {
   "cell_type": "code",
   "execution_count": 1,
   "metadata": {},
   "outputs": [],
   "source": [
    "from shapely.geometry import shape\n",
    "from shapely.ops import unary_union\n",
    "import fiona\n",
    "import networkx as nx\n",
    "import itertools\n",
    "import matplotlib.pyplot as plt\n",
    "from IPython.core.debugger import Tracer\n",
    "from shutil import copyfile\n",
    "import pandas as pd"
   ]
  },
  {
   "cell_type": "markdown",
   "metadata": {},
   "source": [
    "## Importing and reading shp file"
   ]
  },
  {
   "cell_type": "markdown",
   "metadata": {},
   "source": [
    "## Converting `geoms` into a planar graph"
   ]
  },
  {
   "cell_type": "code",
   "execution_count": 2,
   "metadata": {},
   "outputs": [],
   "source": [
    "file_info = fiona.open(\"shp/Rutas_Transmilenio/Rutas_Transmilenio.shp\")"
   ]
  },
  {
   "cell_type": "markdown",
   "metadata": {},
   "source": [
    "## Creating a Graph object in order to print it\n",
    "this part of the code is not needed, it is just for having an idea of the graph that is going to be exported"
   ]
  },
  {
   "cell_type": "markdown",
   "metadata": {},
   "source": [
    "## Plotting the graph"
   ]
  },
  {
   "cell_type": "markdown",
   "metadata": {},
   "source": [
    "## Creating sets"
   ]
  },
  {
   "cell_type": "code",
   "execution_count": 3,
   "metadata": {},
   "outputs": [],
   "source": [
    "y = set()\n",
    "x = set()\n",
    "lengths = set()\n",
    "\n",
    "nodes = set()\n",
    "edges = set()\n",
    "edges_prime = set()\n",
    "\n",
    "nodes_norm = list()\n",
    "edges_norm = set()"
   ]
  },
  {
   "cell_type": "markdown",
   "metadata": {},
   "source": [
    "## Creating a list of nodes"
   ]
  },
  {
   "cell_type": "code",
   "execution_count": 4,
   "metadata": {},
   "outputs": [],
   "source": [
    "for line in file_info:\n",
    "    for node in line['geometry']['coordinates']:\n",
    "        nodes.add((round(node[0],3),round(node[1],3)))\n",
    "        x.add(round(node[0],3))\n",
    "        y.add(round(node[1],3))\n",
    "\n",
    "nodes = list(nodes)"
   ]
  },
  {
   "cell_type": "markdown",
   "metadata": {},
   "source": [
    "## Normalizing the nodes coordinates"
   ]
  },
  {
   "cell_type": "code",
   "execution_count": 5,
   "metadata": {},
   "outputs": [],
   "source": [
    "# Getting the max and min for x and y axis\n",
    "x_max = max(x)\n",
    "x_min = min(x)\n",
    "y_max = max(y)\n",
    "y_min = min(y)"
   ]
  },
  {
   "cell_type": "code",
   "execution_count": 6,
   "metadata": {},
   "outputs": [],
   "source": [
    "df3 = pd.DataFrame(data=[[x_min,x_max,y_min,y_max]], columns=['x_min','x_max','y_min','y_max'])\n",
    "df3.to_csv('../../distributions/boundaries.csv', index=False)"
   ]
  },
  {
   "cell_type": "code",
   "execution_count": 7,
   "metadata": {},
   "outputs": [],
   "source": [
    "# Normalizing\n",
    "\n",
    "for node in nodes:\n",
    "    node_norm = (nodes.index(node), [(node[0]-x_min)/(x_max-x_min),(node[1]-y_min)/(y_max-y_min)])\n",
    "    nodes_norm.append(node_norm)\n",
    "    \n",
    "nodes_norm = [(item[0], [round(item[1][0],3), round(item[1][1],3)]) for item in nodes_norm]"
   ]
  },
  {
   "cell_type": "markdown",
   "metadata": {},
   "source": [
    "## Creating a list of edges"
   ]
  },
  {
   "cell_type": "code",
   "execution_count": 8,
   "metadata": {},
   "outputs": [],
   "source": [
    "for line in file_info:\n",
    "    last_coord = None\n",
    "    for coord in line['geometry']['coordinates']:\n",
    "        if last_coord != None:\n",
    "            length = ((coord[0]-last_coord[0])**2+(coord[1]-last_coord[1])**2)**0.5\n",
    "            edge = ((nodes.index((round(last_coord[0],3),round(last_coord[1],3))),nodes.index((round(coord[0],3),round(coord[1],3)))),length,line['properties']['Id'])\n",
    "            edges.add(edge)\n",
    "        last_coord = coord\n",
    "        \n",
    "    \n",
    "edges = [edge for edge in edges if edge[0][1] != edge[0][0]]\n"
   ]
  },
  {
   "cell_type": "markdown",
   "metadata": {},
   "source": [
    "## Normalizing the cost of the edges"
   ]
  },
  {
   "cell_type": "code",
   "execution_count": 9,
   "metadata": {},
   "outputs": [],
   "source": [
    "length_max = max(list(zip(*edges))[1])\n",
    "length_min = min(list(zip(*edges))[1])\n",
    "\n",
    "# normalizing length\n",
    "edges_norm = [(edges.index(edge),edge[0],(edge[1]-length_min)/(length_max-length_min),edge[2]) for edge in edges]"
   ]
  },
  {
   "cell_type": "markdown",
   "metadata": {},
   "source": [
    "## Exporting results to csv"
   ]
  },
  {
   "cell_type": "code",
   "execution_count": 10,
   "metadata": {},
   "outputs": [],
   "source": [
    "# Writing csv\n",
    "import csv\n",
    "\n",
    "# vertices\n",
    "with open(\"vertices.csv\", \"w\") as output:\n",
    "    writer = csv.writer(output, lineterminator='\\n')\n",
    "    for val in nodes_norm:\n",
    "        writer.writerow([val[0],val[1][0],val[1][1]])\n",
    "        \n",
    "# edges\n",
    "with open(\"edges.csv\", \"w\") as output:\n",
    "    writer = csv.writer(output, lineterminator='\\n')\n",
    "    for val in edges_norm:\n",
    "        writer.writerow([val[0], val[1][0], val[1][1], val[2], val[3]])\n",
    "\n",
    "copyfile('edges.csv', '../../streets/edges.csv');\n",
    "copyfile('vertices.csv', '../../streets/vertices.csv');"
   ]
  },
  {
   "cell_type": "code",
   "execution_count": null,
   "metadata": {},
   "outputs": [],
   "source": []
  },
  {
   "cell_type": "code",
   "execution_count": 11,
   "metadata": {},
   "outputs": [],
   "source": [
    "coords = []\n",
    "\n",
    "for coord in list(zip(*edges))[0]:\n",
    "    coord1 = (nodes[coord[0]], nodes[coord[1]])\n",
    "    coords.append(coord1)"
   ]
  },
  {
   "cell_type": "code",
   "execution_count": 12,
   "metadata": {},
   "outputs": [
    {
     "data": {
      "text/plain": [
       "[((-74.08, 4.611), (-74.084, 4.606)),\n",
       " ((-74.128, 4.576), (-74.133, 4.573)),\n",
       " ((-74.076, 4.619), (-74.079, 4.614)),\n",
       " ((-74.144, 4.633), (-74.137, 4.633)),\n",
       " ((-74.114, 4.6), (-74.121, 4.598)),\n",
       " ((-74.071, 4.605), (-74.05, 4.756)),\n",
       " ((-74.075, 4.709), (-74.074, 4.704)),\n",
       " ((-74.084, 4.606), (-74.077, 4.604)),\n",
       " ((-74.091, 4.697), (-74.088, 4.693)),\n",
       " ((-74.125, 4.558), (-74.125, 4.55)),\n",
       " ((-74.156, 4.638), (-74.149, 4.634)),\n",
       " ((-74.07, 4.641), (-74.071, 4.635)),\n",
       " ((-74.088, 4.693), (-74.084, 4.688)),\n",
       " ((-74.168, 4.598), (-74.172, 4.599)),\n",
       " ((-74.145, 4.598), (-74.157, 4.599)),\n",
       " ((-74.073, 4.678), (-74.074, 4.673)),\n",
       " ((-74.17, 4.635), (-74.162, 4.641)),\n",
       " ((-74.08, 4.667), (-74.081, 4.659)),\n",
       " ((-74.053, 4.738), (-74.053, 4.735)),\n",
       " ((-74.054, 4.73), (-74.055, 4.725)),\n",
       " ((-74.086, 4.609), (-74.084, 4.606)),\n",
       " ((-74.065, 4.667), (-74.065, 4.662)),\n",
       " ((-74.073, 4.7), (-74.069, 4.693)),\n",
       " ((-74.061, 4.688), (-74.062, 4.68)),\n",
       " ((-74.139, 4.597), (-74.145, 4.598)),\n",
       " ((-74.121, 4.598), (-74.127, 4.597)),\n",
       " ((-74.104, 4.706), (-74.101, 4.703)),\n",
       " ((-74.069, 4.647), (-74.07, 4.641)),\n",
       " ((-74.053, 4.735), (-74.054, 4.73)),\n",
       " ((-74.113, 4.71), (-74.111, 4.709)),\n",
       " ((-74.069, 4.693), (-74.067, 4.687)),\n",
       " ((-74.1, 4.75), (-74.096, 4.747)),\n",
       " ((-74.074, 4.673), (-74.08, 4.667)),\n",
       " ((-74.051, 4.745), (-74.053, 4.738)),\n",
       " ((-74.101, 4.703), (-74.098, 4.701)),\n",
       " ((-74.137, 4.633), (-74.131, 4.632)),\n",
       " ((-74.157, 4.599), (-74.162, 4.599)),\n",
       " ((-74.071, 4.679), (-74.073, 4.678)),\n",
       " ((-74.144, 4.57), (-74.125, 4.55)),\n",
       " ((-74.05, 4.756), (-74.1, 4.75)),\n",
       " ((-74.175, 4.631), (-74.172, 4.599)),\n",
       " ((-74.084, 4.688), (-74.081, 4.685)),\n",
       " ((-74.1, 4.75), (-74.113, 4.71)),\n",
       " ((-74.068, 4.683), (-74.071, 4.679)),\n",
       " ((-74.162, 4.599), (-74.168, 4.598)),\n",
       " ((-74.064, 4.671), (-74.065, 4.667)),\n",
       " ((-74.113, 4.71), (-74.175, 4.631)),\n",
       " ((-74.131, 4.632), (-74.122, 4.631)),\n",
       " ((-74.073, 4.678), (-74.069, 4.678)),\n",
       " ((-74.088, 4.626), (-74.093, 4.619)),\n",
       " ((-74.109, 4.602), (-74.114, 4.6)),\n",
       " ((-74.132, 4.596), (-74.139, 4.597)),\n",
       " ((-74.064, 4.681), (-74.062, 4.68)),\n",
       " ((-74.094, 4.616), (-74.091, 4.613)),\n",
       " ((-74.115, 4.631), (-74.108, 4.629)),\n",
       " ((-74.102, 4.586), (-74.106, 4.584)),\n",
       " ((-74.111, 4.582), (-74.118, 4.58)),\n",
       " ((-74.108, 4.629), (-74.106, 4.627)),\n",
       " ((-74.091, 4.613), (-74.086, 4.609)),\n",
       " ((-74.095, 4.699), (-74.091, 4.697)),\n",
       " ((-74.093, 4.619), (-74.098, 4.613)),\n",
       " ((-74.069, 4.678), (-74.068, 4.673)),\n",
       " ((-74.084, 4.606), (-74.088, 4.6)),\n",
       " ((-74.05, 4.756), (-74.051, 4.749)),\n",
       " ((-74.073, 4.625), (-74.076, 4.619)),\n",
       " ((-74.057, 4.712), (-74.058, 4.702)),\n",
       " ((-74.098, 4.613), (-74.103, 4.608)),\n",
       " ((-74.058, 4.702), (-74.06, 4.696)),\n",
       " ((-74.125, 4.55), (-74.071, 4.605)),\n",
       " ((-74.175, 4.631), (-74.17, 4.635)),\n",
       " ((-74.162, 4.641), (-74.156, 4.638)),\n",
       " ((-74.118, 4.58), (-74.123, 4.579)),\n",
       " ((-74.083, 4.634), (-74.088, 4.626)),\n",
       " ((-74.108, 4.707), (-74.104, 4.706)),\n",
       " ((-74.078, 4.681), (-74.073, 4.678)),\n",
       " ((-74.055, 4.725), (-74.056, 4.716)),\n",
       " ((-74.128, 4.563), (-74.125, 4.558)),\n",
       " ((-74.078, 4.733), (-74.078, 4.723)),\n",
       " ((-74.067, 4.687), (-74.064, 4.681)),\n",
       " ((-74.083, 4.641), (-74.083, 4.634)),\n",
       " ((-74.078, 4.723), (-74.075, 4.713)),\n",
       " ((-74.101, 4.623), (-74.097, 4.619)),\n",
       " ((-74.089, 4.741), (-74.084, 4.738)),\n",
       " ((-74.066, 4.658), (-74.068, 4.652)),\n",
       " ((-74.097, 4.589), (-74.102, 4.586)),\n",
       " ((-74.051, 4.749), (-74.051, 4.745)),\n",
       " ((-74.068, 4.652), (-74.069, 4.647)),\n",
       " ((-74.096, 4.747), (-74.089, 4.741)),\n",
       " ((-74.056, 4.716), (-74.057, 4.712)),\n",
       " ((-74.122, 4.631), (-74.115, 4.631)),\n",
       " ((-74.065, 4.662), (-74.066, 4.658)),\n",
       " ((-74.079, 4.614), (-74.08, 4.611)),\n",
       " ((-74.127, 4.597), (-74.132, 4.596)),\n",
       " ((-74.106, 4.584), (-74.111, 4.582)),\n",
       " ((-74.097, 4.619), (-74.094, 4.616)),\n",
       " ((-74.068, 4.673), (-74.064, 4.671)),\n",
       " ((-74.082, 4.65), (-74.083, 4.641)),\n",
       " ((-74.06, 4.696), (-74.061, 4.688)),\n",
       " ((-74.081, 4.659), (-74.082, 4.65)),\n",
       " ((-74.091, 4.597), (-74.093, 4.594)),\n",
       " ((-74.072, 4.63), (-74.073, 4.625)),\n",
       " ((-74.093, 4.594), (-74.097, 4.589)),\n",
       " ((-74.133, 4.573), (-74.129, 4.568)),\n",
       " ((-74.111, 4.709), (-74.108, 4.707)),\n",
       " ((-74.081, 4.685), (-74.078, 4.681)),\n",
       " ((-74.063, 4.675), (-74.064, 4.671)),\n",
       " ((-74.084, 4.738), (-74.078, 4.733)),\n",
       " ((-74.133, 4.573), (-74.138, 4.572)),\n",
       " ((-74.062, 4.68), (-74.063, 4.675)),\n",
       " ((-74.067, 4.687), (-74.068, 4.683)),\n",
       " ((-74.103, 4.608), (-74.109, 4.602)),\n",
       " ((-74.074, 4.704), (-74.073, 4.7)),\n",
       " ((-74.138, 4.572), (-74.144, 4.57)),\n",
       " ((-74.129, 4.568), (-74.128, 4.563)),\n",
       " ((-74.088, 4.6), (-74.091, 4.597)),\n",
       " ((-74.077, 4.604), (-74.071, 4.605)),\n",
       " ((-74.123, 4.579), (-74.128, 4.576)),\n",
       " ((-74.071, 4.635), (-74.072, 4.63)),\n",
       " ((-74.075, 4.713), (-74.075, 4.709)),\n",
       " ((-74.149, 4.634), (-74.144, 4.633)),\n",
       " ((-74.172, 4.599), (-74.144, 4.57)),\n",
       " ((-74.106, 4.627), (-74.101, 4.623)),\n",
       " ((-74.098, 4.701), (-74.095, 4.699))]"
      ]
     },
     "execution_count": 12,
     "metadata": {},
     "output_type": "execute_result"
    }
   ],
   "source": [
    "coords"
   ]
  },
  {
   "cell_type": "code",
   "execution_count": null,
   "metadata": {
    "collapsed": true
   },
   "outputs": [],
   "source": []
  },
  {
   "cell_type": "code",
   "execution_count": null,
   "metadata": {
    "collapsed": true
   },
   "outputs": [],
   "source": []
  }
 ],
 "metadata": {
  "kernelspec": {
   "display_name": "Python 3",
   "language": "python",
   "name": "python3"
  },
  "language_info": {
   "codemirror_mode": {
    "name": "ipython",
    "version": 3
   },
   "file_extension": ".py",
   "mimetype": "text/x-python",
   "name": "python",
   "nbconvert_exporter": "python",
   "pygments_lexer": "ipython3",
   "version": "3.7.3"
  }
 },
 "nbformat": 4,
 "nbformat_minor": 2
}
