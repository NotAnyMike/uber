{
 "cells": [
  {
   "cell_type": "markdown",
   "metadata": {},
   "source": [
    "# SHP2CSV algorithm\n",
    "## Importing libraries"
   ]
  },
  {
   "cell_type": "code",
   "execution_count": 1,
   "metadata": {
    "collapsed": true
   },
   "outputs": [],
   "source": [
    "from shapely.geometry import shape\n",
    "from shapely.ops import unary_union\n",
    "import fiona\n",
    "import networkx as nx\n",
    "import itertools\n",
    "import matplotlib.pyplot as plt\n",
    "from IPython.core.debugger import Tracer\n",
    "from shutil import copyfile\n",
    "import pandas as pd"
   ]
  },
  {
   "cell_type": "markdown",
   "metadata": {},
   "source": [
    "## Importing and reading shp file"
   ]
  },
  {
   "cell_type": "markdown",
   "metadata": {},
   "source": [
    "## Converting `geoms` into a planar graph"
   ]
  },
  {
   "cell_type": "code",
   "execution_count": 2,
   "metadata": {
    "collapsed": true
   },
   "outputs": [],
   "source": [
    "file_info = fiona.open(\"shp/Bogota_sencillo/New_Shapefile.shp\")"
   ]
  },
  {
   "cell_type": "markdown",
   "metadata": {},
   "source": [
    "## Creating a Graph object in order to print it\n",
    "this part of the code is not needed, it is just for having an idea of the graph that is going to be exported"
   ]
  },
  {
   "cell_type": "markdown",
   "metadata": {},
   "source": [
    "## Plotting the graph"
   ]
  },
  {
   "cell_type": "markdown",
   "metadata": {},
   "source": [
    "## Creating sets"
   ]
  },
  {
   "cell_type": "code",
   "execution_count": 3,
   "metadata": {
    "collapsed": true
   },
   "outputs": [],
   "source": [
    "y = set()\n",
    "x = set()\n",
    "lengths = set()\n",
    "\n",
    "nodes = set()\n",
    "edges = set()\n",
    "edges_prime = set()\n",
    "\n",
    "nodes_norm = list()\n",
    "edges_norm = set()"
   ]
  },
  {
   "cell_type": "markdown",
   "metadata": {},
   "source": [
    "## Creating a list of nodes"
   ]
  },
  {
   "cell_type": "code",
   "execution_count": 4,
   "metadata": {
    "collapsed": true
   },
   "outputs": [],
   "source": [
    "for line in file_info:\n",
    "    for node in line['geometry']['coordinates']:\n",
    "        nodes.add((round(node[0],3),round(node[1],3)))\n",
    "        x.add(round(node[0],3))\n",
    "        y.add(round(node[1],3))\n",
    "\n",
    "nodes = list(nodes)"
   ]
  },
  {
   "cell_type": "markdown",
   "metadata": {},
   "source": [
    "## Normalizing the nodes coordinates"
   ]
  },
  {
   "cell_type": "code",
   "execution_count": 5,
   "metadata": {
    "collapsed": true
   },
   "outputs": [],
   "source": [
    "# Getting the max and min for x and y axis\n",
    "x_max = max(x)\n",
    "x_min = min(x)\n",
    "y_max = max(y)\n",
    "y_min = min(y)"
   ]
  },
  {
   "cell_type": "code",
   "execution_count": 6,
   "metadata": {
    "collapsed": true
   },
   "outputs": [],
   "source": [
    "df3 = pd.DataFrame(data=[[x_min,x_max,y_min,y_max]], columns=['x_min','x_max','y_min','y_max'])\n",
    "df3.to_csv('../../distributions/boundaries.csv', index=False)"
   ]
  },
  {
   "cell_type": "code",
   "execution_count": 7,
   "metadata": {
    "collapsed": true
   },
   "outputs": [],
   "source": [
    "# Normalizing\n",
    "\n",
    "for node in nodes:\n",
    "    node_norm = (nodes.index(node), [(node[0]-x_min)/(x_max-x_min),(node[1]-y_min)/(y_max-y_min)])\n",
    "    nodes_norm.append(node_norm)\n",
    "    \n",
    "nodes_norm = [(item[0], [round(item[1][0],3), round(item[1][1],3)]) for item in nodes_norm]"
   ]
  },
  {
   "cell_type": "markdown",
   "metadata": {},
   "source": [
    "## Creating a list of edges"
   ]
  },
  {
   "cell_type": "code",
   "execution_count": 8,
   "metadata": {
    "collapsed": true
   },
   "outputs": [],
   "source": [
    "for line in file_info:\n",
    "    last_coord = None\n",
    "    for coord in line['geometry']['coordinates']:\n",
    "        if last_coord != None:\n",
    "            length = ((coord[0]-last_coord[0])**2+(coord[1]-last_coord[1])**2)**0.5\n",
    "            edge = ((nodes.index((round(last_coord[0],3),round(last_coord[1],3))),nodes.index((round(coord[0],3),round(coord[1],3)))),length,line['properties']['Id'])\n",
    "            edges.add(edge)\n",
    "        last_coord = coord\n",
    "        \n",
    "    \n",
    "edges = [edge for edge in edges if edge[0][1] != edge[0][0]]\n"
   ]
  },
  {
   "cell_type": "markdown",
   "metadata": {},
   "source": [
    "## Normalizing the cost of the edges"
   ]
  },
  {
   "cell_type": "code",
   "execution_count": 9,
   "metadata": {
    "collapsed": true
   },
   "outputs": [],
   "source": [
    "length_max = max(list(zip(*edges))[1])\n",
    "length_min = min(list(zip(*edges))[1])\n",
    "\n",
    "# normalizing length\n",
    "edges_norm = [(edges.index(edge),edge[0],(edge[1]-length_min)/(length_max-length_min),edge[2]) for edge in edges]"
   ]
  },
  {
   "cell_type": "markdown",
   "metadata": {},
   "source": [
    "## Exporting results to csv"
   ]
  },
  {
   "cell_type": "code",
   "execution_count": 10,
   "metadata": {
    "collapsed": true
   },
   "outputs": [],
   "source": [
    "# Writing csv\n",
    "import csv\n",
    "\n",
    "# vertices\n",
    "with open(\"vertices.csv\", \"w\") as output:\n",
    "    writer = csv.writer(output, lineterminator='\\n')\n",
    "    for val in nodes_norm:\n",
    "        writer.writerow([val[0],val[1][0],val[1][1]])\n",
    "        \n",
    "# edges\n",
    "with open(\"edges.csv\", \"w\") as output:\n",
    "    writer = csv.writer(output, lineterminator='\\n')\n",
    "    for val in edges_norm:\n",
    "        writer.writerow([val[0], val[1][0], val[1][1], val[2], val[3]])\n",
    "\n",
    "copyfile('edges.csv', '../../streets/edges.csv');\n",
    "copyfile('vertices.csv', '../../streets/vertices.csv');"
   ]
  },
  {
   "cell_type": "code",
   "execution_count": null,
   "metadata": {
    "collapsed": true
   },
   "outputs": [],
   "source": []
  }
 ],
 "metadata": {
  "kernelspec": {
   "display_name": "Python 3",
   "language": "python",
   "name": "python3"
  },
  "language_info": {
   "codemirror_mode": {
    "name": "ipython",
    "version": 3
   },
   "file_extension": ".py",
   "mimetype": "text/x-python",
   "name": "python",
   "nbconvert_exporter": "python",
   "pygments_lexer": "ipython3",
   "version": "3.5.2"
  }
 },
 "nbformat": 4,
 "nbformat_minor": 2
}
