{
 "cells": [
  {
   "cell_type": "markdown",
   "metadata": {},
   "source": [
    "# SHP2CSV algorithm\n",
    "## Importing libraries"
   ]
  },
  {
   "cell_type": "code",
   "execution_count": 1,
   "metadata": {
    "collapsed": true
   },
   "outputs": [],
   "source": [
    "from shapely.geometry import shape\n",
    "from shapely.ops import unary_union\n",
    "import fiona\n",
    "import networkx as nx\n",
    "import itertools\n",
    "import matplotlib.pyplot as plt\n",
    "from IPython.core.debugger import Tracer\n",
    "from shutil import copyfile\n",
    "import pandas as pd"
   ]
  },
  {
   "cell_type": "markdown",
   "metadata": {},
   "source": [
    "## Importing and reading shp file"
   ]
  },
  {
   "cell_type": "markdown",
   "metadata": {},
   "source": [
    "## Converting `geoms` into a planar graph"
   ]
  },
  {
   "cell_type": "code",
   "execution_count": 2,
   "metadata": {
    "collapsed": true
   },
   "outputs": [],
   "source": [
    "file_info = fiona.open(\"shp/Bogota_sencillo/New_Shapefile.shp\")"
   ]
  },
  {
   "cell_type": "markdown",
   "metadata": {},
   "source": [
    "## Creating a Graph object in order to print it\n",
    "this part of the code is not needed, it is just for having an idea of the graph that is going to be exported"
   ]
  },
  {
   "cell_type": "markdown",
   "metadata": {},
   "source": [
    "## Plotting the graph"
   ]
  },
  {
   "cell_type": "markdown",
   "metadata": {},
   "source": [
    "## Creating sets"
   ]
  },
  {
   "cell_type": "code",
   "execution_count": 26,
   "metadata": {
    "collapsed": true
   },
   "outputs": [],
   "source": [
    "y = set()\n",
    "x = set()\n",
    "lengths = set()\n",
    "\n",
    "nodes = set()\n",
    "edges = set()\n",
    "edges_prime = set()\n",
    "\n",
    "nodes_norm = list()\n",
    "edges_norm = set()"
   ]
  },
  {
   "cell_type": "markdown",
   "metadata": {},
   "source": [
    "## Creating a list of nodes"
   ]
  },
  {
   "cell_type": "code",
   "execution_count": 27,
   "metadata": {
    "collapsed": true
   },
   "outputs": [],
   "source": [
    "for line in file_info:\n",
    "    for node in line['geometry']['coordinates']:\n",
    "        nodes.add((round(node[0],3),round(node[1],3)))\n",
    "        x.add(round(node[0],3))\n",
    "        y.add(round(node[1],3))\n",
    "\n",
    "nodes = list(nodes)"
   ]
  },
  {
   "cell_type": "markdown",
   "metadata": {},
   "source": [
    "## Normalizing the nodes coordinates"
   ]
  },
  {
   "cell_type": "code",
   "execution_count": 28,
   "metadata": {
    "collapsed": true
   },
   "outputs": [],
   "source": [
    "# Getting the max and min for x and y axis\n",
    "x_max = max(x)\n",
    "x_min = min(x)\n",
    "y_max = max(y)\n",
    "y_min = min(y)"
   ]
  },
  {
   "cell_type": "code",
   "execution_count": 29,
   "metadata": {
    "collapsed": true
   },
   "outputs": [],
   "source": [
    "df3 = pd.DataFrame(data=[[x_min,x_max,y_min,y_max]], columns=['x_min','x_max','y_min','y_max'])\n",
    "df3.to_csv('../../distributions/boundaries.csv', index=False)"
   ]
  },
  {
   "cell_type": "code",
   "execution_count": 30,
   "metadata": {
    "collapsed": true
   },
   "outputs": [],
   "source": [
    "# Normalizing\n",
    "\n",
    "for node in nodes:\n",
    "    node_norm = (nodes.index(node), [(node[0]-x_min)/(x_max-x_min),(node[1]-y_min)/(y_max-y_min)])\n",
    "    nodes_norm.append(node_norm)\n",
    "    \n",
    "nodes_norm = [(item[0], [round(item[1][0],3), round(item[1][1],3)]) for item in nodes_norm]"
   ]
  },
  {
   "cell_type": "markdown",
   "metadata": {},
   "source": [
    "## Creating a list of edges"
   ]
  },
  {
   "cell_type": "code",
   "execution_count": 31,
   "metadata": {},
   "outputs": [],
   "source": [
    "for line in file_info:\n",
    "    last_coord = None\n",
    "    for coord in line['geometry']['coordinates']:\n",
    "        if last_coord != None:\n",
    "            length = ((coord[0]-last_coord[0])**2+(coord[1]-last_coord[1])**2)**0.5\n",
    "            edge = ((nodes.index((round(last_coord[0],3),round(last_coord[1],3))),nodes.index((round(coord[0],3),round(coord[1],3)))),length,line['properties']['Id'])\n",
    "            edges.add(edge)\n",
    "        last_coord = coord\n",
    "        \n",
    "    \n",
    "edges = [edge for edge in edges if edge[0][1] != edge[0][0]]\n"
   ]
  },
  {
   "cell_type": "code",
   "execution_count": 51,
   "metadata": {
    "collapsed": true
   },
   "outputs": [],
   "source": [
    "nodes_with_capacity = list(zip(*edges_prime))[0]\n",
    "for line in res:\n",
    "    last_coord = None\n",
    "    lenght = len(line.coords)\n",
    "    for coord in line.coords:\n",
    "        if last_coord != None:\n",
    "            capacity = 0\n",
    "            length = ((coord[0]-last_coord[0])**2+(coord[1]-last_coord[1])**2)**0.5\n",
    "            nodes_connected = (nodes.index((round(last_coord[0],3),round(last_coord[1],3))),nodes.index((round(coord[0],3),round(coord[1],3))))\n",
    "            if nodes_connected in nodes_with_capacity:\n",
    "                capacity = edges_prime[nodes_with_capacity.index(nodes_connected)][2]\n",
    "            elif (nodes_connected[1],nodes_connected[0]) in nodes_with_capacity:\n",
    "                capacity = edges_prime[nodes_with_capacity.index((nodes_connected[1],nodes_connected[0]))][2]\n",
    "            \n",
    "            edge = (nodes_connected,length,capacity)\n",
    "            edges.add(edge)\n",
    "        last_coord = coord\n",
    "        \n",
    "    \n",
    "edges = [edge for edge in edges if edge[0][1] != edge[0][0]]"
   ]
  },
  {
   "cell_type": "code",
   "execution_count": 52,
   "metadata": {},
   "outputs": [
    {
     "name": "stdout",
     "output_type": "stream",
     "text": [
      "there is still 6 ( 6 ) edges without correct capacity\n"
     ]
    }
   ],
   "source": [
    "edges_with_capacity = [edge for edge in edges if edge[2] > 0]\n",
    "edges_prime_with_capacity = [edge for edge in edges_prime if edge[2] > 0]\n",
    "edges_ignored = [edge for edge in edges_prime_with_capacity if edge[0] not in list(zip(*edges_with_capacity))[0] and (edge[0][1], edge[0][0]) not in list(zip(*edges_with_capacity))[0]]\n",
    "print(\"there is still\", len(edges_prime_with_capacity) - len(edges_with_capacity),\"(\",len(edges_ignored), \")\", \"edges without correct capacity\")\n",
    "assert len(edges_prime_with_capacity) - len(edges_with_capacity) == len(edges_ignored)\n"
   ]
  },
  {
   "cell_type": "markdown",
   "metadata": {},
   "source": [
    "# Solving new streets capacity (simplify algorithm)\n",
    "let's define the following sets\n",
    "* $\\bar A$ is a **constant** set (or a duple) o $A$ at the begginning of this algorithm\n",
    "* $A$ is the set of all nodes in the original map\n",
    "* $B$ is the set of all nodes in the planar map\n",
    "* $E_A$ is the set of all edges in the original map\n",
    "* $E_B$ is the set of all edges in the planar map\n",
    "* $B-A$ if the set of all nodes in $B$ and not in $A$, i.e. the new nodes\n",
    "* $E_A'$ and empty set, made of all the edges broken into two parts\n",
    "\n",
    "El algoritmo es el siguiente:\n",
    "\n",
    "0. Find set $T=\\{(x,w)|x\\in A \\wedge w\\in B-A\\}$ \n",
    "    1. For each $n\\in T$:\n",
    "        1. We know that $ n\\in T \\implies \\exists n=(x,y), x\\in A \\wedge y \\in B-A $\n",
    "        2. Find $E_x^A$ (nodes connected to or from $x$ based on $E_A$) that is $E_x^A = \\{(x,w)\\in E_A\\}$\n",
    "        3. For each $m \\in E_x^A$:\n",
    "            4. Calculate $d(m,y)$ taking into account that $m$ is a segment\n",
    "        4. set $c(n) = c(l)$ with $d(l,y) \\leq d(o,y), \\forall o\\in E_x^A$ where $l,o$ are edges\n",
    "        5. remove $l=(x,z)$ from $E_A$ and add it to $E_A'$\n",
    "        6. add $n$ and $(y,z)$ to $E_A$\n",
    "        7. recalculate $T$"
   ]
  },
  {
   "cell_type": "code",
   "execution_count": 15,
   "metadata": {
    "collapsed": true
   },
   "outputs": [],
   "source": [
    "def d(edge, point):\n",
    "    return abs((edge[1][1]-edge[0][1])*point[0] - (edge[1][0]-edge[0][0])*point[1]+edge[1][0]*edge[0][1]-edge[1][1]*edge[0][0])/(((edge[1][1]-edge[0][1])**2+(edge[1][0]-edge[0][0])**2)**0.5)\n"
   ]
  },
  {
   "cell_type": "code",
   "execution_count": 16,
   "metadata": {
    "collapsed": true
   },
   "outputs": [],
   "source": [
    "new_ones = set()"
   ]
  },
  {
   "cell_type": "code",
   "execution_count": 17,
   "metadata": {
    "collapsed": true
   },
   "outputs": [],
   "source": [
    "import ipdb\n",
    "# Get A and B and EA and EB\n",
    "A = set()\n",
    "EA = set()\n",
    "EA_p = set()\n",
    "for line in file_info:\n",
    "    if line['properties']['Id'] != 0:\n",
    "        old_coord = None\n",
    "        for coord in line['geometry']['coordinates']:\n",
    "            coord = (round(coord[0],3),round(coord[1],3))\n",
    "            A.add(coord)\n",
    "            if old_coord != None:\n",
    "                EA.add((old_coord,coord))\n",
    "            old_coord = coord\n",
    "        \n",
    "B = nodes\n",
    "EB = list(zip(*edges))[0]\n",
    "EB = set([(B[node[0]],B[node[1]]) for node in EB])\n",
    "B_A = set([node for node in B if node not in A])\n",
    "\n",
    "\n",
    "T = [edge for edge in EB if (edge[0] in A and edge[1] in B_A) or (edge[0] in B_A and edge[1] in A)]\n",
    "while len(T) > 0:\n",
    "    #ipdb.set_trace()\n",
    "    n = T[0]\n",
    "    if n[1] in B_A:\n",
    "        y = n[1]\n",
    "        x = n[0]\n",
    "    else:\n",
    "        y = n[0]\n",
    "        x = n[1]\n",
    "      \n",
    "    E_x_A = [edge for edge in EA if x in edge and edge[0] != edge[1]]\n",
    "    \n",
    "    minimum_d = float('inf')\n",
    "    minimum_edge = None\n",
    "    for m in E_x_A:\n",
    "        if minimum_d > d(m,y):\n",
    "            minimum_d = d(m,y)\n",
    "            minimum_edge = m\n",
    "            \n",
    "    z = None\n",
    "    if minimum_edge[0] == x: z = minimum_edge[1]\n",
    "    else: z = minimum_edge[0]\n",
    "        \n",
    "    A.add(y)\n",
    "    EA.remove(minimum_edge)\n",
    "    EA_p.add(minimum_edge)\n",
    "    EA.add(n)\n",
    "    EA.add((y,z))\n",
    "    new_ones.add((n,minimum_edge))\n",
    "    \n",
    "    B_A = set([node for node in B if node not in A])\n",
    "    T = [node for node in EB if (node[0] in A and node[1] in B_A) or (node[0] in B_A and node[1] in A)]"
   ]
  },
  {
   "cell_type": "code",
   "execution_count": 18,
   "metadata": {
    "collapsed": true
   },
   "outputs": [],
   "source": [
    "to_change = []\n",
    "for news in new_ones:\n",
    "    for line in file_info:\n",
    "        tmp = line['geometry']['coordinates']\n",
    "        tmp = [(round(coord[0],3),round(coord[1],3)) for coord in tmp]\n",
    "        if news[1][0] in tmp and  news[1][1] in tmp :\n",
    "            to_change.append((list(zip(*edges))[0].index((nodes.index(news[0][0]),nodes.index(news[0][1]))),line['properties']['Id']))\n",
    "            break"
   ]
  },
  {
   "cell_type": "code",
   "execution_count": 19,
   "metadata": {
    "collapsed": true
   },
   "outputs": [],
   "source": [
    "edges2 = []\n",
    "for edge in edges:\n",
    "    capacity = edge[2]\n",
    "    if edges.index(edge) in list(zip(*to_change))[0]:\n",
    "        capacity = to_change[list(zip(*to_change))[0].index(edges.index(edge))][1]\n",
    "    edges2.append((edge[0],edge[1],capacity))"
   ]
  },
  {
   "cell_type": "code",
   "execution_count": 23,
   "metadata": {
    "collapsed": true
   },
   "outputs": [],
   "source": [
    "edges = "
   ]
  },
  {
   "cell_type": "markdown",
   "metadata": {},
   "source": [
    "## Normalizing the cost of the edges"
   ]
  },
  {
   "cell_type": "code",
   "execution_count": 33,
   "metadata": {},
   "outputs": [],
   "source": [
    "length_max = max(list(zip(*edges))[1])\n",
    "length_min = min(list(zip(*edges))[1])\n",
    "\n",
    "# normalizing length\n",
    "edges_norm = [(edges.index(edge),edge[0],(edge[1]-length_min)/(length_max-length_min),edge[2]) for edge in edges]"
   ]
  },
  {
   "cell_type": "markdown",
   "metadata": {},
   "source": [
    "## Exporting results to csv"
   ]
  },
  {
   "cell_type": "code",
   "execution_count": 34,
   "metadata": {
    "collapsed": true
   },
   "outputs": [],
   "source": [
    "# Writing csv\n",
    "import csv\n",
    "\n",
    "# vertices\n",
    "with open(\"vertices.csv\", \"w\") as output:\n",
    "    writer = csv.writer(output, lineterminator='\\n')\n",
    "    for val in nodes_norm:\n",
    "        writer.writerow([val[0],val[1][0],val[1][1]])\n",
    "        \n",
    "# edges\n",
    "with open(\"edges.csv\", \"w\") as output:\n",
    "    writer = csv.writer(output, lineterminator='\\n')\n",
    "    for val in edges_norm:\n",
    "        writer.writerow([val[0], val[1][0], val[1][1], val[2], val[3]])\n",
    "\n",
    "copyfile('edges.csv', '../../streets/edges.csv');\n",
    "copyfile('vertices.csv', '../../streets/vertices.csv');"
   ]
  },
  {
   "cell_type": "code",
   "execution_count": null,
   "metadata": {
    "collapsed": true
   },
   "outputs": [],
   "source": []
  }
 ],
 "metadata": {
  "kernelspec": {
   "display_name": "Python 3",
   "language": "python",
   "name": "python3"
  },
  "language_info": {
   "codemirror_mode": {
    "name": "ipython",
    "version": 3
   },
   "file_extension": ".py",
   "mimetype": "text/x-python",
   "name": "python",
   "nbconvert_exporter": "python",
   "pygments_lexer": "ipython3",
   "version": "3.5.2"
  }
 },
 "nbformat": 4,
 "nbformat_minor": 2
}
