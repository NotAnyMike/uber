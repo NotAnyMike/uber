{
 "cells": [
  {
   "cell_type": "markdown",
   "metadata": {},
   "source": [
    "# SHP2CSV algorithm\n",
    "## Importing libraries"
   ]
  },
  {
   "cell_type": "code",
   "execution_count": 5,
   "metadata": {
    "collapsed": true
   },
   "outputs": [],
   "source": [
    "from shapely.geometry import shape\n",
    "from shapely.ops import unary_union\n",
    "import fiona\n",
    "import networkx as nx\n",
    "import itertools\n",
    "import matplotlib.pyplot as plt"
   ]
  },
  {
   "cell_type": "markdown",
   "metadata": {},
   "source": [
    "## Importing and reading shp file"
   ]
  },
  {
   "cell_type": "code",
   "execution_count": 6,
   "metadata": {
    "collapsed": true,
    "scrolled": true
   },
   "outputs": [],
   "source": [
    "geoms =[shape(feature['geometry']) for feature in fiona.open(\"shp/Prueba2.shp\") if feature['geometry'] != None]"
   ]
  },
  {
   "cell_type": "markdown",
   "metadata": {},
   "source": [
    "## Converting `geoms` into a planar graph"
   ]
  },
  {
   "cell_type": "code",
   "execution_count": 7,
   "metadata": {
    "collapsed": true
   },
   "outputs": [],
   "source": [
    "res = unary_union(geoms)"
   ]
  },
  {
   "cell_type": "markdown",
   "metadata": {},
   "source": [
    "## Creating a Graph object in order to print it\n",
    "this part of the code is not needed, it is just for having an idea of the graph that is going to be exported"
   ]
  },
  {
   "cell_type": "code",
   "execution_count": 8,
   "metadata": {},
   "outputs": [],
   "source": [
    "G = nx.Graph()\n",
    "for line in res:\n",
    "    for seg_start, seg_end in itertools.izip(list(line.coords),list(line.coords)[1:]):\n",
    "        G.add_edge(seg_start, seg_end)"
   ]
  },
  {
   "cell_type": "markdown",
   "metadata": {},
   "source": [
    "## Plotting the graph"
   ]
  },
  {
   "cell_type": "code",
   "execution_count": 10,
   "metadata": {},
   "outputs": [
    {
     "data": {
      "image/png": "[encoded data removed]",
      "text/plain": [
       "<matplotlib.figure.Figure at 0x1029e13d0>"
      ]
     },
     "metadata": {},
     "output_type": "display_data"
    }
   ],
   "source": [
    "nx.draw(G)\n",
    "plt.show()"
   ]
  },
  {
   "cell_type": "markdown",
   "metadata": {},
   "source": [
    "## Creating sets"
   ]
  },
  {
   "cell_type": "code",
   "execution_count": 11,
   "metadata": {
    "collapsed": true
   },
   "outputs": [],
   "source": [
    "y = set()\n",
    "x = set()\n",
    "lengths = set()\n",
    "\n",
    "nodes = set()\n",
    "edges = set()\n",
    "\n",
    "nodes_norm = list()\n",
    "edges_norm = set()"
   ]
  },
  {
   "cell_type": "markdown",
   "metadata": {},
   "source": [
    "## Creating a list of nodes"
   ]
  },
  {
   "cell_type": "code",
   "execution_count": 12,
   "metadata": {
    "collapsed": true
   },
   "outputs": [],
   "source": [
    "for line in res:\n",
    "    for node in line.coords:\n",
    "        nodes.add(node)\n",
    "        x.add(node[0])\n",
    "        y.add(node[1])\n",
    "\n",
    "nodes = list(nodes)"
   ]
  },
  {
   "cell_type": "markdown",
   "metadata": {},
   "source": [
    "## Normalizing the nodes coordinates"
   ]
  },
  {
   "cell_type": "code",
   "execution_count": 13,
   "metadata": {
    "collapsed": true
   },
   "outputs": [],
   "source": [
    "# Getting the max and min for x and y axis\n",
    "x_max = max(x)\n",
    "x_min = min(x)\n",
    "y_max = max(y)\n",
    "y_min = min(y)\n",
    "\n",
    "# Normalizing\n",
    "\n",
    "for node in nodes:\n",
    "    node = (nodes.index(node),(node[0]-x_min)/(x_max-x_min),(node[1]-y_min)/(y_max-y_min))\n",
    "    nodes_norm.append(node)"
   ]
  },
  {
   "cell_type": "markdown",
   "metadata": {},
   "source": [
    "## Creating a list of edges"
   ]
  },
  {
   "cell_type": "code",
   "execution_count": 14,
   "metadata": {
    "collapsed": true
   },
   "outputs": [],
   "source": [
    "for line in res:\n",
    "    edge = (nodes.index(line.coords[0]),nodes.index(line.coords[1]),line.length)\n",
    "    lengths.add(line.length)\n",
    "    edges.add(edge)\n",
    "    \n",
    "edges = list(edges)"
   ]
  },
  {
   "cell_type": "markdown",
   "metadata": {},
   "source": [
    "## Normalizing the cost of the edges"
   ]
  },
  {
   "cell_type": "code",
   "execution_count": 15,
   "metadata": {
    "collapsed": true
   },
   "outputs": [],
   "source": [
    "length_max = max(lengths)\n",
    "length_min = min(lengths)\n",
    "\n",
    "# normalizing length\n",
    "for edge in edges:\n",
    "    edge2 = (edges.index(edge),edge[0],edge[1],(edge[2]-length_min)/(length_max-length_min))\n",
    "    edges_norm.add(edge2)"
   ]
  },
  {
   "cell_type": "markdown",
   "metadata": {},
   "source": [
    "## printing results"
   ]
  },
  {
   "cell_type": "code",
   "execution_count": 16,
   "metadata": {},
   "outputs": [
    {
     "data": {
      "text/plain": [
       "[(0, 0.32363003521750056, 0.6312727351354092),\n",
       " (1, 0.3248590221792069, 0.9081037896071849),\n",
       " (2, 1.0, 0.6306306306317561),\n",
       " (3, 0.3218168641119769, 0.22285337454025136),\n",
       " (4, 0.6573198506264817, 0.6309559503216924),\n",
       " (5, 0.6573198506264817, 1.0),\n",
       " (6, 0.0, 0.6315799698057089),\n",
       " (7, 0.6573198506264817, 0.0)]"
      ]
     },
     "execution_count": 16,
     "metadata": {},
     "output_type": "execute_result"
    }
   ],
   "source": [
    "nodes_norm"
   ]
  },
  {
   "cell_type": "code",
   "execution_count": 17,
   "metadata": {},
   "outputs": [
    {
     "data": {
      "text/plain": [
       "{(0, 4, 2, 0.4393903585361519),\n",
       " (1, 4, 5, 0.2603877425717973),\n",
       " (2, 7, 4, 1.0),\n",
       " (3, 0, 3, 0.3715976676087504),\n",
       " (4, 0, 4, 0.40735318994938413),\n",
       " (5, 1, 0, 0.0),\n",
       " (6, 6, 0, 0.37150503623100567)}"
      ]
     },
     "execution_count": 17,
     "metadata": {},
     "output_type": "execute_result"
    }
   ],
   "source": [
    "edges_norm"
   ]
  },
  {
   "cell_type": "markdown",
   "metadata": {},
   "source": [
    "## Exporting results to csv"
   ]
  },
  {
   "cell_type": "code",
   "execution_count": 18,
   "metadata": {
    "collapsed": true
   },
   "outputs": [],
   "source": [
    "# Writing csv\n",
    "import csv\n",
    "\n",
    "# vertices\n",
    "with open(\"vertices.csv\", \"w\") as output:\n",
    "    writer = csv.writer(output, lineterminator='\\n')\n",
    "    for val in nodes_norm:\n",
    "        writer.writerow(val)\n",
    "        \n",
    "# edges\n",
    "with open(\"edges.csv\", \"w\") as output:\n",
    "    writer = csv.writer(output, lineterminator='\\n')\n",
    "    for val in edges_norm:\n",
    "        writer.writerow(val)\n"
   ]
  },
  {
   "cell_type": "code",
   "execution_count": null,
   "metadata": {
    "collapsed": true
   },
   "outputs": [],
   "source": []
  }
 ],
 "metadata": {
  "kernelspec": {
   "display_name": "Python 2",
   "language": "python",
   "name": "python2"
  },
  "language_info": {
   "codemirror_mode": {
    "name": "ipython",
    "version": 2
   },
   "file_extension": ".py",
   "mimetype": "text/x-python",
   "name": "python",
   "nbconvert_exporter": "python",
   "pygments_lexer": "ipython2",
   "version": "2.7.10"
  }
 },
 "nbformat": 4,
 "nbformat_minor": 2
}
