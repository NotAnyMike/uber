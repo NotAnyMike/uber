{
 "cells": [
  {
   "cell_type": "code",
   "execution_count": 1,
   "metadata": {
    "collapsed": true
   },
   "outputs": [],
   "source": [
    "import pandas as pd\n",
    "import numpy as np\n",
    "from matplotlib import pyplot as plt\n",
    "\n",
    "%matplotlib inline"
   ]
  },
  {
   "cell_type": "code",
   "execution_count": 7,
   "metadata": {
    "collapsed": true
   },
   "outputs": [],
   "source": [
    "pd.options.display.max_columns = 100"
   ]
  },
  {
   "cell_type": "code",
   "execution_count": 18,
   "metadata": {},
   "outputs": [],
   "source": [
    "df = pd.read_csv('encuesta.csv')"
   ]
  },
  {
   "cell_type": "code",
   "execution_count": 19,
   "metadata": {},
   "outputs": [],
   "source": [
    "del df['FACTOR_AJUSTE']\n",
    "del df['FACTOR_AJUSTE_TRANSMILENIO']\n",
    "del df['PI_K_I']\n",
    "del df['PI_K_II']\n",
    "del df['PI_K_III']\n",
    "del df['FE_TOTAL']\n",
    "del df['PONDERADOR_CALIBRADO_VIAJES']\n",
    "del df['PONDERADOR_CALIBRADO']"
   ]
  },
  {
   "cell_type": "code",
   "execution_count": 33,
   "metadata": {},
   "outputs": [
    {
     "data": {
      "text/html": [
       "<div>\n",
       "<style scoped>\n",
       "    .dataframe tbody tr th:only-of-type {\n",
       "        vertical-align: middle;\n",
       "    }\n",
       "\n",
       "    .dataframe tbody tr th {\n",
       "        vertical-align: top;\n",
       "    }\n",
       "\n",
       "    .dataframe thead th {\n",
       "        text-align: right;\n",
       "    }\n",
       "</style>\n",
       "<table border=\"1\" class=\"dataframe\">\n",
       "  <thead>\n",
       "    <tr style=\"text-align: right;\">\n",
       "      <th></th>\n",
       "      <th>ID_ENCUESTA</th>\n",
       "      <th>NUMERO_PERSONA</th>\n",
       "      <th>NUMERO_VIAJE</th>\n",
       "      <th>MOTIVOVIAJE</th>\n",
       "      <th>MUNICIPIO_DESTINO</th>\n",
       "      <th>DEPARTAMENTO_DESTINO</th>\n",
       "      <th>TIEMPO_CAMINO</th>\n",
       "      <th>HORA_INICIO</th>\n",
       "      <th>HORA_FIN</th>\n",
       "      <th>MEDIO_PREDOMINANTE</th>\n",
       "      <th>ZAT_DESTINO</th>\n",
       "      <th>ZAT_ORIGEN</th>\n",
       "      <th>MUNICIPIO_ORIGEN</th>\n",
       "      <th>DEPARTAMENTO_ORIGEN</th>\n",
       "      <th>LATITUD_ORIGEN</th>\n",
       "      <th>LATITUD_DESTINO</th>\n",
       "      <th>LONGITUD_ORIGEN</th>\n",
       "      <th>LONGITUD_DESTINO</th>\n",
       "      <th>DIFERENCIA_HORAS</th>\n",
       "      <th>DIA_HABIL</th>\n",
       "      <th>DIA_NOHABIL</th>\n",
       "      <th>PICO_HABIL</th>\n",
       "      <th>PICO_NOHABIL</th>\n",
       "      <th>VALLE_NOHABIL</th>\n",
       "      <th>VALLE_HABIL</th>\n",
       "    </tr>\n",
       "  </thead>\n",
       "  <tbody>\n",
       "    <tr>\n",
       "      <th>0</th>\n",
       "      <td>18390069</td>\n",
       "      <td>2</td>\n",
       "      <td>1</td>\n",
       "      <td>Tramites</td>\n",
       "      <td>BOGOTA-DC 11001</td>\n",
       "      <td>Bogota D.C.</td>\n",
       "      <td>10.0</td>\n",
       "      <td>08:05:00</td>\n",
       "      <td>09:55:00</td>\n",
       "      <td>TPC-SITP</td>\n",
       "      <td>238.0</td>\n",
       "      <td>566.0</td>\n",
       "      <td>BOGOTA-DC 11001</td>\n",
       "      <td>Bogota D.C.</td>\n",
       "      <td>4.613055e+13</td>\n",
       "      <td>4.650268e+13</td>\n",
       "      <td>-7.419059e+13</td>\n",
       "      <td>-7.406759e+13</td>\n",
       "      <td>01:50:00</td>\n",
       "      <td>S</td>\n",
       "      <td>NaN</td>\n",
       "      <td>NaN</td>\n",
       "      <td>NaN</td>\n",
       "      <td>NaN</td>\n",
       "      <td>NaN</td>\n",
       "    </tr>\n",
       "  </tbody>\n",
       "</table>\n",
       "</div>"
      ],
      "text/plain": [
       "   ID_ENCUESTA  NUMERO_PERSONA  NUMERO_VIAJE MOTIVOVIAJE MUNICIPIO_DESTINO  \\\n",
       "0     18390069               2             1    Tramites   BOGOTA-DC 11001   \n",
       "\n",
       "  DEPARTAMENTO_DESTINO  TIEMPO_CAMINO HORA_INICIO  HORA_FIN  \\\n",
       "0          Bogota D.C.           10.0    08:05:00  09:55:00   \n",
       "\n",
       "  MEDIO_PREDOMINANTE  ZAT_DESTINO  ZAT_ORIGEN MUNICIPIO_ORIGEN  \\\n",
       "0           TPC-SITP        238.0       566.0  BOGOTA-DC 11001   \n",
       "\n",
       "  DEPARTAMENTO_ORIGEN  LATITUD_ORIGEN  LATITUD_DESTINO  LONGITUD_ORIGEN  \\\n",
       "0         Bogota D.C.    4.613055e+13     4.650268e+13    -7.419059e+13   \n",
       "\n",
       "   LONGITUD_DESTINO DIFERENCIA_HORAS DIA_HABIL DIA_NOHABIL PICO_HABIL  \\\n",
       "0     -7.406759e+13         01:50:00         S         NaN        NaN   \n",
       "\n",
       "  PICO_NOHABIL VALLE_NOHABIL VALLE_HABIL  \n",
       "0          NaN           NaN         NaN  "
      ]
     },
     "execution_count": 33,
     "metadata": {},
     "output_type": "execute_result"
    }
   ],
   "source": [
    "df[:1]"
   ]
  },
  {
   "cell_type": "code",
   "execution_count": 32,
   "metadata": {},
   "outputs": [
    {
     "data": {
      "text/plain": [
       "PEATON                            49313\n",
       "TPC-SITP                          28653\n",
       "Transmilenio                      16952\n",
       "AUTO                              15932\n",
       "BICICLETA, BICICLETA CON MOTOR     9260\n",
       "ESPECIAL                           7097\n",
       "MOTO                               6849\n",
       "INTERMUNICIPAL                     5841\n",
       "TAXI                               4619\n",
       "ALIMENTADOR                        1075\n",
       "ILEGAL                              916\n",
       "OTROS                               744\n",
       "Name: MEDIO_PREDOMINANTE, dtype: int64"
      ]
     },
     "execution_count": 32,
     "metadata": {},
     "output_type": "execute_result"
    }
   ],
   "source": [
    "df.MEDIO_PREDOMINANTE.value_counts(dropna=False, normalize=False)"
   ]
  },
  {
   "cell_type": "code",
   "execution_count": 37,
   "metadata": {},
   "outputs": [
    {
     "data": {
      "text/plain": [
       "array(['BOGOTA-DC 11001', 'Otro', 'MOSQUERA-cundinamarca 25473',\n",
       "       'SOACHA-cundinamarca 25754', 'MADRID-cundinamarca 25430',\n",
       "       'FUNZA-cundinamarca 25286', 'CAJICA-cundinamarca 25126',\n",
       "       'TENJO-cundinamarca 25799', 'TOCANCIPA-cundinamarca 25817',\n",
       "       'CHIA-cundinamarca 25175', 'COTA-cundinamarca 25214',\n",
       "       'SIBATE-cundinamarca 25740', 'ZIPAQUIRA-cundinamarca 25899',\n",
       "       'BOJACA-cundinamarca 25099', 'FACATATIVA-cundinamarca 25269',\n",
       "       'SOPO-cundinamarca 25758', 'TABIO-cundinamarca 25785',\n",
       "       'LA CALERA 25377', 'GACHANCIPA-cundinamarca 25295'], dtype=object)"
      ]
     },
     "execution_count": 37,
     "metadata": {},
     "output_type": "execute_result"
    }
   ],
   "source": [
    "df.MUNICIPIO_ORIGEN.unique()"
   ]
  },
  {
   "cell_type": "code",
   "execution_count": 40,
   "metadata": {},
   "outputs": [
    {
     "data": {
      "text/plain": [
       "[<matplotlib.lines.Line2D at 0x10db71fd0>]"
      ]
     },
     "execution_count": 40,
     "metadata": {},
     "output_type": "execute_result"
    },
    {
     "data": {
      "image/png": "[encoded data removed]",
      "text/plain": [
       "<matplotlib.figure.Figure at 0x10c6c4f10>"
      ]
     },
     "metadata": {},
     "output_type": "display_data"
    }
   ],
   "source": [
    "plt.plot(df.loc[(df.MUNICIPIO_ORIGEN.str.contains('BOGOTA') == True) & (df.MEDIO_PREDOMINANTE == 'TAXI'), 'LATITUD_ORIGEN'], df.loc[(df.MUNICIPIO_ORIGEN.str.contains(\"BOGOTA\") == True) & (df.MEDIO_PREDOMINANTE == 'TAXI'), 'LONGITUD_ORIGEN'], '.')"
   ]
  },
  {
   "cell_type": "code",
   "execution_count": 44,
   "metadata": {},
   "outputs": [
    {
     "data": {
      "text/plain": [
       "<matplotlib.axes._subplots.AxesSubplot at 0x10de6ab90>"
      ]
     },
     "execution_count": 44,
     "metadata": {},
     "output_type": "execute_result"
    },
    {
     "data": {
      "image/png": "[encoded data removed]",
      "text/plain": [
       "<matplotlib.figure.Figure at 0x10de6a450>"
      ]
     },
     "metadata": {},
     "output_type": "display_data"
    }
   ],
   "source": [
    "df.loc[(df.MUNICIPIO_ORIGEN.str.contains('BOGOTA') == True) & (df.MEDIO_PREDOMINANTE == 'TAXI'), 'LATITUD_ORIGEN'].hist(bins=[0,0.1,0.2,0.3])"
   ]
  },
  {
   "cell_type": "code",
   "execution_count": null,
   "metadata": {
    "collapsed": true
   },
   "outputs": [],
   "source": []
  }
 ],
 "metadata": {
  "kernelspec": {
   "display_name": "Python 2",
   "language": "python",
   "name": "python2"
  },
  "language_info": {
   "codemirror_mode": {
    "name": "ipython",
    "version": 2
   },
   "file_extension": ".py",
   "mimetype": "text/x-python",
   "name": "python",
   "nbconvert_exporter": "python",
   "pygments_lexer": "ipython2",
   "version": "2.7.10"
  }
 },
 "nbformat": 4,
 "nbformat_minor": 2
}
